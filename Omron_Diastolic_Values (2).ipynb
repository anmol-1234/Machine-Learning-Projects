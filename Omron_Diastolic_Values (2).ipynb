{
  "cells": [
    {
      "cell_type": "code",
      "execution_count": 1,
      "metadata": {
        "id": "6c0dS35DSps5"
      },
      "outputs": [],
      "source": [
        "# ✅ Import Required Libraries\n",
        "import os\n",
        "import numpy as np\n",
        "import pandas as pd\n",
        "import tensorflow as tf\n",
        "from tensorflow.keras.models import Sequential\n",
        "from tensorflow.keras.layers import GRU, Dense, Dropout, BatchNormalization, Input\n",
        "from tensorflow.keras.optimizers import Adam\n",
        "from sklearn.preprocessing import MinMaxScaler, LabelEncoder\n",
        "from sklearn.model_selection import train_test_split\n",
        "from sklearn.metrics import mean_squared_error, mean_absolute_error\n",
        "import joblib\n",
        "import matplotlib.pyplot as plt\n"
      ]
    },
    {
      "cell_type": "code",
      "execution_count": 2,
      "metadata": {
        "colab": {
          "base_uri": "https://localhost:8080/"
        },
        "id": "lU709se9TOB3",
        "outputId": "f44cd9c9-d6a4-4a79-af8c-200732432f56"
      },
      "outputs": [
        {
          "output_type": "stream",
          "name": "stdout",
          "text": [
            "Mounted at /content/drive\n"
          ]
        }
      ],
      "source": [
        "\n",
        "from google.colab import drive\n",
        "drive.mount('/content/drive')\n"
      ]
    },
    {
      "cell_type": "code",
      "execution_count": 3,
      "metadata": {
        "id": "tj2HnldJTeg_"
      },
      "outputs": [],
      "source": [
        "# ✅ Enable Mixed Precision for Faster Computation\n",
        "tf.keras.mixed_precision.set_global_policy('mixed_float16')\n"
      ]
    },
    {
      "cell_type": "code",
      "execution_count": 4,
      "metadata": {
        "id": "rtLoJKoOqyKj"
      },
      "outputs": [],
      "source": [
        "# ✅ Define Paths\n",
        "reference_file = \"/content/drive/MyDrive/Jan 4/Reference_Output_Until_Jan02_2025 (4).csv\"\n",
        "predictor_folder = \"/content/drive/MyDrive/Jan 4/5000_X_12_Until_Jan02_2025\"\n",
        "\n"
      ]
    },
    {
      "cell_type": "code",
      "execution_count": 5,
      "metadata": {
        "id": "-nlgbyYNrusm"
      },
      "outputs": [],
      "source": [
        "reference_df = pd.read_csv(reference_file)  # Columns: Reading_File_Name, A, B, reading_id, gender, etc."
      ]
    },
    {
      "cell_type": "code",
      "execution_count": 6,
      "metadata": {
        "id": "5WJO-Ow5r5ZF"
      },
      "outputs": [],
      "source": [
        "# ✅ Extract Target (Omron Diastolic)\n",
        "y = reference_df[['Omron Diastolic']].to_numpy(dtype=np.float32)\n"
      ]
    },
    {
      "cell_type": "code",
      "execution_count": 7,
      "metadata": {
        "id": "rbWVMRZAtMG0"
      },
      "outputs": [],
      "source": [
        "# ✅ Normalize Target Values\n",
        "from sklearn.preprocessing import StandardScaler\n",
        "target_scaler = StandardScaler()\n",
        "y_scaled = target_scaler.fit_transform(y)\n"
      ]
    },
    {
      "cell_type": "code",
      "execution_count": 8,
      "metadata": {
        "colab": {
          "base_uri": "https://localhost:8080/"
        },
        "id": "3IoXlAOrsDdn",
        "outputId": "05d5fc37-fdc6-4590-cc93-e76d9105f6dd"
      },
      "outputs": [
        {
          "output_type": "execute_result",
          "data": {
            "text/plain": [
              "['/content/drive/MyDrive/pkl files/target_scaler18.pkl']"
            ]
          },
          "metadata": {},
          "execution_count": 8
        }
      ],
      "source": [
        "# Save target scaler\n",
        "joblib.dump(target_scaler, \"/content/drive/MyDrive/pkl files/target_scaler18.pkl\")\n"
      ]
    },
    {
      "cell_type": "code",
      "execution_count": 9,
      "metadata": {
        "id": "beXaoJLpsqkl"
      },
      "outputs": [],
      "source": [
        "# ✅ Load and Process Predictor Files in a Single Pass\n",
        "aggregated_data = []\n",
        "predictor_files = sorted([f for f in os.listdir(predictor_folder) if f.endswith(\".csv\")])\n",
        "\n"
      ]
    },
    {
      "cell_type": "code",
      "execution_count": 10,
      "metadata": {
        "id": "Mne3y9_Cwync"
      },
      "outputs": [],
      "source": [
        "for file in predictor_files:\n",
        "    df = pd.read_csv(os.path.join(predictor_folder, file), dtype=np.float32)\n",
        "\n",
        "    # Handle missing values\n",
        "    df.fillna(df.median(numeric_only=True), inplace=True)\n",
        "\n",
        "    aggregated_data.append(df.to_numpy(dtype=np.float32))\n",
        "\n",
        "\n"
      ]
    },
    {
      "cell_type": "code",
      "execution_count": 11,
      "metadata": {
        "id": "zsa2VKsN1bFV"
      },
      "outputs": [],
      "source": [
        "# ✅ Convert to NumPy Array\n",
        "X = np.array(aggregated_data, dtype=np.float32)\n"
      ]
    },
    {
      "cell_type": "code",
      "execution_count": 12,
      "metadata": {
        "id": "z0j3TdXH1y6J"
      },
      "outputs": [],
      "source": [
        "# ✅ Ensure Proper Shape for GRU (samples, timesteps, features)\n",
        "X = X.reshape(X.shape[0], X.shape[1], X.shape[2])\n"
      ]
    },
    {
      "cell_type": "code",
      "execution_count": 13,
      "metadata": {
        "id": "acFNgUmaVSIR"
      },
      "outputs": [],
      "source": [
        "X_2D = X.reshape(-1,X.shape[2])\n"
      ]
    },
    {
      "cell_type": "code",
      "execution_count": 14,
      "metadata": {
        "id": "eHbL2UQ3VbIy"
      },
      "outputs": [],
      "source": [
        "from sklearn.preprocessing import StandardScaler\n",
        "scaler = StandardScaler()\n",
        "X_scaled = scaler.fit_transform(X_2D)\n"
      ]
    },
    {
      "cell_type": "code",
      "execution_count": 15,
      "metadata": {
        "id": "8WVoc7FjWQ50"
      },
      "outputs": [],
      "source": [
        "X_3D = X_scaled.reshape(X.shape[0], X.shape[1], X.shape[2])"
      ]
    },
    {
      "cell_type": "code",
      "execution_count": 16,
      "metadata": {
        "id": "G12ec3mv16Yk"
      },
      "outputs": [],
      "source": [
        "# ✅ Split Data (20% Test, 80% Train)\n",
        "X_3Dtrain, X_3Dtest, y_train, y_test = train_test_split(X_3D, y_scaled, test_size=0.2, random_state=42)\n",
        "\n",
        "\n"
      ]
    },
    {
      "cell_type": "code",
      "execution_count": 17,
      "metadata": {
        "colab": {
          "base_uri": "https://localhost:8080/"
        },
        "id": "v3-P8Jz6clUW",
        "outputId": "e7736b27-c0a2-48ae-bedb-a013453db0b0"
      },
      "outputs": [
        {
          "output_type": "execute_result",
          "data": {
            "text/plain": [
              "(108, 5000, 12)"
            ]
          },
          "metadata": {},
          "execution_count": 17
        }
      ],
      "source": [
        "X_3Dtest.shape"
      ]
    },
    {
      "cell_type": "code",
      "execution_count": 18,
      "metadata": {
        "colab": {
          "base_uri": "https://localhost:8080/"
        },
        "id": "PQTdUL_XcyCl",
        "outputId": "78e90470-0105-432b-c88a-c71350a1ca2f"
      },
      "outputs": [
        {
          "output_type": "execute_result",
          "data": {
            "text/plain": [
              "array([[ 0.8159395 ],\n",
              "       [-0.49639365],\n",
              "       [ 0.53472525],\n",
              "       [-0.49639365],\n",
              "       [-1.3400364 ],\n",
              "       [ 0.8159395 ],\n",
              "       [ 0.44098717],\n",
              "       [ 0.06603482],\n",
              "       [ 0.06603482],\n",
              "       [-1.0588222 ],\n",
              "       [ 0.34724906],\n",
              "       [-1.3400364 ],\n",
              "       [-1.5275127 ],\n",
              "       [-0.68386984],\n",
              "       [-0.68386984],\n",
              "       [-1.2462983 ],\n",
              "       [-1.3400364 ],\n",
              "       [ 0.06603482],\n",
              "       [ 0.06603482],\n",
              "       [-1.1525602 ],\n",
              "       [-0.7776079 ],\n",
              "       [ 0.25351098],\n",
              "       [ 0.34724906],\n",
              "       [-1.2462983 ],\n",
              "       [-0.12144134],\n",
              "       [ 2.0345345 ],\n",
              "       [ 1.6595821 ],\n",
              "       [-0.40265557],\n",
              "       [-1.5275127 ],\n",
              "       [-0.49639365],\n",
              "       [ 0.8159395 ],\n",
              "       [-0.49639365],\n",
              "       [ 0.6284633 ],\n",
              "       [-0.49639365],\n",
              "       [ 0.6284633 ],\n",
              "       [-1.2462983 ],\n",
              "       [-0.871346  ],\n",
              "       [ 0.1597729 ],\n",
              "       [-0.68386984],\n",
              "       [ 0.44098717],\n",
              "       [-0.49639365],\n",
              "       [-0.59013176],\n",
              "       [ 0.44098717],\n",
              "       [-0.7776079 ],\n",
              "       [ 1.0034157 ],\n",
              "       [ 0.7222014 ],\n",
              "       [ 1.0971538 ],\n",
              "       [-0.9650841 ],\n",
              "       [-0.02770326],\n",
              "       [-0.02770326],\n",
              "       [-0.9650841 ],\n",
              "       [-1.6212507 ],\n",
              "       [-1.8087269 ],\n",
              "       [-0.59013176],\n",
              "       [ 0.25351098],\n",
              "       [-0.871346  ],\n",
              "       [ 0.7222014 ],\n",
              "       [ 1.1908919 ],\n",
              "       [ 0.44098717],\n",
              "       [ 0.90967757],\n",
              "       [ 0.44098717],\n",
              "       [-0.40265557],\n",
              "       [-1.2462983 ],\n",
              "       [ 2.5032248 ],\n",
              "       [ 0.44098717],\n",
              "       [-0.49639365],\n",
              "       [-1.5275127 ],\n",
              "       [ 0.1597729 ],\n",
              "       [-0.30891752],\n",
              "       [ 0.34724906],\n",
              "       [ 1.0034157 ],\n",
              "       [-0.21517944],\n",
              "       [-0.30891752],\n",
              "       [ 0.34724906],\n",
              "       [-1.1525602 ],\n",
              "       [-0.30891752],\n",
              "       [-0.59013176],\n",
              "       [ 0.6284633 ],\n",
              "       [-0.12144134],\n",
              "       [ 1.0034157 ],\n",
              "       [-0.30891752],\n",
              "       [ 0.90967757],\n",
              "       [ 0.06603482],\n",
              "       [ 0.8159395 ],\n",
              "       [ 1.0034157 ],\n",
              "       [-1.902465  ],\n",
              "       [-0.12144134],\n",
              "       [ 0.8159395 ],\n",
              "       [ 0.06603482],\n",
              "       [-0.68386984],\n",
              "       [-0.12144134],\n",
              "       [ 0.6284633 ],\n",
              "       [-0.40265557],\n",
              "       [-1.2462983 ],\n",
              "       [-0.21517944],\n",
              "       [-0.59013176],\n",
              "       [ 0.06603482],\n",
              "       [-1.0588222 ],\n",
              "       [-1.0588222 ],\n",
              "       [-0.40265557],\n",
              "       [-1.9962031 ],\n",
              "       [-0.59013176],\n",
              "       [-1.0588222 ],\n",
              "       [-1.5275127 ],\n",
              "       [-0.12144134],\n",
              "       [-0.871346  ],\n",
              "       [-0.30891752],\n",
              "       [ 1.0034157 ],\n",
              "       [ 0.6284633 ],\n",
              "       [ 0.25351098],\n",
              "       [-0.12144134],\n",
              "       [ 1.7533202 ],\n",
              "       [ 2.5032248 ],\n",
              "       [ 0.90967757],\n",
              "       [ 0.1597729 ],\n",
              "       [-0.40265557],\n",
              "       [ 0.06603482],\n",
              "       [ 0.44098717],\n",
              "       [ 0.6284633 ],\n",
              "       [ 2.2220106 ],\n",
              "       [ 1.7533202 ],\n",
              "       [ 1.8470583 ],\n",
              "       [ 0.6284633 ],\n",
              "       [ 0.7222014 ],\n",
              "       [ 1.0034157 ],\n",
              "       [-1.9962031 ],\n",
              "       [ 0.06603482],\n",
              "       [-0.40265557],\n",
              "       [ 0.25351098],\n",
              "       [ 1.4721061 ],\n",
              "       [-0.68386984],\n",
              "       [-0.02770326],\n",
              "       [ 0.34724906],\n",
              "       [ 4.2842484 ],\n",
              "       [ 1.0034157 ],\n",
              "       [ 0.53472525],\n",
              "       [ 0.25351098],\n",
              "       [-0.49639365],\n",
              "       [ 2.8781772 ],\n",
              "       [-1.9962031 ],\n",
              "       [ 0.06603482],\n",
              "       [-1.2462983 ],\n",
              "       [-0.7776079 ],\n",
              "       [ 0.06603482],\n",
              "       [-0.49639365],\n",
              "       [-0.30891752],\n",
              "       [ 0.06603482],\n",
              "       [ 2.4094868 ],\n",
              "       [ 4.003034  ],\n",
              "       [ 1.378368  ],\n",
              "       [-0.49639365],\n",
              "       [-0.871346  ],\n",
              "       [-0.7776079 ],\n",
              "       [ 1.0971538 ],\n",
              "       [-0.7776079 ],\n",
              "       [-0.7776079 ],\n",
              "       [ 0.6284633 ],\n",
              "       [ 0.7222014 ],\n",
              "       [-1.1525602 ],\n",
              "       [-0.21517944],\n",
              "       [-2.0899413 ],\n",
              "       [ 2.2220106 ],\n",
              "       [-0.21517944],\n",
              "       [ 0.1597729 ],\n",
              "       [ 2.690701  ],\n",
              "       [ 0.8159395 ],\n",
              "       [ 0.44098717],\n",
              "       [ 0.25351098],\n",
              "       [-0.68386984],\n",
              "       [ 1.28463   ],\n",
              "       [-0.49639365],\n",
              "       [-1.3400364 ],\n",
              "       [ 1.0971538 ],\n",
              "       [ 1.378368  ],\n",
              "       [ 1.0034157 ],\n",
              "       [-0.30891752],\n",
              "       [-2.0899413 ],\n",
              "       [ 0.06603482],\n",
              "       [-0.21517944],\n",
              "       [-0.871346  ],\n",
              "       [ 0.06603482],\n",
              "       [ 0.25351098],\n",
              "       [ 0.44098717],\n",
              "       [-0.68386984],\n",
              "       [-0.49639365],\n",
              "       [-0.12144134],\n",
              "       [ 0.25351098],\n",
              "       [-0.9650841 ],\n",
              "       [-1.1525602 ],\n",
              "       [ 0.6284633 ],\n",
              "       [-0.30891752],\n",
              "       [-0.7776079 ],\n",
              "       [ 1.1908919 ],\n",
              "       [ 1.565844  ],\n",
              "       [ 1.6595821 ],\n",
              "       [-0.02770326],\n",
              "       [-1.0588222 ],\n",
              "       [-1.7149888 ],\n",
              "       [-0.7776079 ],\n",
              "       [-0.7776079 ],\n",
              "       [-0.68386984],\n",
              "       [-0.59013176],\n",
              "       [ 0.06603482],\n",
              "       [-0.21517944],\n",
              "       [-0.59013176],\n",
              "       [ 1.4721061 ],\n",
              "       [-1.6212507 ],\n",
              "       [ 1.0034157 ],\n",
              "       [ 0.34724906],\n",
              "       [-1.0588222 ],\n",
              "       [ 0.34724906],\n",
              "       [-0.49639365],\n",
              "       [ 0.8159395 ],\n",
              "       [-1.3400364 ],\n",
              "       [ 0.34724906],\n",
              "       [-1.2462983 ],\n",
              "       [-0.21517944],\n",
              "       [-0.02770326],\n",
              "       [-1.2462983 ],\n",
              "       [ 1.8470583 ],\n",
              "       [ 2.5032248 ],\n",
              "       [ 0.1597729 ],\n",
              "       [ 0.6284633 ],\n",
              "       [-1.2462983 ],\n",
              "       [ 0.1597729 ],\n",
              "       [-0.9650841 ],\n",
              "       [ 0.25351098],\n",
              "       [-0.49639365],\n",
              "       [-0.02770326],\n",
              "       [ 0.06603482],\n",
              "       [ 0.6284633 ],\n",
              "       [-0.30891752],\n",
              "       [ 0.1597729 ],\n",
              "       [-0.49639365],\n",
              "       [-0.68386984],\n",
              "       [ 0.1597729 ],\n",
              "       [-0.21517944],\n",
              "       [ 0.90967757],\n",
              "       [-0.59013176],\n",
              "       [ 0.34724906],\n",
              "       [-0.59013176],\n",
              "       [-0.30891752],\n",
              "       [-0.21517944],\n",
              "       [ 0.1597729 ],\n",
              "       [-0.21517944],\n",
              "       [ 2.1282725 ],\n",
              "       [-0.9650841 ],\n",
              "       [ 0.1597729 ],\n",
              "       [-0.9650841 ],\n",
              "       [-0.68386984],\n",
              "       [ 0.8159395 ],\n",
              "       [ 0.6284633 ],\n",
              "       [ 0.53472525],\n",
              "       [ 0.53472525],\n",
              "       [ 0.53472525],\n",
              "       [ 0.7222014 ],\n",
              "       [-0.49639365],\n",
              "       [-0.30891752],\n",
              "       [-0.68386984],\n",
              "       [-0.12144134],\n",
              "       [ 1.28463   ],\n",
              "       [ 1.8470583 ],\n",
              "       [-0.30891752],\n",
              "       [-1.3400364 ],\n",
              "       [-0.9650841 ],\n",
              "       [ 0.53472525],\n",
              "       [-1.1525602 ],\n",
              "       [ 0.44098717],\n",
              "       [ 0.1597729 ],\n",
              "       [ 0.34724906],\n",
              "       [-1.4337745 ],\n",
              "       [ 1.0971538 ],\n",
              "       [-0.12144134],\n",
              "       [ 1.7533202 ],\n",
              "       [-0.68386984],\n",
              "       [ 0.1597729 ],\n",
              "       [-0.02770326],\n",
              "       [ 0.53472525],\n",
              "       [-0.40265557],\n",
              "       [ 1.6595821 ],\n",
              "       [-0.68386984],\n",
              "       [-0.30891752],\n",
              "       [-0.7776079 ],\n",
              "       [-0.9650841 ],\n",
              "       [ 1.9407964 ],\n",
              "       [ 0.8159395 ],\n",
              "       [-0.68386984],\n",
              "       [-0.40265557],\n",
              "       [ 1.28463   ],\n",
              "       [-0.30891752],\n",
              "       [ 0.44098717],\n",
              "       [-0.9650841 ],\n",
              "       [-0.9650841 ],\n",
              "       [ 0.6284633 ],\n",
              "       [-1.5275127 ],\n",
              "       [ 2.784439  ],\n",
              "       [ 1.0034157 ],\n",
              "       [-0.21517944],\n",
              "       [-1.6212507 ],\n",
              "       [-0.21517944],\n",
              "       [-0.21517944],\n",
              "       [ 0.06603482],\n",
              "       [ 0.6284633 ],\n",
              "       [ 0.06603482],\n",
              "       [ 1.0971538 ],\n",
              "       [-0.40265557],\n",
              "       [ 0.6284633 ],\n",
              "       [ 0.8159395 ],\n",
              "       [-0.21517944],\n",
              "       [-0.30891752],\n",
              "       [-0.68386984],\n",
              "       [-0.871346  ],\n",
              "       [-1.5275127 ],\n",
              "       [-0.21517944],\n",
              "       [-0.9650841 ],\n",
              "       [-0.9650841 ],\n",
              "       [ 0.25351098],\n",
              "       [-0.40265557],\n",
              "       [-1.5275127 ],\n",
              "       [-1.1525602 ],\n",
              "       [ 0.90967757],\n",
              "       [-0.68386984],\n",
              "       [-0.49639365],\n",
              "       [ 1.9407964 ],\n",
              "       [-0.02770326],\n",
              "       [ 1.378368  ],\n",
              "       [ 0.1597729 ],\n",
              "       [-0.59013176],\n",
              "       [-0.9650841 ],\n",
              "       [ 2.0345345 ],\n",
              "       [ 1.7533202 ],\n",
              "       [-0.9650841 ],\n",
              "       [-0.59013176],\n",
              "       [ 2.2220106 ],\n",
              "       [-0.871346  ],\n",
              "       [ 0.34724906],\n",
              "       [-1.6212507 ],\n",
              "       [ 0.7222014 ],\n",
              "       [-1.2462983 ],\n",
              "       [-0.49639365],\n",
              "       [ 2.5032248 ],\n",
              "       [-0.21517944],\n",
              "       [-0.59013176],\n",
              "       [-0.9650841 ],\n",
              "       [-0.30891752],\n",
              "       [ 1.0034157 ],\n",
              "       [-0.7776079 ],\n",
              "       [-0.21517944],\n",
              "       [-0.21517944],\n",
              "       [-0.871346  ],\n",
              "       [ 3.7218199 ],\n",
              "       [-0.12144134],\n",
              "       [-0.40265557],\n",
              "       [ 0.34724906],\n",
              "       [-1.0588222 ],\n",
              "       [ 0.1597729 ],\n",
              "       [ 0.6284633 ],\n",
              "       [ 1.4721061 ],\n",
              "       [-0.40265557],\n",
              "       [-0.40265557],\n",
              "       [ 0.6284633 ],\n",
              "       [ 1.6595821 ],\n",
              "       [-0.49639365],\n",
              "       [ 0.7222014 ],\n",
              "       [-0.02770326],\n",
              "       [ 0.06603482],\n",
              "       [-1.3400364 ],\n",
              "       [ 1.7533202 ],\n",
              "       [-0.9650841 ],\n",
              "       [ 0.6284633 ],\n",
              "       [ 0.53472525],\n",
              "       [ 1.4721061 ],\n",
              "       [ 0.7222014 ],\n",
              "       [-1.7149888 ],\n",
              "       [ 0.06603482],\n",
              "       [ 0.8159395 ],\n",
              "       [-1.1525602 ],\n",
              "       [ 0.8159395 ],\n",
              "       [-1.1525602 ],\n",
              "       [-0.9650841 ],\n",
              "       [-0.59013176],\n",
              "       [ 0.1597729 ],\n",
              "       [ 1.8470583 ],\n",
              "       [-0.12144134],\n",
              "       [-1.3400364 ],\n",
              "       [ 0.34724906],\n",
              "       [-0.68386984],\n",
              "       [ 0.6284633 ],\n",
              "       [-0.871346  ],\n",
              "       [ 0.44098717],\n",
              "       [-1.1525602 ],\n",
              "       [ 0.25351098],\n",
              "       [ 1.9407964 ],\n",
              "       [-1.4337745 ],\n",
              "       [-0.49639365],\n",
              "       [ 2.690701  ],\n",
              "       [ 1.1908919 ],\n",
              "       [-0.40265557],\n",
              "       [-0.7776079 ],\n",
              "       [ 0.25351098],\n",
              "       [-0.68386984],\n",
              "       [ 0.25351098],\n",
              "       [-0.59013176],\n",
              "       [ 0.25351098],\n",
              "       [ 0.25351098],\n",
              "       [-2.3711555 ],\n",
              "       [-0.40265557],\n",
              "       [-0.02770326],\n",
              "       [ 0.1597729 ],\n",
              "       [ 0.90967757],\n",
              "       [ 1.1908919 ],\n",
              "       [ 0.8159395 ],\n",
              "       [-0.12144134],\n",
              "       [-1.2462983 ],\n",
              "       [-0.871346  ],\n",
              "       [-0.7776079 ],\n",
              "       [-0.30891752],\n",
              "       [-0.40265557],\n",
              "       [-0.68386984],\n",
              "       [-0.59013176],\n",
              "       [-1.7149888 ],\n",
              "       [ 0.1597729 ],\n",
              "       [-0.02770326],\n",
              "       [ 0.1597729 ],\n",
              "       [ 0.06603482],\n",
              "       [-1.7149888 ],\n",
              "       [-0.59013176],\n",
              "       [-1.0588222 ],\n",
              "       [ 0.7222014 ],\n",
              "       [-0.59013176]], dtype=float32)"
            ]
          },
          "metadata": {},
          "execution_count": 18
        }
      ],
      "source": [
        "y_train"
      ]
    },
    {
      "cell_type": "code",
      "execution_count": 19,
      "metadata": {
        "id": "Yo7GuxYf1-N8"
      },
      "outputs": [],
      "source": [
        "# ✅ Define a Lightweight GRU Model for Faster Training\n",
        "model = Sequential([\n",
        "    Input(shape=(X.shape[1], X.shape[2])),\n",
        "    GRU(128, return_sequences=True, activation='tanh'),\n",
        "    Dropout(0.2),\n",
        "    BatchNormalization(),\n",
        "    GRU(64, return_sequences=False, activation='tanh'),\n",
        "    Dropout(0.2),\n",
        "    BatchNormalization(),\n",
        "    Dense(1, dtype=tf.float32)  # Output layer (1 target)\n",
        "])\n",
        "\n"
      ]
    },
    {
      "cell_type": "code",
      "execution_count": 20,
      "metadata": {
        "id": "uwCuONYV2Ewj"
      },
      "outputs": [],
      "source": [
        "# ✅ Compile Model with Adam Optimizer\n",
        "optimizer = Adam(learning_rate=0.0005, clipvalue=0.5)\n",
        "model.compile(optimizer=optimizer, loss= 'mae', metrics=['mse', 'mae'])\n",
        "\n"
      ]
    },
    {
      "cell_type": "code",
      "execution_count": 21,
      "metadata": {
        "id": "T7h1W1ux2Loe"
      },
      "outputs": [],
      "source": [
        "from tensorflow.keras.utils import plot_model\n"
      ]
    },
    {
      "cell_type": "code",
      "execution_count": 22,
      "metadata": {
        "colab": {
          "base_uri": "https://localhost:8080/"
        },
        "id": "74VhmxKZy_tr",
        "outputId": "63d3b927-0de4-4f9c-de49-49e9dc1e6c97"
      },
      "outputs": [
        {
          "output_type": "stream",
          "name": "stdout",
          "text": [
            "Epoch 1/100\n",
            "\u001b[1m4/4\u001b[0m \u001b[32m━━━━━━━━━━━━━━━━━━━━\u001b[0m\u001b[37m\u001b[0m \u001b[1m10s\u001b[0m 592ms/step - loss: 1.4504 - mae: 1.4504 - mse: 3.3059 - val_loss: 0.7689 - val_mae: 0.7689 - val_mse: 0.8339\n",
            "Epoch 2/100\n",
            "\u001b[1m4/4\u001b[0m \u001b[32m━━━━━━━━━━━━━━━━━━━━\u001b[0m\u001b[37m\u001b[0m \u001b[1m1s\u001b[0m 351ms/step - loss: 1.0335 - mae: 1.0335 - mse: 1.7649 - val_loss: 0.7669 - val_mae: 0.7669 - val_mse: 0.8170\n",
            "Epoch 3/100\n",
            "\u001b[1m4/4\u001b[0m \u001b[32m━━━━━━━━━━━━━━━━━━━━\u001b[0m\u001b[37m\u001b[0m \u001b[1m3s\u001b[0m 349ms/step - loss: 1.0856 - mae: 1.0856 - mse: 1.9579 - val_loss: 0.7613 - val_mae: 0.7613 - val_mse: 0.8092\n",
            "Epoch 4/100\n",
            "\u001b[1m4/4\u001b[0m \u001b[32m━━━━━━━━━━━━━━━━━━━━\u001b[0m\u001b[37m\u001b[0m \u001b[1m3s\u001b[0m 405ms/step - loss: 1.0510 - mae: 1.0510 - mse: 1.7088 - val_loss: 0.7646 - val_mae: 0.7646 - val_mse: 0.8233\n",
            "Epoch 5/100\n",
            "\u001b[1m4/4\u001b[0m \u001b[32m━━━━━━━━━━━━━━━━━━━━\u001b[0m\u001b[37m\u001b[0m \u001b[1m1s\u001b[0m 351ms/step - loss: 1.0170 - mae: 1.0170 - mse: 1.7762 - val_loss: 0.7675 - val_mae: 0.7675 - val_mse: 0.8290\n",
            "Epoch 6/100\n",
            "\u001b[1m4/4\u001b[0m \u001b[32m━━━━━━━━━━━━━━━━━━━━\u001b[0m\u001b[37m\u001b[0m \u001b[1m3s\u001b[0m 459ms/step - loss: 0.9231 - mae: 0.9231 - mse: 1.4002 - val_loss: 0.7642 - val_mae: 0.7642 - val_mse: 0.8203\n",
            "Epoch 7/100\n",
            "\u001b[1m4/4\u001b[0m \u001b[32m━━━━━━━━━━━━━━━━━━━━\u001b[0m\u001b[37m\u001b[0m \u001b[1m1s\u001b[0m 356ms/step - loss: 0.9763 - mae: 0.9763 - mse: 1.5932 - val_loss: 0.7663 - val_mae: 0.7663 - val_mse: 0.8189\n",
            "Epoch 8/100\n",
            "\u001b[1m4/4\u001b[0m \u001b[32m━━━━━━━━━━━━━━━━━━━━\u001b[0m\u001b[37m\u001b[0m \u001b[1m3s\u001b[0m 460ms/step - loss: 0.9508 - mae: 0.9508 - mse: 1.5358 - val_loss: 0.7682 - val_mae: 0.7682 - val_mse: 0.8218\n",
            "Epoch 9/100\n",
            "\u001b[1m4/4\u001b[0m \u001b[32m━━━━━━━━━━━━━━━━━━━━\u001b[0m\u001b[37m\u001b[0m \u001b[1m2s\u001b[0m 353ms/step - loss: 0.9086 - mae: 0.9086 - mse: 1.3932 - val_loss: 0.7692 - val_mae: 0.7692 - val_mse: 0.8227\n",
            "Epoch 10/100\n",
            "\u001b[1m4/4\u001b[0m \u001b[32m━━━━━━━━━━━━━━━━━━━━\u001b[0m\u001b[37m\u001b[0m \u001b[1m1s\u001b[0m 353ms/step - loss: 0.9839 - mae: 0.9839 - mse: 1.6368 - val_loss: 0.7700 - val_mae: 0.7700 - val_mse: 0.8280\n",
            "Epoch 11/100\n",
            "\u001b[1m4/4\u001b[0m \u001b[32m━━━━━━━━━━━━━━━━━━━━\u001b[0m\u001b[37m\u001b[0m \u001b[1m1s\u001b[0m 350ms/step - loss: 0.9997 - mae: 0.9997 - mse: 1.6596 - val_loss: 0.7710 - val_mae: 0.7710 - val_mse: 0.8321\n",
            "Epoch 12/100\n",
            "\u001b[1m4/4\u001b[0m \u001b[32m━━━━━━━━━━━━━━━━━━━━\u001b[0m\u001b[37m\u001b[0m \u001b[1m2s\u001b[0m 422ms/step - loss: 0.8859 - mae: 0.8859 - mse: 1.3146 - val_loss: 0.7672 - val_mae: 0.7672 - val_mse: 0.8207\n",
            "Epoch 13/100\n",
            "\u001b[1m4/4\u001b[0m \u001b[32m━━━━━━━━━━━━━━━━━━━━\u001b[0m\u001b[37m\u001b[0m \u001b[1m2s\u001b[0m 496ms/step - loss: 0.9735 - mae: 0.9735 - mse: 1.5601 - val_loss: 0.7670 - val_mae: 0.7670 - val_mse: 0.8220\n",
            "Epoch 14/100\n",
            "\u001b[1m4/4\u001b[0m \u001b[32m━━━━━━━━━━━━━━━━━━━━\u001b[0m\u001b[37m\u001b[0m \u001b[1m1s\u001b[0m 348ms/step - loss: 0.8878 - mae: 0.8878 - mse: 1.3463 - val_loss: 0.7701 - val_mae: 0.7701 - val_mse: 0.8309\n",
            "Epoch 15/100\n",
            "\u001b[1m4/4\u001b[0m \u001b[32m━━━━━━━━━━━━━━━━━━━━\u001b[0m\u001b[37m\u001b[0m \u001b[1m2s\u001b[0m 348ms/step - loss: 0.9745 - mae: 0.9745 - mse: 1.4982 - val_loss: 0.7685 - val_mae: 0.7685 - val_mse: 0.8319\n",
            "Epoch 16/100\n",
            "\u001b[1m4/4\u001b[0m \u001b[32m━━━━━━━━━━━━━━━━━━━━\u001b[0m\u001b[37m\u001b[0m \u001b[1m1s\u001b[0m 356ms/step - loss: 0.8782 - mae: 0.8782 - mse: 1.2786 - val_loss: 0.7655 - val_mae: 0.7655 - val_mse: 0.8335\n",
            "Epoch 17/100\n",
            "\u001b[1m4/4\u001b[0m \u001b[32m━━━━━━━━━━━━━━━━━━━━\u001b[0m\u001b[37m\u001b[0m \u001b[1m1s\u001b[0m 352ms/step - loss: 0.9443 - mae: 0.9443 - mse: 1.4518 - val_loss: 0.7596 - val_mae: 0.7596 - val_mse: 0.8232\n",
            "Epoch 18/100\n",
            "\u001b[1m4/4\u001b[0m \u001b[32m━━━━━━━━━━━━━━━━━━━━\u001b[0m\u001b[37m\u001b[0m \u001b[1m3s\u001b[0m 352ms/step - loss: 0.9238 - mae: 0.9238 - mse: 1.4882 - val_loss: 0.7556 - val_mae: 0.7556 - val_mse: 0.8153\n",
            "Epoch 19/100\n",
            "\u001b[1m4/4\u001b[0m \u001b[32m━━━━━━━━━━━━━━━━━━━━\u001b[0m\u001b[37m\u001b[0m \u001b[1m3s\u001b[0m 485ms/step - loss: 0.8714 - mae: 0.8714 - mse: 1.2327 - val_loss: 0.7604 - val_mae: 0.7604 - val_mse: 0.8218\n",
            "Epoch 20/100\n",
            "\u001b[1m4/4\u001b[0m \u001b[32m━━━━━━━━━━━━━━━━━━━━\u001b[0m\u001b[37m\u001b[0m \u001b[1m2s\u001b[0m 368ms/step - loss: 0.8979 - mae: 0.8979 - mse: 1.3132 - val_loss: 0.7627 - val_mae: 0.7627 - val_mse: 0.8264\n",
            "Epoch 21/100\n",
            "\u001b[1m4/4\u001b[0m \u001b[32m━━━━━━━━━━━━━━━━━━━━\u001b[0m\u001b[37m\u001b[0m \u001b[1m2s\u001b[0m 354ms/step - loss: 0.9118 - mae: 0.9118 - mse: 1.3952 - val_loss: 0.7591 - val_mae: 0.7591 - val_mse: 0.8187\n",
            "Epoch 22/100\n",
            "\u001b[1m4/4\u001b[0m \u001b[32m━━━━━━━━━━━━━━━━━━━━\u001b[0m\u001b[37m\u001b[0m \u001b[1m3s\u001b[0m 351ms/step - loss: 0.9155 - mae: 0.9155 - mse: 1.3362 - val_loss: 0.7549 - val_mae: 0.7549 - val_mse: 0.8083\n",
            "Epoch 23/100\n",
            "\u001b[1m4/4\u001b[0m \u001b[32m━━━━━━━━━━━━━━━━━━━━\u001b[0m\u001b[37m\u001b[0m \u001b[1m1s\u001b[0m 356ms/step - loss: 0.9482 - mae: 0.9482 - mse: 1.3989 - val_loss: 0.7537 - val_mae: 0.7537 - val_mse: 0.8093\n",
            "Epoch 24/100\n",
            "\u001b[1m4/4\u001b[0m \u001b[32m━━━━━━━━━━━━━━━━━━━━\u001b[0m\u001b[37m\u001b[0m \u001b[1m1s\u001b[0m 354ms/step - loss: 0.8989 - mae: 0.8989 - mse: 1.4240 - val_loss: 0.7528 - val_mae: 0.7528 - val_mse: 0.8176\n",
            "Epoch 25/100\n",
            "\u001b[1m4/4\u001b[0m \u001b[32m━━━━━━━━━━━━━━━━━━━━\u001b[0m\u001b[37m\u001b[0m \u001b[1m1s\u001b[0m 370ms/step - loss: 0.9050 - mae: 0.9050 - mse: 1.2979 - val_loss: 0.7632 - val_mae: 0.7632 - val_mse: 0.8421\n",
            "Epoch 26/100\n",
            "\u001b[1m4/4\u001b[0m \u001b[32m━━━━━━━━━━━━━━━━━━━━\u001b[0m\u001b[37m\u001b[0m \u001b[1m3s\u001b[0m 404ms/step - loss: 0.8146 - mae: 0.8146 - mse: 1.1224 - val_loss: 0.7699 - val_mae: 0.7699 - val_mse: 0.8567\n",
            "Epoch 27/100\n",
            "\u001b[1m4/4\u001b[0m \u001b[32m━━━━━━━━━━━━━━━━━━━━\u001b[0m\u001b[37m\u001b[0m \u001b[1m1s\u001b[0m 352ms/step - loss: 0.8452 - mae: 0.8452 - mse: 1.1976 - val_loss: 0.7669 - val_mae: 0.7669 - val_mse: 0.8549\n",
            "Epoch 28/100\n",
            "\u001b[1m4/4\u001b[0m \u001b[32m━━━━━━━━━━━━━━━━━━━━\u001b[0m\u001b[37m\u001b[0m \u001b[1m1s\u001b[0m 349ms/step - loss: 0.8984 - mae: 0.8984 - mse: 1.3618 - val_loss: 0.7598 - val_mae: 0.7598 - val_mse: 0.8392\n",
            "Epoch 29/100\n",
            "\u001b[1m4/4\u001b[0m \u001b[32m━━━━━━━━━━━━━━━━━━━━\u001b[0m\u001b[37m\u001b[0m \u001b[1m2s\u001b[0m 404ms/step - loss: 0.9062 - mae: 0.9062 - mse: 1.2713 - val_loss: 0.7509 - val_mae: 0.7509 - val_mse: 0.8174\n",
            "Epoch 30/100\n",
            "\u001b[1m4/4\u001b[0m \u001b[32m━━━━━━━━━━━━━━━━━━━━\u001b[0m\u001b[37m\u001b[0m \u001b[1m2s\u001b[0m 353ms/step - loss: 0.8667 - mae: 0.8667 - mse: 1.1965 - val_loss: 0.7511 - val_mae: 0.7511 - val_mse: 0.8118\n",
            "Epoch 31/100\n",
            "\u001b[1m4/4\u001b[0m \u001b[32m━━━━━━━━━━━━━━━━━━━━\u001b[0m\u001b[37m\u001b[0m \u001b[1m2s\u001b[0m 356ms/step - loss: 0.8251 - mae: 0.8251 - mse: 1.1023 - val_loss: 0.7581 - val_mae: 0.7581 - val_mse: 0.8229\n",
            "Epoch 32/100\n",
            "\u001b[1m4/4\u001b[0m \u001b[32m━━━━━━━━━━━━━━━━━━━━\u001b[0m\u001b[37m\u001b[0m \u001b[1m2s\u001b[0m 395ms/step - loss: 0.8530 - mae: 0.8530 - mse: 1.1908 - val_loss: 0.7605 - val_mae: 0.7605 - val_mse: 0.8197\n",
            "Epoch 33/100\n",
            "\u001b[1m4/4\u001b[0m \u001b[32m━━━━━━━━━━━━━━━━━━━━\u001b[0m\u001b[37m\u001b[0m \u001b[1m2s\u001b[0m 493ms/step - loss: 0.8544 - mae: 0.8544 - mse: 1.1605 - val_loss: 0.7517 - val_mae: 0.7517 - val_mse: 0.8065\n",
            "Epoch 34/100\n",
            "\u001b[1m4/4\u001b[0m \u001b[32m━━━━━━━━━━━━━━━━━━━━\u001b[0m\u001b[37m\u001b[0m \u001b[1m2s\u001b[0m 352ms/step - loss: 0.8312 - mae: 0.8312 - mse: 1.1635 - val_loss: 0.7479 - val_mae: 0.7479 - val_mse: 0.8117\n",
            "Epoch 35/100\n",
            "\u001b[1m4/4\u001b[0m \u001b[32m━━━━━━━━━━━━━━━━━━━━\u001b[0m\u001b[37m\u001b[0m \u001b[1m3s\u001b[0m 427ms/step - loss: 0.8340 - mae: 0.8340 - mse: 1.1733 - val_loss: 0.7490 - val_mae: 0.7490 - val_mse: 0.8222\n",
            "Epoch 36/100\n",
            "\u001b[1m4/4\u001b[0m \u001b[32m━━━━━━━━━━━━━━━━━━━━\u001b[0m\u001b[37m\u001b[0m \u001b[1m2s\u001b[0m 350ms/step - loss: 0.8854 - mae: 0.8854 - mse: 1.2539 - val_loss: 0.7454 - val_mae: 0.7454 - val_mse: 0.8131\n",
            "Epoch 37/100\n",
            "\u001b[1m4/4\u001b[0m \u001b[32m━━━━━━━━━━━━━━━━━━━━\u001b[0m\u001b[37m\u001b[0m \u001b[1m3s\u001b[0m 356ms/step - loss: 0.8543 - mae: 0.8543 - mse: 1.2131 - val_loss: 0.7444 - val_mae: 0.7444 - val_mse: 0.8059\n",
            "Epoch 38/100\n",
            "\u001b[1m4/4\u001b[0m \u001b[32m━━━━━━━━━━━━━━━━━━━━\u001b[0m\u001b[37m\u001b[0m \u001b[1m2s\u001b[0m 474ms/step - loss: 0.8188 - mae: 0.8188 - mse: 1.0744 - val_loss: 0.7405 - val_mae: 0.7405 - val_mse: 0.7985\n",
            "Epoch 39/100\n",
            "\u001b[1m4/4\u001b[0m \u001b[32m━━━━━━━━━━━━━━━━━━━━\u001b[0m\u001b[37m\u001b[0m \u001b[1m2s\u001b[0m 499ms/step - loss: 0.8360 - mae: 0.8360 - mse: 1.1491 - val_loss: 0.7353 - val_mae: 0.7353 - val_mse: 0.7978\n",
            "Epoch 40/100\n",
            "\u001b[1m4/4\u001b[0m \u001b[32m━━━━━━━━━━━━━━━━━━━━\u001b[0m\u001b[37m\u001b[0m \u001b[1m2s\u001b[0m 354ms/step - loss: 0.8454 - mae: 0.8454 - mse: 1.1940 - val_loss: 0.7347 - val_mae: 0.7347 - val_mse: 0.7956\n",
            "Epoch 41/100\n",
            "\u001b[1m4/4\u001b[0m \u001b[32m━━━━━━━━━━━━━━━━━━━━\u001b[0m\u001b[37m\u001b[0m \u001b[1m3s\u001b[0m 351ms/step - loss: 0.8451 - mae: 0.8451 - mse: 1.2032 - val_loss: 0.7361 - val_mae: 0.7361 - val_mse: 0.7883\n",
            "Epoch 42/100\n",
            "\u001b[1m4/4\u001b[0m \u001b[32m━━━━━━━━━━━━━━━━━━━━\u001b[0m\u001b[37m\u001b[0m \u001b[1m3s\u001b[0m 352ms/step - loss: 0.8517 - mae: 0.8517 - mse: 1.1615 - val_loss: 0.7425 - val_mae: 0.7425 - val_mse: 0.8025\n",
            "Epoch 43/100\n",
            "\u001b[1m4/4\u001b[0m \u001b[32m━━━━━━━━━━━━━━━━━━━━\u001b[0m\u001b[37m\u001b[0m \u001b[1m3s\u001b[0m 357ms/step - loss: 0.8549 - mae: 0.8549 - mse: 1.2640 - val_loss: 0.7359 - val_mae: 0.7359 - val_mse: 0.7989\n",
            "Epoch 44/100\n",
            "\u001b[1m4/4\u001b[0m \u001b[32m━━━━━━━━━━━━━━━━━━━━\u001b[0m\u001b[37m\u001b[0m \u001b[1m2s\u001b[0m 498ms/step - loss: 0.8222 - mae: 0.8222 - mse: 1.0885 - val_loss: 0.7318 - val_mae: 0.7318 - val_mse: 0.7909\n",
            "Epoch 45/100\n",
            "\u001b[1m4/4\u001b[0m \u001b[32m━━━━━━━━━━━━━━━━━━━━\u001b[0m\u001b[37m\u001b[0m \u001b[1m2s\u001b[0m 354ms/step - loss: 0.8331 - mae: 0.8331 - mse: 1.1666 - val_loss: 0.7321 - val_mae: 0.7321 - val_mse: 0.7978\n",
            "Epoch 46/100\n",
            "\u001b[1m4/4\u001b[0m \u001b[32m━━━━━━━━━━━━━━━━━━━━\u001b[0m\u001b[37m\u001b[0m \u001b[1m2s\u001b[0m 356ms/step - loss: 0.8543 - mae: 0.8543 - mse: 1.2134 - val_loss: 0.7353 - val_mae: 0.7353 - val_mse: 0.8019\n",
            "Epoch 47/100\n",
            "\u001b[1m4/4\u001b[0m \u001b[32m━━━━━━━━━━━━━━━━━━━━\u001b[0m\u001b[37m\u001b[0m \u001b[1m1s\u001b[0m 351ms/step - loss: 0.7875 - mae: 0.7875 - mse: 1.0413 - val_loss: 0.7351 - val_mae: 0.7351 - val_mse: 0.7976\n",
            "Epoch 48/100\n",
            "\u001b[1m4/4\u001b[0m \u001b[32m━━━━━━━━━━━━━━━━━━━━\u001b[0m\u001b[37m\u001b[0m \u001b[1m3s\u001b[0m 352ms/step - loss: 0.8253 - mae: 0.8253 - mse: 1.1107 - val_loss: 0.7280 - val_mae: 0.7280 - val_mse: 0.7789\n",
            "Epoch 49/100\n",
            "\u001b[1m4/4\u001b[0m \u001b[32m━━━━━━━━━━━━━━━━━━━━\u001b[0m\u001b[37m\u001b[0m \u001b[1m1s\u001b[0m 358ms/step - loss: 0.8195 - mae: 0.8195 - mse: 1.1105 - val_loss: 0.7266 - val_mae: 0.7266 - val_mse: 0.7787\n",
            "Epoch 50/100\n",
            "\u001b[1m4/4\u001b[0m \u001b[32m━━━━━━━━━━━━━━━━━━━━\u001b[0m\u001b[37m\u001b[0m \u001b[1m3s\u001b[0m 448ms/step - loss: 0.8212 - mae: 0.8212 - mse: 1.1212 - val_loss: 0.7331 - val_mae: 0.7331 - val_mse: 0.8059\n",
            "Epoch 51/100\n",
            "\u001b[1m4/4\u001b[0m \u001b[32m━━━━━━━━━━━━━━━━━━━━\u001b[0m\u001b[37m\u001b[0m \u001b[1m2s\u001b[0m 351ms/step - loss: 0.8199 - mae: 0.8199 - mse: 1.1407 - val_loss: 0.7356 - val_mae: 0.7356 - val_mse: 0.8217\n",
            "Epoch 52/100\n",
            "\u001b[1m4/4\u001b[0m \u001b[32m━━━━━━━━━━━━━━━━━━━━\u001b[0m\u001b[37m\u001b[0m \u001b[1m1s\u001b[0m 359ms/step - loss: 0.8489 - mae: 0.8489 - mse: 1.1586 - val_loss: 0.7351 - val_mae: 0.7351 - val_mse: 0.8160\n",
            "Epoch 53/100\n",
            "\u001b[1m4/4\u001b[0m \u001b[32m━━━━━━━━━━━━━━━━━━━━\u001b[0m\u001b[37m\u001b[0m \u001b[1m1s\u001b[0m 349ms/step - loss: 0.7710 - mae: 0.7710 - mse: 1.0086 - val_loss: 0.7413 - val_mae: 0.7413 - val_mse: 0.8192\n",
            "Epoch 54/100\n",
            "\u001b[1m4/4\u001b[0m \u001b[32m━━━━━━━━━━━━━━━━━━━━\u001b[0m\u001b[37m\u001b[0m \u001b[1m3s\u001b[0m 354ms/step - loss: 0.7775 - mae: 0.7775 - mse: 1.0470 - val_loss: 0.7405 - val_mae: 0.7405 - val_mse: 0.8165\n",
            "Epoch 55/100\n",
            "\u001b[1m4/4\u001b[0m \u001b[32m━━━━━━━━━━━━━━━━━━━━\u001b[0m\u001b[37m\u001b[0m \u001b[1m1s\u001b[0m 348ms/step - loss: 0.8275 - mae: 0.8275 - mse: 1.1673 - val_loss: 0.7410 - val_mae: 0.7410 - val_mse: 0.8297\n",
            "Epoch 56/100\n",
            "\u001b[1m4/4\u001b[0m \u001b[32m━━━━━━━━━━━━━━━━━━━━\u001b[0m\u001b[37m\u001b[0m \u001b[1m2s\u001b[0m 406ms/step - loss: 0.7738 - mae: 0.7738 - mse: 0.9932 - val_loss: 0.7355 - val_mae: 0.7355 - val_mse: 0.8295\n",
            "Epoch 57/100\n",
            "\u001b[1m4/4\u001b[0m \u001b[32m━━━━━━━━━━━━━━━━━━━━\u001b[0m\u001b[37m\u001b[0m \u001b[1m2s\u001b[0m 443ms/step - loss: 0.8244 - mae: 0.8244 - mse: 1.1799 - val_loss: 0.7260 - val_mae: 0.7260 - val_mse: 0.8138\n",
            "Epoch 58/100\n",
            "\u001b[1m4/4\u001b[0m \u001b[32m━━━━━━━━━━━━━━━━━━━━\u001b[0m\u001b[37m\u001b[0m \u001b[1m2s\u001b[0m 357ms/step - loss: 0.7734 - mae: 0.7734 - mse: 0.9853 - val_loss: 0.7191 - val_mae: 0.7191 - val_mse: 0.7920\n",
            "Epoch 59/100\n",
            "\u001b[1m4/4\u001b[0m \u001b[32m━━━━━━━━━━━━━━━━━━━━\u001b[0m\u001b[37m\u001b[0m \u001b[1m1s\u001b[0m 351ms/step - loss: 0.8203 - mae: 0.8203 - mse: 1.1143 - val_loss: 0.7146 - val_mae: 0.7146 - val_mse: 0.7823\n",
            "Epoch 60/100\n",
            "\u001b[1m4/4\u001b[0m \u001b[32m━━━━━━━━━━━━━━━━━━━━\u001b[0m\u001b[37m\u001b[0m \u001b[1m1s\u001b[0m 354ms/step - loss: 0.7405 - mae: 0.7405 - mse: 0.9422 - val_loss: 0.7139 - val_mae: 0.7139 - val_mse: 0.7929\n",
            "Epoch 61/100\n",
            "\u001b[1m4/4\u001b[0m \u001b[32m━━━━━━━━━━━━━━━━━━━━\u001b[0m\u001b[37m\u001b[0m \u001b[1m1s\u001b[0m 350ms/step - loss: 0.7375 - mae: 0.7375 - mse: 0.9240 - val_loss: 0.7292 - val_mae: 0.7292 - val_mse: 0.8265\n",
            "Epoch 62/100\n",
            "\u001b[1m4/4\u001b[0m \u001b[32m━━━━━━━━━━━━━━━━━━━━\u001b[0m\u001b[37m\u001b[0m \u001b[1m1s\u001b[0m 352ms/step - loss: 0.8025 - mae: 0.8025 - mse: 1.1044 - val_loss: 0.7403 - val_mae: 0.7403 - val_mse: 0.8393\n",
            "Epoch 63/100\n",
            "\u001b[1m4/4\u001b[0m \u001b[32m━━━━━━━━━━━━━━━━━━━━\u001b[0m\u001b[37m\u001b[0m \u001b[1m3s\u001b[0m 349ms/step - loss: 0.7878 - mae: 0.7878 - mse: 1.0496 - val_loss: 0.7309 - val_mae: 0.7309 - val_mse: 0.8190\n",
            "Epoch 64/100\n",
            "\u001b[1m4/4\u001b[0m \u001b[32m━━━━━━━━━━━━━━━━━━━━\u001b[0m\u001b[37m\u001b[0m \u001b[1m2s\u001b[0m 490ms/step - loss: 0.8002 - mae: 0.8002 - mse: 1.1022 - val_loss: 0.7157 - val_mae: 0.7157 - val_mse: 0.7865\n",
            "Epoch 65/100\n",
            "\u001b[1m4/4\u001b[0m \u001b[32m━━━━━━━━━━━━━━━━━━━━\u001b[0m\u001b[37m\u001b[0m \u001b[1m2s\u001b[0m 349ms/step - loss: 0.7742 - mae: 0.7742 - mse: 0.9829 - val_loss: 0.7130 - val_mae: 0.7130 - val_mse: 0.7821\n",
            "Epoch 66/100\n",
            "\u001b[1m4/4\u001b[0m \u001b[32m━━━━━━━━━━━━━━━━━━━━\u001b[0m\u001b[37m\u001b[0m \u001b[1m2s\u001b[0m 354ms/step - loss: 0.7786 - mae: 0.7786 - mse: 1.0047 - val_loss: 0.7098 - val_mae: 0.7098 - val_mse: 0.7810\n",
            "Epoch 67/100\n",
            "\u001b[1m4/4\u001b[0m \u001b[32m━━━━━━━━━━━━━━━━━━━━\u001b[0m\u001b[37m\u001b[0m \u001b[1m1s\u001b[0m 352ms/step - loss: 0.7496 - mae: 0.7496 - mse: 0.9439 - val_loss: 0.7110 - val_mae: 0.7110 - val_mse: 0.7844\n",
            "Epoch 68/100\n",
            "\u001b[1m4/4\u001b[0m \u001b[32m━━━━━━━━━━━━━━━━━━━━\u001b[0m\u001b[37m\u001b[0m \u001b[1m1s\u001b[0m 358ms/step - loss: 0.7482 - mae: 0.7482 - mse: 0.9346 - val_loss: 0.7134 - val_mae: 0.7134 - val_mse: 0.7832\n",
            "Epoch 69/100\n",
            "\u001b[1m4/4\u001b[0m \u001b[32m━━━━━━━━━━━━━━━━━━━━\u001b[0m\u001b[37m\u001b[0m \u001b[1m2s\u001b[0m 412ms/step - loss: 0.7733 - mae: 0.7733 - mse: 0.9755 - val_loss: 0.7167 - val_mae: 0.7167 - val_mse: 0.7860\n",
            "Epoch 70/100\n",
            "\u001b[1m4/4\u001b[0m \u001b[32m━━━━━━━━━━━━━━━━━━━━\u001b[0m\u001b[37m\u001b[0m \u001b[1m3s\u001b[0m 407ms/step - loss: 0.7261 - mae: 0.7261 - mse: 0.8862 - val_loss: 0.7264 - val_mae: 0.7264 - val_mse: 0.8030\n",
            "Epoch 71/100\n",
            "\u001b[1m4/4\u001b[0m \u001b[32m━━━━━━━━━━━━━━━━━━━━\u001b[0m\u001b[37m\u001b[0m \u001b[1m2s\u001b[0m 448ms/step - loss: 0.6948 - mae: 0.6948 - mse: 0.8075 - val_loss: 0.7195 - val_mae: 0.7195 - val_mse: 0.7893\n",
            "Epoch 72/100\n",
            "\u001b[1m4/4\u001b[0m \u001b[32m━━━━━━━━━━━━━━━━━━━━\u001b[0m\u001b[37m\u001b[0m \u001b[1m2s\u001b[0m 361ms/step - loss: 0.7860 - mae: 0.7860 - mse: 0.9964 - val_loss: 0.7074 - val_mae: 0.7074 - val_mse: 0.7669\n",
            "Epoch 73/100\n",
            "\u001b[1m4/4\u001b[0m \u001b[32m━━━━━━━━━━━━━━━━━━━━\u001b[0m\u001b[37m\u001b[0m \u001b[1m1s\u001b[0m 356ms/step - loss: 0.7939 - mae: 0.7939 - mse: 1.0677 - val_loss: 0.6999 - val_mae: 0.6999 - val_mse: 0.7569\n",
            "Epoch 74/100\n",
            "\u001b[1m4/4\u001b[0m \u001b[32m━━━━━━━━━━━━━━━━━━━━\u001b[0m\u001b[37m\u001b[0m \u001b[1m1s\u001b[0m 350ms/step - loss: 0.7627 - mae: 0.7627 - mse: 0.9778 - val_loss: 0.7094 - val_mae: 0.7094 - val_mse: 0.7841\n",
            "Epoch 75/100\n",
            "\u001b[1m4/4\u001b[0m \u001b[32m━━━━━━━━━━━━━━━━━━━━\u001b[0m\u001b[37m\u001b[0m \u001b[1m3s\u001b[0m 352ms/step - loss: 0.7463 - mae: 0.7463 - mse: 0.9566 - val_loss: 0.7131 - val_mae: 0.7131 - val_mse: 0.7910\n",
            "Epoch 76/100\n",
            "\u001b[1m4/4\u001b[0m \u001b[32m━━━━━━━━━━━━━━━━━━━━\u001b[0m\u001b[37m\u001b[0m \u001b[1m1s\u001b[0m 355ms/step - loss: 0.7348 - mae: 0.7348 - mse: 0.9591 - val_loss: 0.7085 - val_mae: 0.7085 - val_mse: 0.7829\n",
            "Epoch 77/100\n",
            "\u001b[1m4/4\u001b[0m \u001b[32m━━━━━━━━━━━━━━━━━━━━\u001b[0m\u001b[37m\u001b[0m \u001b[1m3s\u001b[0m 386ms/step - loss: 0.7744 - mae: 0.7744 - mse: 0.9858 - val_loss: 0.7001 - val_mae: 0.7001 - val_mse: 0.7640\n",
            "Epoch 78/100\n",
            "\u001b[1m4/4\u001b[0m \u001b[32m━━━━━━━━━━━━━━━━━━━━\u001b[0m\u001b[37m\u001b[0m \u001b[1m3s\u001b[0m 387ms/step - loss: 0.6940 - mae: 0.6940 - mse: 0.8257 - val_loss: 0.6953 - val_mae: 0.6953 - val_mse: 0.7623\n",
            "Epoch 79/100\n",
            "\u001b[1m4/4\u001b[0m \u001b[32m━━━━━━━━━━━━━━━━━━━━\u001b[0m\u001b[37m\u001b[0m \u001b[1m1s\u001b[0m 352ms/step - loss: 0.7100 - mae: 0.7100 - mse: 0.8480 - val_loss: 0.7020 - val_mae: 0.7020 - val_mse: 0.7822\n",
            "Epoch 80/100\n",
            "\u001b[1m4/4\u001b[0m \u001b[32m━━━━━━━━━━━━━━━━━━━━\u001b[0m\u001b[37m\u001b[0m \u001b[1m1s\u001b[0m 351ms/step - loss: 0.7419 - mae: 0.7419 - mse: 0.9296 - val_loss: 0.7100 - val_mae: 0.7100 - val_mse: 0.8047\n",
            "Epoch 81/100\n",
            "\u001b[1m4/4\u001b[0m \u001b[32m━━━━━━━━━━━━━━━━━━━━\u001b[0m\u001b[37m\u001b[0m \u001b[1m1s\u001b[0m 356ms/step - loss: 0.7873 - mae: 0.7873 - mse: 1.0043 - val_loss: 0.7274 - val_mae: 0.7274 - val_mse: 0.8325\n",
            "Epoch 82/100\n",
            "\u001b[1m4/4\u001b[0m \u001b[32m━━━━━━━━━━━━━━━━━━━━\u001b[0m\u001b[37m\u001b[0m \u001b[1m3s\u001b[0m 352ms/step - loss: 0.7572 - mae: 0.7572 - mse: 0.9801 - val_loss: 0.7361 - val_mae: 0.7361 - val_mse: 0.8575\n",
            "Epoch 83/100\n",
            "\u001b[1m4/4\u001b[0m \u001b[32m━━━━━━━━━━━━━━━━━━━━\u001b[0m\u001b[37m\u001b[0m \u001b[1m3s\u001b[0m 409ms/step - loss: 0.7528 - mae: 0.7528 - mse: 0.9966 - val_loss: 0.7295 - val_mae: 0.7295 - val_mse: 0.8393\n",
            "Epoch 84/100\n",
            "\u001b[1m4/4\u001b[0m \u001b[32m━━━━━━━━━━━━━━━━━━━━\u001b[0m\u001b[37m\u001b[0m \u001b[1m2s\u001b[0m 444ms/step - loss: 0.7334 - mae: 0.7334 - mse: 0.8798 - val_loss: 0.7150 - val_mae: 0.7150 - val_mse: 0.7964\n",
            "Epoch 85/100\n",
            "\u001b[1m4/4\u001b[0m \u001b[32m━━━━━━━━━━━━━━━━━━━━\u001b[0m\u001b[37m\u001b[0m \u001b[1m2s\u001b[0m 354ms/step - loss: 0.7139 - mae: 0.7139 - mse: 0.8808 - val_loss: 0.7047 - val_mae: 0.7047 - val_mse: 0.7776\n",
            "Epoch 86/100\n",
            "\u001b[1m4/4\u001b[0m \u001b[32m━━━━━━━━━━━━━━━━━━━━\u001b[0m\u001b[37m\u001b[0m \u001b[1m1s\u001b[0m 355ms/step - loss: 0.7435 - mae: 0.7435 - mse: 0.9548 - val_loss: 0.7111 - val_mae: 0.7111 - val_mse: 0.7795\n",
            "Epoch 87/100\n",
            "\u001b[1m4/4\u001b[0m \u001b[32m━━━━━━━━━━━━━━━━━━━━\u001b[0m\u001b[37m\u001b[0m \u001b[1m3s\u001b[0m 354ms/step - loss: 0.7196 - mae: 0.7196 - mse: 0.9011 - val_loss: 0.7118 - val_mae: 0.7118 - val_mse: 0.7828\n",
            "Epoch 88/100\n",
            "\u001b[1m4/4\u001b[0m \u001b[32m━━━━━━━━━━━━━━━━━━━━\u001b[0m\u001b[37m\u001b[0m \u001b[1m1s\u001b[0m 351ms/step - loss: 0.7153 - mae: 0.7153 - mse: 0.9046 - val_loss: 0.7109 - val_mae: 0.7109 - val_mse: 0.7888\n",
            "Epoch 89/100\n",
            "\u001b[1m4/4\u001b[0m \u001b[32m━━━━━━━━━━━━━━━━━━━━\u001b[0m\u001b[37m\u001b[0m \u001b[1m1s\u001b[0m 351ms/step - loss: 0.7209 - mae: 0.7209 - mse: 0.8505 - val_loss: 0.7010 - val_mae: 0.7010 - val_mse: 0.7733\n",
            "Epoch 90/100\n",
            "\u001b[1m4/4\u001b[0m \u001b[32m━━━━━━━━━━━━━━━━━━━━\u001b[0m\u001b[37m\u001b[0m \u001b[1m2s\u001b[0m 407ms/step - loss: 0.6830 - mae: 0.6830 - mse: 0.8222 - val_loss: 0.6892 - val_mae: 0.6892 - val_mse: 0.7671\n",
            "Epoch 91/100\n",
            "\u001b[1m4/4\u001b[0m \u001b[32m━━━━━━━━━━━━━━━━━━━━\u001b[0m\u001b[37m\u001b[0m \u001b[1m3s\u001b[0m 502ms/step - loss: 0.7023 - mae: 0.7023 - mse: 0.8706 - val_loss: 0.6929 - val_mae: 0.6929 - val_mse: 0.7744\n",
            "Epoch 92/100\n",
            "\u001b[1m4/4\u001b[0m \u001b[32m━━━━━━━━━━━━━━━━━━━━\u001b[0m\u001b[37m\u001b[0m \u001b[1m1s\u001b[0m 350ms/step - loss: 0.7365 - mae: 0.7365 - mse: 0.9866 - val_loss: 0.6940 - val_mae: 0.6940 - val_mse: 0.7645\n",
            "Epoch 93/100\n",
            "\u001b[1m4/4\u001b[0m \u001b[32m━━━━━━━━━━━━━━━━━━━━\u001b[0m\u001b[37m\u001b[0m \u001b[1m1s\u001b[0m 350ms/step - loss: 0.7074 - mae: 0.7074 - mse: 0.8376 - val_loss: 0.6990 - val_mae: 0.6990 - val_mse: 0.7590\n",
            "Epoch 94/100\n",
            "\u001b[1m4/4\u001b[0m \u001b[32m━━━━━━━━━━━━━━━━━━━━\u001b[0m\u001b[37m\u001b[0m \u001b[1m1s\u001b[0m 354ms/step - loss: 0.7286 - mae: 0.7286 - mse: 0.9427 - val_loss: 0.7060 - val_mae: 0.7060 - val_mse: 0.7678\n",
            "Epoch 95/100\n",
            "\u001b[1m4/4\u001b[0m \u001b[32m━━━━━━━━━━━━━━━━━━━━\u001b[0m\u001b[37m\u001b[0m \u001b[1m1s\u001b[0m 351ms/step - loss: 0.6813 - mae: 0.6813 - mse: 0.8018 - val_loss: 0.7057 - val_mae: 0.7057 - val_mse: 0.7688\n",
            "Epoch 96/100\n",
            "\u001b[1m4/4\u001b[0m \u001b[32m━━━━━━━━━━━━━━━━━━━━\u001b[0m\u001b[37m\u001b[0m \u001b[1m1s\u001b[0m 355ms/step - loss: 0.7131 - mae: 0.7131 - mse: 0.8473 - val_loss: 0.6986 - val_mae: 0.6986 - val_mse: 0.7568\n",
            "Epoch 97/100\n",
            "\u001b[1m4/4\u001b[0m \u001b[32m━━━━━━━━━━━━━━━━━━━━\u001b[0m\u001b[37m\u001b[0m \u001b[1m1s\u001b[0m 352ms/step - loss: 0.7078 - mae: 0.7078 - mse: 0.8579 - val_loss: 0.6910 - val_mae: 0.6910 - val_mse: 0.7426\n",
            "Epoch 98/100\n",
            "\u001b[1m4/4\u001b[0m \u001b[32m━━━━━━━━━━━━━━━━━━━━\u001b[0m\u001b[37m\u001b[0m \u001b[1m2s\u001b[0m 422ms/step - loss: 0.6718 - mae: 0.6718 - mse: 0.8335 - val_loss: 0.6832 - val_mae: 0.6832 - val_mse: 0.7410\n",
            "Epoch 99/100\n",
            "\u001b[1m4/4\u001b[0m \u001b[32m━━━━━━━━━━━━━━━━━━━━\u001b[0m\u001b[37m\u001b[0m \u001b[1m2s\u001b[0m 455ms/step - loss: 0.7160 - mae: 0.7160 - mse: 0.8957 - val_loss: 0.6876 - val_mae: 0.6876 - val_mse: 0.7632\n",
            "Epoch 100/100\n",
            "\u001b[1m4/4\u001b[0m \u001b[32m━━━━━━━━━━━━━━━━━━━━\u001b[0m\u001b[37m\u001b[0m \u001b[1m2s\u001b[0m 351ms/step - loss: 0.7146 - mae: 0.7146 - mse: 0.8332 - val_loss: 0.6998 - val_mae: 0.6998 - val_mse: 0.7961\n"
          ]
        }
      ],
      "source": [
        "history = model.fit(\n",
        "    X_3Dtrain, y_train,\n",
        "    epochs=100,\n",
        "    batch_size=128,  # Larger batch for speed\n",
        "    validation_data=(X_3Dtest, y_test),\n",
        "    verbose=1,\n",
        "\n",
        ")\n",
        "\n",
        "\n"
      ]
    },
    {
      "cell_type": "code",
      "execution_count": 23,
      "metadata": {
        "colab": {
          "base_uri": "https://localhost:8080/"
        },
        "id": "W-1HBF5k2dOw",
        "outputId": "55649537-a5e5-47b8-9266-c350e5f630e8"
      },
      "outputs": [
        {
          "output_type": "stream",
          "name": "stdout",
          "text": [
            "\u001b[1m4/4\u001b[0m \u001b[32m━━━━━━━━━━━━━━━━━━━━\u001b[0m\u001b[37m\u001b[0m \u001b[1m1s\u001b[0m 306ms/step\n"
          ]
        }
      ],
      "source": [
        "# ✅ Predict on Test Data\n",
        "y_pred = model.predict(X_3Dtest)\n",
        "\n"
      ]
    },
    {
      "cell_type": "code",
      "execution_count": 24,
      "metadata": {
        "id": "l9WhXDCI8jlf"
      },
      "outputs": [],
      "source": [
        " # ✅ Inverse Transform Predictions\n",
        "y_pred_original = target_scaler.inverse_transform(y_pred)\n",
        "y_test_original = target_scaler.inverse_transform(y_test)\n",
        "\n"
      ]
    },
    {
      "cell_type": "code",
      "execution_count": 25,
      "metadata": {
        "id": "0CJBfL7108cl"
      },
      "outputs": [],
      "source": [
        "# ✅ Compute MSE and MAE (Original Scale)\n",
        "final_mse = mean_squared_error(y_test_original, y_pred_original)\n",
        "final_mae = mean_absolute_error(y_test_original, y_pred_original)\n"
      ]
    },
    {
      "cell_type": "code",
      "execution_count": 26,
      "metadata": {
        "colab": {
          "base_uri": "https://localhost:8080/"
        },
        "id": "PDsz7duq1CDi",
        "outputId": "773178fa-bc36-455e-df0e-8968ada28c9f"
      },
      "outputs": [
        {
          "output_type": "stream",
          "name": "stdout",
          "text": [
            "✅ Final MSE: 90.6035\n",
            "✅ Final MAE: 7.4651\n"
          ]
        }
      ],
      "source": [
        "print(f\"✅ Final MSE: {final_mse:.4f}\")\n",
        "print(f\"✅ Final MAE: {final_mae:.4f}\")\n"
      ]
    },
    {
      "cell_type": "code",
      "execution_count": 27,
      "metadata": {
        "colab": {
          "base_uri": "https://localhost:8080/"
        },
        "id": "s5MGE5IUfRiV",
        "outputId": "5e0da6e6-0258-4c6d-aa53-147e43ab2f2b"
      },
      "outputs": [
        {
          "output_type": "execute_result",
          "data": {
            "text/plain": [
              "array([[80.57559 ],\n",
              "       [90.680046],\n",
              "       [82.81155 ],\n",
              "       [87.6459  ],\n",
              "       [79.86519 ],\n",
              "       [94.516136],\n",
              "       [77.64835 ],\n",
              "       [91.42241 ],\n",
              "       [82.52225 ],\n",
              "       [95.41397 ],\n",
              "       [86.13012 ],\n",
              "       [78.98876 ],\n",
              "       [86.10114 ],\n",
              "       [76.93534 ],\n",
              "       [79.24292 ],\n",
              "       [87.824524],\n",
              "       [84.53656 ],\n",
              "       [78.38741 ],\n",
              "       [95.20817 ],\n",
              "       [82.296555],\n",
              "       [85.41704 ],\n",
              "       [90.74238 ],\n",
              "       [86.436325],\n",
              "       [91.27716 ],\n",
              "       [96.199005],\n",
              "       [80.630875],\n",
              "       [88.50658 ],\n",
              "       [86.32447 ],\n",
              "       [90.0714  ],\n",
              "       [79.6176  ],\n",
              "       [79.238075],\n",
              "       [83.46707 ],\n",
              "       [87.51315 ],\n",
              "       [80.801926],\n",
              "       [77.29665 ],\n",
              "       [85.94579 ],\n",
              "       [77.56053 ],\n",
              "       [75.70136 ],\n",
              "       [97.56734 ],\n",
              "       [79.53395 ],\n",
              "       [83.09097 ],\n",
              "       [89.54686 ],\n",
              "       [99.38213 ],\n",
              "       [87.03167 ],\n",
              "       [86.19544 ],\n",
              "       [91.075294],\n",
              "       [78.88176 ],\n",
              "       [93.08503 ],\n",
              "       [83.284164],\n",
              "       [86.08002 ],\n",
              "       [97.980896],\n",
              "       [83.97371 ],\n",
              "       [84.75853 ],\n",
              "       [87.82939 ],\n",
              "       [91.931274],\n",
              "       [80.955894],\n",
              "       [81.50397 ],\n",
              "       [97.3543  ],\n",
              "       [86.01219 ],\n",
              "       [84.9354  ],\n",
              "       [88.07262 ],\n",
              "       [72.9558  ],\n",
              "       [81.0119  ],\n",
              "       [83.435455],\n",
              "       [90.72317 ],\n",
              "       [99.52589 ],\n",
              "       [82.40072 ],\n",
              "       [92.826355],\n",
              "       [82.63037 ],\n",
              "       [88.539375],\n",
              "       [84.67519 ],\n",
              "       [75.94911 ],\n",
              "       [90.31581 ],\n",
              "       [87.52816 ],\n",
              "       [86.019875],\n",
              "       [87.2823  ],\n",
              "       [85.874214],\n",
              "       [83.407715],\n",
              "       [90.521935],\n",
              "       [88.56882 ],\n",
              "       [88.43549 ],\n",
              "       [90.65828 ],\n",
              "       [89.39418 ],\n",
              "       [94.13913 ],\n",
              "       [84.037025],\n",
              "       [90.43377 ],\n",
              "       [81.48463 ],\n",
              "       [90.11036 ],\n",
              "       [89.598305],\n",
              "       [81.613335],\n",
              "       [79.94513 ],\n",
              "       [77.28768 ],\n",
              "       [79.94313 ],\n",
              "       [84.473946],\n",
              "       [86.79396 ],\n",
              "       [82.685074],\n",
              "       [85.56281 ],\n",
              "       [92.453186],\n",
              "       [88.12391 ],\n",
              "       [85.098434],\n",
              "       [83.67875 ],\n",
              "       [77.85002 ],\n",
              "       [80.58229 ],\n",
              "       [85.21838 ],\n",
              "       [82.963806],\n",
              "       [76.87718 ],\n",
              "       [80.40862 ],\n",
              "       [76.8735  ]], dtype=float32)"
            ]
          },
          "metadata": {},
          "execution_count": 27
        }
      ],
      "source": [
        "y_pred_original"
      ]
    },
    {
      "cell_type": "code",
      "execution_count": 28,
      "metadata": {
        "colab": {
          "base_uri": "https://localhost:8080/"
        },
        "id": "7LiBeDrgfjG0",
        "outputId": "d8722879-bb23-4b9e-9f2e-2d6a86004ecd"
      },
      "outputs": [
        {
          "output_type": "execute_result",
          "data": {
            "text/plain": [
              "array([[107.],\n",
              "       [ 87.],\n",
              "       [ 94.],\n",
              "       [ 96.],\n",
              "       [ 82.],\n",
              "       [ 76.],\n",
              "       [ 76.],\n",
              "       [ 98.],\n",
              "       [ 82.],\n",
              "       [103.],\n",
              "       [ 78.],\n",
              "       [109.],\n",
              "       [ 78.],\n",
              "       [ 82.],\n",
              "       [ 96.],\n",
              "       [ 81.],\n",
              "       [ 89.],\n",
              "       [ 79.],\n",
              "       [ 78.],\n",
              "       [ 78.],\n",
              "       [ 87.],\n",
              "       [ 87.],\n",
              "       [ 96.],\n",
              "       [ 90.],\n",
              "       [ 70.],\n",
              "       [ 88.],\n",
              "       [ 97.],\n",
              "       [ 89.],\n",
              "       [ 92.],\n",
              "       [ 94.],\n",
              "       [ 90.],\n",
              "       [ 80.],\n",
              "       [ 98.],\n",
              "       [ 93.],\n",
              "       [ 81.],\n",
              "       [ 91.],\n",
              "       [ 81.],\n",
              "       [ 89.],\n",
              "       [114.],\n",
              "       [ 74.],\n",
              "       [ 88.],\n",
              "       [ 93.],\n",
              "       [ 95.],\n",
              "       [ 78.],\n",
              "       [ 97.],\n",
              "       [ 91.],\n",
              "       [ 73.],\n",
              "       [ 95.],\n",
              "       [ 79.],\n",
              "       [ 76.],\n",
              "       [ 74.],\n",
              "       [ 89.],\n",
              "       [ 75.],\n",
              "       [ 90.],\n",
              "       [ 94.],\n",
              "       [ 70.],\n",
              "       [ 89.],\n",
              "       [101.],\n",
              "       [ 82.],\n",
              "       [100.],\n",
              "       [ 98.],\n",
              "       [ 71.],\n",
              "       [ 74.],\n",
              "       [ 77.],\n",
              "       [ 75.],\n",
              "       [ 81.],\n",
              "       [ 70.],\n",
              "       [ 90.],\n",
              "       [ 84.],\n",
              "       [ 96.],\n",
              "       [ 96.],\n",
              "       [ 77.],\n",
              "       [ 87.],\n",
              "       [ 94.],\n",
              "       [ 89.],\n",
              "       [104.],\n",
              "       [ 76.],\n",
              "       [ 95.],\n",
              "       [ 92.],\n",
              "       [ 96.],\n",
              "       [ 90.],\n",
              "       [ 88.],\n",
              "       [ 95.],\n",
              "       [ 83.],\n",
              "       [ 87.],\n",
              "       [ 92.],\n",
              "       [ 86.],\n",
              "       [ 87.],\n",
              "       [ 89.],\n",
              "       [ 96.],\n",
              "       [ 68.],\n",
              "       [ 78.],\n",
              "       [ 92.],\n",
              "       [ 86.],\n",
              "       [ 78.],\n",
              "       [ 79.],\n",
              "       [ 94.],\n",
              "       [ 95.],\n",
              "       [ 96.],\n",
              "       [ 79.],\n",
              "       [ 78.],\n",
              "       [ 72.],\n",
              "       [ 71.],\n",
              "       [ 81.],\n",
              "       [ 78.],\n",
              "       [ 87.],\n",
              "       [ 82.],\n",
              "       [ 69.]], dtype=float32)"
            ]
          },
          "metadata": {},
          "execution_count": 28
        }
      ],
      "source": [
        "y_test_original"
      ]
    },
    {
      "cell_type": "code",
      "execution_count": 29,
      "metadata": {
        "id": "FjHd48vnmeZK"
      },
      "outputs": [],
      "source": [
        "correlation = np.corrcoef(y_test_original[:, 0], y_pred_original[:, 0])[0, 1]  # Assuming Omron Diastolic is in the first column\n"
      ]
    },
    {
      "cell_type": "code",
      "source": [
        "Correlation = correlation * 100"
      ],
      "metadata": {
        "id": "py47zavCEyHa"
      },
      "execution_count": 30,
      "outputs": []
    },
    {
      "cell_type": "code",
      "source": [
        "Correlation"
      ],
      "metadata": {
        "colab": {
          "base_uri": "https://localhost:8080/"
        },
        "id": "OJNRhsX2E2r3",
        "outputId": "160c1288-b4ab-4c03-87b8-8cc5efdd5c86"
      },
      "execution_count": 31,
      "outputs": [
        {
          "output_type": "execute_result",
          "data": {
            "text/plain": [
              "np.float64(31.30871581183672)"
            ]
          },
          "metadata": {},
          "execution_count": 31
        }
      ]
    },
    {
      "cell_type": "code",
      "execution_count": 33,
      "metadata": {
        "colab": {
          "base_uri": "https://localhost:8080/",
          "height": 504
        },
        "id": "WNcflU051Ehl",
        "outputId": "2f992c1f-ea9d-46da-d19b-7164fd5ab64d"
      },
      "outputs": [
        {
          "output_type": "execute_result",
          "data": {
            "text/plain": [
              "Text(0.5, 1.0, 'Omron Diastolic Prediction')"
            ]
          },
          "metadata": {},
          "execution_count": 33
        },
        {
          "output_type": "display_data",
          "data": {
            "text/plain": [
              "<Figure size 1200x500 with 1 Axes>"
            ],
            "image/png": "[encoded data removed]"
          },
          "metadata": {}
        }
      ],
      "source": [
        "# ✅ Graphical Representation\n",
        "plt.figure(figsize=(12, 5))\n",
        "\n",
        "# Plot Omron Diastolic\n",
        "plt.subplot(1, 2, 1)\n",
        "plt.plot(y_test_original[:, 0], label=\"Actual Diastolic\", marker='o')\n",
        "plt.plot(y_pred_original[:, 0], label=\"Predicted Diastolic\", linestyle='dashed', marker='s')\n",
        "plt.xlabel(\"Sample Index\")\n",
        "plt.ylabel(\"Omron Diastolic Value\")\n",
        "plt.legend()\n",
        "plt.title(\"Omron Diastolic Prediction\")\n",
        "\n"
      ]
    },
    {
      "cell_type": "code",
      "execution_count": 51,
      "metadata": {
        "id": "JoXmkgH_1Ng2"
      },
      "outputs": [],
      "source": []
    }
  ],
  "metadata": {
    "colab": {
      "provenance": [],
      "gpuType": "T4"
    },
    "kernelspec": {
      "display_name": "Python 3",
      "name": "python3"
    },
    "language_info": {
      "name": "python"
    },
    "accelerator": "GPU"
  },
  "nbformat": 4,
  "nbformat_minor": 0
}