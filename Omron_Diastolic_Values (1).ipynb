{
  "cells": [
    {
      "cell_type": "code",
      "execution_count": 23,
      "metadata": {
        "id": "6c0dS35DSps5"
      },
      "outputs": [],
      "source": [
        "# ✅ Import Required Libraries\n",
        "import os\n",
        "import numpy as np\n",
        "import pandas as pd\n",
        "import tensorflow as tf\n",
        "from tensorflow.keras.models import Sequential\n",
        "from tensorflow.keras.layers import GRU, Dense, Dropout, BatchNormalization, Input\n",
        "from tensorflow.keras.optimizers import Adam\n",
        "from sklearn.preprocessing import MinMaxScaler, LabelEncoder\n",
        "from sklearn.model_selection import train_test_split\n",
        "from sklearn.metrics import mean_squared_error, mean_absolute_error\n",
        "import joblib\n",
        "import matplotlib.pyplot as plt\n"
      ]
    },
    {
      "cell_type": "code",
      "execution_count": 24,
      "metadata": {
        "colab": {
          "base_uri": "https://localhost:8080/"
        },
        "id": "lU709se9TOB3",
        "outputId": "7785d13d-a43f-44a0-d8ca-80e0e890aa47"
      },
      "outputs": [
        {
          "output_type": "stream",
          "name": "stdout",
          "text": [
            "Drive already mounted at /content/drive; to attempt to forcibly remount, call drive.mount(\"/content/drive\", force_remount=True).\n"
          ]
        }
      ],
      "source": [
        "\n",
        "from google.colab import drive\n",
        "drive.mount('/content/drive')\n"
      ]
    },
    {
      "cell_type": "code",
      "execution_count": 25,
      "metadata": {
        "id": "tj2HnldJTeg_"
      },
      "outputs": [],
      "source": [
        "# ✅ Enable Mixed Precision for Faster Computation\n",
        "tf.keras.mixed_precision.set_global_policy('mixed_float16')\n"
      ]
    },
    {
      "cell_type": "code",
      "execution_count": 26,
      "metadata": {
        "id": "rtLoJKoOqyKj"
      },
      "outputs": [],
      "source": [
        "# ✅ Define Paths\n",
        "reference_file = \"/content/drive/MyDrive/Jan 4/Reference_Output_Until_Jan02_2025 (4).csv\"\n",
        "predictor_folder = \"/content/drive/MyDrive/Jan 4/5000_X_12_Until_Jan02_2025\"\n",
        "\n"
      ]
    },
    {
      "cell_type": "code",
      "execution_count": 27,
      "metadata": {
        "id": "-nlgbyYNrusm"
      },
      "outputs": [],
      "source": [
        "reference_df = pd.read_csv(reference_file)  # Columns: Reading_File_Name, A, B, reading_id, gender, etc."
      ]
    },
    {
      "cell_type": "code",
      "execution_count": 28,
      "metadata": {
        "id": "5WJO-Ow5r5ZF"
      },
      "outputs": [],
      "source": [
        "# ✅ Extract Target (Omron Diastolic)\n",
        "y = reference_df[['Omron Diastolic']].to_numpy(dtype=np.float32)\n"
      ]
    },
    {
      "cell_type": "code",
      "execution_count": 29,
      "metadata": {
        "id": "rbWVMRZAtMG0"
      },
      "outputs": [],
      "source": [
        "# ✅ Normalize Target Values\n",
        "from sklearn.preprocessing import StandardScaler\n",
        "target_scaler = StandardScaler()\n",
        "y_scaled = target_scaler.fit_transform(y)\n"
      ]
    },
    {
      "cell_type": "code",
      "execution_count": 30,
      "metadata": {
        "colab": {
          "base_uri": "https://localhost:8080/"
        },
        "id": "3IoXlAOrsDdn",
        "outputId": "8a7bf3ba-4101-4f70-8fb7-4baadd7bb659"
      },
      "outputs": [
        {
          "output_type": "execute_result",
          "data": {
            "text/plain": [
              "['/content/drive/MyDrive/pkl files/target_scaler18.pkl']"
            ]
          },
          "metadata": {},
          "execution_count": 30
        }
      ],
      "source": [
        "# Save target scaler\n",
        "joblib.dump(target_scaler, \"/content/drive/MyDrive/pkl files/target_scaler18.pkl\")\n"
      ]
    },
    {
      "cell_type": "code",
      "execution_count": 31,
      "metadata": {
        "id": "beXaoJLpsqkl"
      },
      "outputs": [],
      "source": [
        "# ✅ Load and Process Predictor Files in a Single Pass\n",
        "aggregated_data = []\n",
        "predictor_files = sorted([f for f in os.listdir(predictor_folder) if f.endswith(\".csv\")])\n",
        "\n"
      ]
    },
    {
      "cell_type": "code",
      "execution_count": 32,
      "metadata": {
        "id": "Mne3y9_Cwync"
      },
      "outputs": [],
      "source": [
        "for file in predictor_files:\n",
        "    df = pd.read_csv(os.path.join(predictor_folder, file), dtype=np.float32)\n",
        "\n",
        "    # Handle missing values\n",
        "    df.fillna(df.median(numeric_only=True), inplace=True)\n",
        "\n",
        "    aggregated_data.append(df.to_numpy(dtype=np.float32))\n",
        "\n",
        "\n"
      ]
    },
    {
      "cell_type": "code",
      "execution_count": 33,
      "metadata": {
        "id": "zsa2VKsN1bFV"
      },
      "outputs": [],
      "source": [
        "# ✅ Convert to NumPy Array\n",
        "X = np.array(aggregated_data, dtype=np.float32)\n"
      ]
    },
    {
      "cell_type": "code",
      "execution_count": 34,
      "metadata": {
        "id": "z0j3TdXH1y6J"
      },
      "outputs": [],
      "source": [
        "# ✅ Ensure Proper Shape for GRU (samples, timesteps, features)\n",
        "X = X.reshape(X.shape[0], X.shape[1], X.shape[2])\n"
      ]
    },
    {
      "cell_type": "code",
      "execution_count": 35,
      "metadata": {
        "id": "acFNgUmaVSIR"
      },
      "outputs": [],
      "source": [
        "X_2D = X.reshape(-1,X.shape[2])\n"
      ]
    },
    {
      "cell_type": "code",
      "execution_count": 36,
      "metadata": {
        "id": "eHbL2UQ3VbIy"
      },
      "outputs": [],
      "source": [
        "from sklearn.preprocessing import StandardScaler\n",
        "scaler = StandardScaler()\n",
        "X_scaled = scaler.fit_transform(X_2D)\n"
      ]
    },
    {
      "cell_type": "code",
      "execution_count": 37,
      "metadata": {
        "id": "8WVoc7FjWQ50"
      },
      "outputs": [],
      "source": [
        "X_3D = X_scaled.reshape(X.shape[0], X.shape[1], X.shape[2])"
      ]
    },
    {
      "cell_type": "code",
      "execution_count": 38,
      "metadata": {
        "id": "G12ec3mv16Yk"
      },
      "outputs": [],
      "source": [
        "# ✅ Split Data (20% Test, 80% Train)\n",
        "X_3Dtrain, X_3Dtest, y_train, y_test = train_test_split(X_3D, y_scaled, test_size=0.2, random_state=42)\n",
        "\n",
        "\n"
      ]
    },
    {
      "cell_type": "code",
      "execution_count": 39,
      "metadata": {
        "colab": {
          "base_uri": "https://localhost:8080/"
        },
        "id": "v3-P8Jz6clUW",
        "outputId": "8b4004f3-f47b-4333-f327-461781ee5f66"
      },
      "outputs": [
        {
          "output_type": "execute_result",
          "data": {
            "text/plain": [
              "(108, 5000, 12)"
            ]
          },
          "metadata": {},
          "execution_count": 39
        }
      ],
      "source": [
        "X_3Dtest.shape"
      ]
    },
    {
      "cell_type": "code",
      "execution_count": 40,
      "metadata": {
        "colab": {
          "base_uri": "https://localhost:8080/"
        },
        "id": "PQTdUL_XcyCl",
        "outputId": "5472f21d-5866-48d1-9dfe-9fd826a3f147"
      },
      "outputs": [
        {
          "output_type": "execute_result",
          "data": {
            "text/plain": [
              "array([[ 0.8159395 ],\n",
              "       [-0.49639365],\n",
              "       [ 0.53472525],\n",
              "       [-0.49639365],\n",
              "       [-1.3400364 ],\n",
              "       [ 0.8159395 ],\n",
              "       [ 0.44098717],\n",
              "       [ 0.06603482],\n",
              "       [ 0.06603482],\n",
              "       [-1.0588222 ],\n",
              "       [ 0.34724906],\n",
              "       [-1.3400364 ],\n",
              "       [-1.5275127 ],\n",
              "       [-0.68386984],\n",
              "       [-0.68386984],\n",
              "       [-1.2462983 ],\n",
              "       [-1.3400364 ],\n",
              "       [ 0.06603482],\n",
              "       [ 0.06603482],\n",
              "       [-1.1525602 ],\n",
              "       [-0.7776079 ],\n",
              "       [ 0.25351098],\n",
              "       [ 0.34724906],\n",
              "       [-1.2462983 ],\n",
              "       [-0.12144134],\n",
              "       [ 2.0345345 ],\n",
              "       [ 1.6595821 ],\n",
              "       [-0.40265557],\n",
              "       [-1.5275127 ],\n",
              "       [-0.49639365],\n",
              "       [ 0.8159395 ],\n",
              "       [-0.49639365],\n",
              "       [ 0.6284633 ],\n",
              "       [-0.49639365],\n",
              "       [ 0.6284633 ],\n",
              "       [-1.2462983 ],\n",
              "       [-0.871346  ],\n",
              "       [ 0.1597729 ],\n",
              "       [-0.68386984],\n",
              "       [ 0.44098717],\n",
              "       [-0.49639365],\n",
              "       [-0.59013176],\n",
              "       [ 0.44098717],\n",
              "       [-0.7776079 ],\n",
              "       [ 1.0034157 ],\n",
              "       [ 0.7222014 ],\n",
              "       [ 1.0971538 ],\n",
              "       [-0.9650841 ],\n",
              "       [-0.02770326],\n",
              "       [-0.02770326],\n",
              "       [-0.9650841 ],\n",
              "       [-1.6212507 ],\n",
              "       [-1.8087269 ],\n",
              "       [-0.59013176],\n",
              "       [ 0.25351098],\n",
              "       [-0.871346  ],\n",
              "       [ 0.7222014 ],\n",
              "       [ 1.1908919 ],\n",
              "       [ 0.44098717],\n",
              "       [ 0.90967757],\n",
              "       [ 0.44098717],\n",
              "       [-0.40265557],\n",
              "       [-1.2462983 ],\n",
              "       [ 2.5032248 ],\n",
              "       [ 0.44098717],\n",
              "       [-0.49639365],\n",
              "       [-1.5275127 ],\n",
              "       [ 0.1597729 ],\n",
              "       [-0.30891752],\n",
              "       [ 0.34724906],\n",
              "       [ 1.0034157 ],\n",
              "       [-0.21517944],\n",
              "       [-0.30891752],\n",
              "       [ 0.34724906],\n",
              "       [-1.1525602 ],\n",
              "       [-0.30891752],\n",
              "       [-0.59013176],\n",
              "       [ 0.6284633 ],\n",
              "       [-0.12144134],\n",
              "       [ 1.0034157 ],\n",
              "       [-0.30891752],\n",
              "       [ 0.90967757],\n",
              "       [ 0.06603482],\n",
              "       [ 0.8159395 ],\n",
              "       [ 1.0034157 ],\n",
              "       [-1.902465  ],\n",
              "       [-0.12144134],\n",
              "       [ 0.8159395 ],\n",
              "       [ 0.06603482],\n",
              "       [-0.68386984],\n",
              "       [-0.12144134],\n",
              "       [ 0.6284633 ],\n",
              "       [-0.40265557],\n",
              "       [-1.2462983 ],\n",
              "       [-0.21517944],\n",
              "       [-0.59013176],\n",
              "       [ 0.06603482],\n",
              "       [-1.0588222 ],\n",
              "       [-1.0588222 ],\n",
              "       [-0.40265557],\n",
              "       [-1.9962031 ],\n",
              "       [-0.59013176],\n",
              "       [-1.0588222 ],\n",
              "       [-1.5275127 ],\n",
              "       [-0.12144134],\n",
              "       [-0.871346  ],\n",
              "       [-0.30891752],\n",
              "       [ 1.0034157 ],\n",
              "       [ 0.6284633 ],\n",
              "       [ 0.25351098],\n",
              "       [-0.12144134],\n",
              "       [ 1.7533202 ],\n",
              "       [ 2.5032248 ],\n",
              "       [ 0.90967757],\n",
              "       [ 0.1597729 ],\n",
              "       [-0.40265557],\n",
              "       [ 0.06603482],\n",
              "       [ 0.44098717],\n",
              "       [ 0.6284633 ],\n",
              "       [ 2.2220106 ],\n",
              "       [ 1.7533202 ],\n",
              "       [ 1.8470583 ],\n",
              "       [ 0.6284633 ],\n",
              "       [ 0.7222014 ],\n",
              "       [ 1.0034157 ],\n",
              "       [-1.9962031 ],\n",
              "       [ 0.06603482],\n",
              "       [-0.40265557],\n",
              "       [ 0.25351098],\n",
              "       [ 1.4721061 ],\n",
              "       [-0.68386984],\n",
              "       [-0.02770326],\n",
              "       [ 0.34724906],\n",
              "       [ 4.2842484 ],\n",
              "       [ 1.0034157 ],\n",
              "       [ 0.53472525],\n",
              "       [ 0.25351098],\n",
              "       [-0.49639365],\n",
              "       [ 2.8781772 ],\n",
              "       [-1.9962031 ],\n",
              "       [ 0.06603482],\n",
              "       [-1.2462983 ],\n",
              "       [-0.7776079 ],\n",
              "       [ 0.06603482],\n",
              "       [-0.49639365],\n",
              "       [-0.30891752],\n",
              "       [ 0.06603482],\n",
              "       [ 2.4094868 ],\n",
              "       [ 4.003034  ],\n",
              "       [ 1.378368  ],\n",
              "       [-0.49639365],\n",
              "       [-0.871346  ],\n",
              "       [-0.7776079 ],\n",
              "       [ 1.0971538 ],\n",
              "       [-0.7776079 ],\n",
              "       [-0.7776079 ],\n",
              "       [ 0.6284633 ],\n",
              "       [ 0.7222014 ],\n",
              "       [-1.1525602 ],\n",
              "       [-0.21517944],\n",
              "       [-2.0899413 ],\n",
              "       [ 2.2220106 ],\n",
              "       [-0.21517944],\n",
              "       [ 0.1597729 ],\n",
              "       [ 2.690701  ],\n",
              "       [ 0.8159395 ],\n",
              "       [ 0.44098717],\n",
              "       [ 0.25351098],\n",
              "       [-0.68386984],\n",
              "       [ 1.28463   ],\n",
              "       [-0.49639365],\n",
              "       [-1.3400364 ],\n",
              "       [ 1.0971538 ],\n",
              "       [ 1.378368  ],\n",
              "       [ 1.0034157 ],\n",
              "       [-0.30891752],\n",
              "       [-2.0899413 ],\n",
              "       [ 0.06603482],\n",
              "       [-0.21517944],\n",
              "       [-0.871346  ],\n",
              "       [ 0.06603482],\n",
              "       [ 0.25351098],\n",
              "       [ 0.44098717],\n",
              "       [-0.68386984],\n",
              "       [-0.49639365],\n",
              "       [-0.12144134],\n",
              "       [ 0.25351098],\n",
              "       [-0.9650841 ],\n",
              "       [-1.1525602 ],\n",
              "       [ 0.6284633 ],\n",
              "       [-0.30891752],\n",
              "       [-0.7776079 ],\n",
              "       [ 1.1908919 ],\n",
              "       [ 1.565844  ],\n",
              "       [ 1.6595821 ],\n",
              "       [-0.02770326],\n",
              "       [-1.0588222 ],\n",
              "       [-1.7149888 ],\n",
              "       [-0.7776079 ],\n",
              "       [-0.7776079 ],\n",
              "       [-0.68386984],\n",
              "       [-0.59013176],\n",
              "       [ 0.06603482],\n",
              "       [-0.21517944],\n",
              "       [-0.59013176],\n",
              "       [ 1.4721061 ],\n",
              "       [-1.6212507 ],\n",
              "       [ 1.0034157 ],\n",
              "       [ 0.34724906],\n",
              "       [-1.0588222 ],\n",
              "       [ 0.34724906],\n",
              "       [-0.49639365],\n",
              "       [ 0.8159395 ],\n",
              "       [-1.3400364 ],\n",
              "       [ 0.34724906],\n",
              "       [-1.2462983 ],\n",
              "       [-0.21517944],\n",
              "       [-0.02770326],\n",
              "       [-1.2462983 ],\n",
              "       [ 1.8470583 ],\n",
              "       [ 2.5032248 ],\n",
              "       [ 0.1597729 ],\n",
              "       [ 0.6284633 ],\n",
              "       [-1.2462983 ],\n",
              "       [ 0.1597729 ],\n",
              "       [-0.9650841 ],\n",
              "       [ 0.25351098],\n",
              "       [-0.49639365],\n",
              "       [-0.02770326],\n",
              "       [ 0.06603482],\n",
              "       [ 0.6284633 ],\n",
              "       [-0.30891752],\n",
              "       [ 0.1597729 ],\n",
              "       [-0.49639365],\n",
              "       [-0.68386984],\n",
              "       [ 0.1597729 ],\n",
              "       [-0.21517944],\n",
              "       [ 0.90967757],\n",
              "       [-0.59013176],\n",
              "       [ 0.34724906],\n",
              "       [-0.59013176],\n",
              "       [-0.30891752],\n",
              "       [-0.21517944],\n",
              "       [ 0.1597729 ],\n",
              "       [-0.21517944],\n",
              "       [ 2.1282725 ],\n",
              "       [-0.9650841 ],\n",
              "       [ 0.1597729 ],\n",
              "       [-0.9650841 ],\n",
              "       [-0.68386984],\n",
              "       [ 0.8159395 ],\n",
              "       [ 0.6284633 ],\n",
              "       [ 0.53472525],\n",
              "       [ 0.53472525],\n",
              "       [ 0.53472525],\n",
              "       [ 0.7222014 ],\n",
              "       [-0.49639365],\n",
              "       [-0.30891752],\n",
              "       [-0.68386984],\n",
              "       [-0.12144134],\n",
              "       [ 1.28463   ],\n",
              "       [ 1.8470583 ],\n",
              "       [-0.30891752],\n",
              "       [-1.3400364 ],\n",
              "       [-0.9650841 ],\n",
              "       [ 0.53472525],\n",
              "       [-1.1525602 ],\n",
              "       [ 0.44098717],\n",
              "       [ 0.1597729 ],\n",
              "       [ 0.34724906],\n",
              "       [-1.4337745 ],\n",
              "       [ 1.0971538 ],\n",
              "       [-0.12144134],\n",
              "       [ 1.7533202 ],\n",
              "       [-0.68386984],\n",
              "       [ 0.1597729 ],\n",
              "       [-0.02770326],\n",
              "       [ 0.53472525],\n",
              "       [-0.40265557],\n",
              "       [ 1.6595821 ],\n",
              "       [-0.68386984],\n",
              "       [-0.30891752],\n",
              "       [-0.7776079 ],\n",
              "       [-0.9650841 ],\n",
              "       [ 1.9407964 ],\n",
              "       [ 0.8159395 ],\n",
              "       [-0.68386984],\n",
              "       [-0.40265557],\n",
              "       [ 1.28463   ],\n",
              "       [-0.30891752],\n",
              "       [ 0.44098717],\n",
              "       [-0.9650841 ],\n",
              "       [-0.9650841 ],\n",
              "       [ 0.6284633 ],\n",
              "       [-1.5275127 ],\n",
              "       [ 2.784439  ],\n",
              "       [ 1.0034157 ],\n",
              "       [-0.21517944],\n",
              "       [-1.6212507 ],\n",
              "       [-0.21517944],\n",
              "       [-0.21517944],\n",
              "       [ 0.06603482],\n",
              "       [ 0.6284633 ],\n",
              "       [ 0.06603482],\n",
              "       [ 1.0971538 ],\n",
              "       [-0.40265557],\n",
              "       [ 0.6284633 ],\n",
              "       [ 0.8159395 ],\n",
              "       [-0.21517944],\n",
              "       [-0.30891752],\n",
              "       [-0.68386984],\n",
              "       [-0.871346  ],\n",
              "       [-1.5275127 ],\n",
              "       [-0.21517944],\n",
              "       [-0.9650841 ],\n",
              "       [-0.9650841 ],\n",
              "       [ 0.25351098],\n",
              "       [-0.40265557],\n",
              "       [-1.5275127 ],\n",
              "       [-1.1525602 ],\n",
              "       [ 0.90967757],\n",
              "       [-0.68386984],\n",
              "       [-0.49639365],\n",
              "       [ 1.9407964 ],\n",
              "       [-0.02770326],\n",
              "       [ 1.378368  ],\n",
              "       [ 0.1597729 ],\n",
              "       [-0.59013176],\n",
              "       [-0.9650841 ],\n",
              "       [ 2.0345345 ],\n",
              "       [ 1.7533202 ],\n",
              "       [-0.9650841 ],\n",
              "       [-0.59013176],\n",
              "       [ 2.2220106 ],\n",
              "       [-0.871346  ],\n",
              "       [ 0.34724906],\n",
              "       [-1.6212507 ],\n",
              "       [ 0.7222014 ],\n",
              "       [-1.2462983 ],\n",
              "       [-0.49639365],\n",
              "       [ 2.5032248 ],\n",
              "       [-0.21517944],\n",
              "       [-0.59013176],\n",
              "       [-0.9650841 ],\n",
              "       [-0.30891752],\n",
              "       [ 1.0034157 ],\n",
              "       [-0.7776079 ],\n",
              "       [-0.21517944],\n",
              "       [-0.21517944],\n",
              "       [-0.871346  ],\n",
              "       [ 3.7218199 ],\n",
              "       [-0.12144134],\n",
              "       [-0.40265557],\n",
              "       [ 0.34724906],\n",
              "       [-1.0588222 ],\n",
              "       [ 0.1597729 ],\n",
              "       [ 0.6284633 ],\n",
              "       [ 1.4721061 ],\n",
              "       [-0.40265557],\n",
              "       [-0.40265557],\n",
              "       [ 0.6284633 ],\n",
              "       [ 1.6595821 ],\n",
              "       [-0.49639365],\n",
              "       [ 0.7222014 ],\n",
              "       [-0.02770326],\n",
              "       [ 0.06603482],\n",
              "       [-1.3400364 ],\n",
              "       [ 1.7533202 ],\n",
              "       [-0.9650841 ],\n",
              "       [ 0.6284633 ],\n",
              "       [ 0.53472525],\n",
              "       [ 1.4721061 ],\n",
              "       [ 0.7222014 ],\n",
              "       [-1.7149888 ],\n",
              "       [ 0.06603482],\n",
              "       [ 0.8159395 ],\n",
              "       [-1.1525602 ],\n",
              "       [ 0.8159395 ],\n",
              "       [-1.1525602 ],\n",
              "       [-0.9650841 ],\n",
              "       [-0.59013176],\n",
              "       [ 0.1597729 ],\n",
              "       [ 1.8470583 ],\n",
              "       [-0.12144134],\n",
              "       [-1.3400364 ],\n",
              "       [ 0.34724906],\n",
              "       [-0.68386984],\n",
              "       [ 0.6284633 ],\n",
              "       [-0.871346  ],\n",
              "       [ 0.44098717],\n",
              "       [-1.1525602 ],\n",
              "       [ 0.25351098],\n",
              "       [ 1.9407964 ],\n",
              "       [-1.4337745 ],\n",
              "       [-0.49639365],\n",
              "       [ 2.690701  ],\n",
              "       [ 1.1908919 ],\n",
              "       [-0.40265557],\n",
              "       [-0.7776079 ],\n",
              "       [ 0.25351098],\n",
              "       [-0.68386984],\n",
              "       [ 0.25351098],\n",
              "       [-0.59013176],\n",
              "       [ 0.25351098],\n",
              "       [ 0.25351098],\n",
              "       [-2.3711555 ],\n",
              "       [-0.40265557],\n",
              "       [-0.02770326],\n",
              "       [ 0.1597729 ],\n",
              "       [ 0.90967757],\n",
              "       [ 1.1908919 ],\n",
              "       [ 0.8159395 ],\n",
              "       [-0.12144134],\n",
              "       [-1.2462983 ],\n",
              "       [-0.871346  ],\n",
              "       [-0.7776079 ],\n",
              "       [-0.30891752],\n",
              "       [-0.40265557],\n",
              "       [-0.68386984],\n",
              "       [-0.59013176],\n",
              "       [-1.7149888 ],\n",
              "       [ 0.1597729 ],\n",
              "       [-0.02770326],\n",
              "       [ 0.1597729 ],\n",
              "       [ 0.06603482],\n",
              "       [-1.7149888 ],\n",
              "       [-0.59013176],\n",
              "       [-1.0588222 ],\n",
              "       [ 0.7222014 ],\n",
              "       [-0.59013176]], dtype=float32)"
            ]
          },
          "metadata": {},
          "execution_count": 40
        }
      ],
      "source": [
        "y_train"
      ]
    },
    {
      "cell_type": "code",
      "execution_count": 19,
      "metadata": {
        "id": "Yo7GuxYf1-N8"
      },
      "outputs": [],
      "source": [
        "# ✅ Define a Lightweight GRU Model for Faster Training\n",
        "model = Sequential([\n",
        "    Input(shape=(X.shape[1], X.shape[2])),\n",
        "    GRU(128, return_sequences=True, activation='tanh'),\n",
        "    Dropout(0.2),\n",
        "    BatchNormalization(),\n",
        "    GRU(64, return_sequences=False, activation='tanh'),\n",
        "    Dropout(0.2),\n",
        "    BatchNormalization(),\n",
        "    Dense(1, dtype=tf.float32)  # Output layer (1 target)\n",
        "])\n",
        "\n"
      ]
    },
    {
      "cell_type": "code",
      "execution_count": 41,
      "metadata": {
        "id": "uwCuONYV2Ewj"
      },
      "outputs": [],
      "source": [
        "# ✅ Compile Model with Adam Optimizer\n",
        "optimizer = Adam(learning_rate=0.0005, clipvalue=0.5)\n",
        "model.compile(optimizer=optimizer, loss= 'mae', metrics=['mse', 'mae'])\n",
        "\n"
      ]
    },
    {
      "cell_type": "code",
      "execution_count": 42,
      "metadata": {
        "id": "T7h1W1ux2Loe"
      },
      "outputs": [],
      "source": [
        "from tensorflow.keras.utils import plot_model\n"
      ]
    },
    {
      "cell_type": "code",
      "execution_count": 43,
      "metadata": {
        "colab": {
          "base_uri": "https://localhost:8080/"
        },
        "id": "74VhmxKZy_tr",
        "outputId": "163cf14b-5f48-43a3-cba0-5d20869f48ef"
      },
      "outputs": [
        {
          "output_type": "stream",
          "name": "stdout",
          "text": [
            "Epoch 1/100\n",
            "\u001b[1m4/4\u001b[0m \u001b[32m━━━━━━━━━━━━━━━━━━━━\u001b[0m\u001b[37m\u001b[0m \u001b[1m6s\u001b[0m 491ms/step - loss: 0.6957 - mae: 0.6957 - mse: 0.8288 - val_loss: 0.6989 - val_mae: 0.6989 - val_mse: 0.8538\n",
            "Epoch 2/100\n",
            "\u001b[1m4/4\u001b[0m \u001b[32m━━━━━━━━━━━━━━━━━━━━\u001b[0m\u001b[37m\u001b[0m \u001b[1m1s\u001b[0m 368ms/step - loss: 0.6823 - mae: 0.6823 - mse: 0.7883 - val_loss: 0.7038 - val_mae: 0.7038 - val_mse: 0.8389\n",
            "Epoch 3/100\n",
            "\u001b[1m4/4\u001b[0m \u001b[32m━━━━━━━━━━━━━━━━━━━━\u001b[0m\u001b[37m\u001b[0m \u001b[1m1s\u001b[0m 366ms/step - loss: 0.6493 - mae: 0.6493 - mse: 0.7253 - val_loss: 0.7239 - val_mae: 0.7239 - val_mse: 0.8404\n",
            "Epoch 4/100\n",
            "\u001b[1m4/4\u001b[0m \u001b[32m━━━━━━━━━━━━━━━━━━━━\u001b[0m\u001b[37m\u001b[0m \u001b[1m1s\u001b[0m 372ms/step - loss: 0.6887 - mae: 0.6887 - mse: 0.8319 - val_loss: 0.7219 - val_mae: 0.7219 - val_mse: 0.8277\n",
            "Epoch 5/100\n",
            "\u001b[1m4/4\u001b[0m \u001b[32m━━━━━━━━━━━━━━━━━━━━\u001b[0m\u001b[37m\u001b[0m \u001b[1m2s\u001b[0m 420ms/step - loss: 0.7001 - mae: 0.7001 - mse: 0.8089 - val_loss: 0.7131 - val_mae: 0.7131 - val_mse: 0.8179\n",
            "Epoch 6/100\n",
            "\u001b[1m4/4\u001b[0m \u001b[32m━━━━━━━━━━━━━━━━━━━━\u001b[0m\u001b[37m\u001b[0m \u001b[1m2s\u001b[0m 410ms/step - loss: 0.6862 - mae: 0.6862 - mse: 0.8129 - val_loss: 0.7087 - val_mae: 0.7087 - val_mse: 0.8173\n",
            "Epoch 7/100\n",
            "\u001b[1m4/4\u001b[0m \u001b[32m━━━━━━━━━━━━━━━━━━━━\u001b[0m\u001b[37m\u001b[0m \u001b[1m2s\u001b[0m 496ms/step - loss: 0.6783 - mae: 0.6783 - mse: 0.8025 - val_loss: 0.7153 - val_mae: 0.7153 - val_mse: 0.8277\n",
            "Epoch 8/100\n",
            "\u001b[1m4/4\u001b[0m \u001b[32m━━━━━━━━━━━━━━━━━━━━\u001b[0m\u001b[37m\u001b[0m \u001b[1m2s\u001b[0m 364ms/step - loss: 0.6957 - mae: 0.6957 - mse: 0.8323 - val_loss: 0.7012 - val_mae: 0.7012 - val_mse: 0.8071\n",
            "Epoch 9/100\n",
            "\u001b[1m4/4\u001b[0m \u001b[32m━━━━━━━━━━━━━━━━━━━━\u001b[0m\u001b[37m\u001b[0m \u001b[1m3s\u001b[0m 421ms/step - loss: 0.6459 - mae: 0.6459 - mse: 0.7285 - val_loss: 0.6912 - val_mae: 0.6912 - val_mse: 0.7951\n",
            "Epoch 10/100\n",
            "\u001b[1m4/4\u001b[0m \u001b[32m━━━━━━━━━━━━━━━━━━━━\u001b[0m\u001b[37m\u001b[0m \u001b[1m2s\u001b[0m 367ms/step - loss: 0.6607 - mae: 0.6607 - mse: 0.7584 - val_loss: 0.7032 - val_mae: 0.7032 - val_mse: 0.8221\n",
            "Epoch 11/100\n",
            "\u001b[1m4/4\u001b[0m \u001b[32m━━━━━━━━━━━━━━━━━━━━\u001b[0m\u001b[37m\u001b[0m \u001b[1m1s\u001b[0m 365ms/step - loss: 0.6567 - mae: 0.6567 - mse: 0.7492 - val_loss: 0.6994 - val_mae: 0.6994 - val_mse: 0.8133\n",
            "Epoch 12/100\n",
            "\u001b[1m4/4\u001b[0m \u001b[32m━━━━━━━━━━━━━━━━━━━━\u001b[0m\u001b[37m\u001b[0m \u001b[1m3s\u001b[0m 446ms/step - loss: 0.6870 - mae: 0.6870 - mse: 0.8459 - val_loss: 0.7068 - val_mae: 0.7068 - val_mse: 0.8362\n",
            "Epoch 13/100\n",
            "\u001b[1m4/4\u001b[0m \u001b[32m━━━━━━━━━━━━━━━━━━━━\u001b[0m\u001b[37m\u001b[0m \u001b[1m2s\u001b[0m 513ms/step - loss: 0.6288 - mae: 0.6288 - mse: 0.7340 - val_loss: 0.7134 - val_mae: 0.7134 - val_mse: 0.8571\n",
            "Epoch 14/100\n",
            "\u001b[1m4/4\u001b[0m \u001b[32m━━━━━━━━━━━━━━━━━━━━\u001b[0m\u001b[37m\u001b[0m \u001b[1m2s\u001b[0m 367ms/step - loss: 0.6660 - mae: 0.6660 - mse: 0.7735 - val_loss: 0.6904 - val_mae: 0.6904 - val_mse: 0.8235\n",
            "Epoch 15/100\n",
            "\u001b[1m4/4\u001b[0m \u001b[32m━━━━━━━━━━━━━━━━━━━━\u001b[0m\u001b[37m\u001b[0m \u001b[1m1s\u001b[0m 369ms/step - loss: 0.6596 - mae: 0.6596 - mse: 0.7566 - val_loss: 0.6851 - val_mae: 0.6851 - val_mse: 0.7910\n",
            "Epoch 16/100\n",
            "\u001b[1m4/4\u001b[0m \u001b[32m━━━━━━━━━━━━━━━━━━━━\u001b[0m\u001b[37m\u001b[0m \u001b[1m3s\u001b[0m 362ms/step - loss: 0.6396 - mae: 0.6396 - mse: 0.6922 - val_loss: 0.7034 - val_mae: 0.7034 - val_mse: 0.7981\n",
            "Epoch 17/100\n",
            "\u001b[1m4/4\u001b[0m \u001b[32m━━━━━━━━━━━━━━━━━━━━\u001b[0m\u001b[37m\u001b[0m \u001b[1m2s\u001b[0m 418ms/step - loss: 0.6502 - mae: 0.6502 - mse: 0.7755 - val_loss: 0.7070 - val_mae: 0.7070 - val_mse: 0.7873\n",
            "Epoch 18/100\n",
            "\u001b[1m4/4\u001b[0m \u001b[32m━━━━━━━━━━━━━━━━━━━━\u001b[0m\u001b[37m\u001b[0m \u001b[1m3s\u001b[0m 416ms/step - loss: 0.6615 - mae: 0.6615 - mse: 0.7786 - val_loss: 0.7042 - val_mae: 0.7042 - val_mse: 0.7926\n",
            "Epoch 19/100\n",
            "\u001b[1m4/4\u001b[0m \u001b[32m━━━━━━━━━━━━━━━━━━━━\u001b[0m\u001b[37m\u001b[0m \u001b[1m2s\u001b[0m 505ms/step - loss: 0.6677 - mae: 0.6677 - mse: 0.7325 - val_loss: 0.7077 - val_mae: 0.7077 - val_mse: 0.8179\n",
            "Epoch 20/100\n",
            "\u001b[1m4/4\u001b[0m \u001b[32m━━━━━━━━━━━━━━━━━━━━\u001b[0m\u001b[37m\u001b[0m \u001b[1m2s\u001b[0m 362ms/step - loss: 0.6335 - mae: 0.6335 - mse: 0.7014 - val_loss: 0.7141 - val_mae: 0.7141 - val_mse: 0.8476\n",
            "Epoch 21/100\n",
            "\u001b[1m4/4\u001b[0m \u001b[32m━━━━━━━━━━━━━━━━━━━━\u001b[0m\u001b[37m\u001b[0m \u001b[1m1s\u001b[0m 369ms/step - loss: 0.6275 - mae: 0.6275 - mse: 0.6945 - val_loss: 0.7104 - val_mae: 0.7104 - val_mse: 0.8547\n",
            "Epoch 22/100\n",
            "\u001b[1m4/4\u001b[0m \u001b[32m━━━━━━━━━━━━━━━━━━━━\u001b[0m\u001b[37m\u001b[0m \u001b[1m3s\u001b[0m 364ms/step - loss: 0.6548 - mae: 0.6548 - mse: 0.7527 - val_loss: 0.7070 - val_mae: 0.7070 - val_mse: 0.8451\n",
            "Epoch 23/100\n",
            "\u001b[1m4/4\u001b[0m \u001b[32m━━━━━━━━━━━━━━━━━━━━\u001b[0m\u001b[37m\u001b[0m \u001b[1m1s\u001b[0m 368ms/step - loss: 0.6318 - mae: 0.6318 - mse: 0.7256 - val_loss: 0.7096 - val_mae: 0.7096 - val_mse: 0.8250\n",
            "Epoch 24/100\n",
            "\u001b[1m4/4\u001b[0m \u001b[32m━━━━━━━━━━━━━━━━━━━━\u001b[0m\u001b[37m\u001b[0m \u001b[1m1s\u001b[0m 365ms/step - loss: 0.6254 - mae: 0.6254 - mse: 0.6811 - val_loss: 0.7088 - val_mae: 0.7088 - val_mse: 0.8193\n",
            "Epoch 25/100\n",
            "\u001b[1m4/4\u001b[0m \u001b[32m━━━━━━━━━━━━━━━━━━━━\u001b[0m\u001b[37m\u001b[0m \u001b[1m3s\u001b[0m 466ms/step - loss: 0.6357 - mae: 0.6357 - mse: 0.7371 - val_loss: 0.7105 - val_mae: 0.7105 - val_mse: 0.8264\n",
            "Epoch 26/100\n",
            "\u001b[1m4/4\u001b[0m \u001b[32m━━━━━━━━━━━━━━━━━━━━\u001b[0m\u001b[37m\u001b[0m \u001b[1m2s\u001b[0m 365ms/step - loss: 0.6196 - mae: 0.6196 - mse: 0.7075 - val_loss: 0.7198 - val_mae: 0.7198 - val_mse: 0.8347\n",
            "Epoch 27/100\n",
            "\u001b[1m4/4\u001b[0m \u001b[32m━━━━━━━━━━━━━━━━━━━━\u001b[0m\u001b[37m\u001b[0m \u001b[1m2s\u001b[0m 362ms/step - loss: 0.6571 - mae: 0.6571 - mse: 0.7685 - val_loss: 0.7130 - val_mae: 0.7130 - val_mse: 0.8338\n",
            "Epoch 28/100\n",
            "\u001b[1m4/4\u001b[0m \u001b[32m━━━━━━━━━━━━━━━━━━━━\u001b[0m\u001b[37m\u001b[0m \u001b[1m1s\u001b[0m 365ms/step - loss: 0.6307 - mae: 0.6307 - mse: 0.7273 - val_loss: 0.7143 - val_mae: 0.7143 - val_mse: 0.8520\n",
            "Epoch 29/100\n",
            "\u001b[1m4/4\u001b[0m \u001b[32m━━━━━━━━━━━━━━━━━━━━\u001b[0m\u001b[37m\u001b[0m \u001b[1m3s\u001b[0m 364ms/step - loss: 0.6433 - mae: 0.6433 - mse: 0.6975 - val_loss: 0.7287 - val_mae: 0.7287 - val_mse: 0.8858\n",
            "Epoch 30/100\n",
            "\u001b[1m4/4\u001b[0m \u001b[32m━━━━━━━━━━━━━━━━━━━━\u001b[0m\u001b[37m\u001b[0m \u001b[1m3s\u001b[0m 384ms/step - loss: 0.6476 - mae: 0.6476 - mse: 0.7058 - val_loss: 0.7341 - val_mae: 0.7341 - val_mse: 0.9019\n",
            "Epoch 31/100\n",
            "\u001b[1m4/4\u001b[0m \u001b[32m━━━━━━━━━━━━━━━━━━━━\u001b[0m\u001b[37m\u001b[0m \u001b[1m3s\u001b[0m 417ms/step - loss: 0.6458 - mae: 0.6458 - mse: 0.7269 - val_loss: 0.7300 - val_mae: 0.7300 - val_mse: 0.8902\n",
            "Epoch 32/100\n",
            "\u001b[1m4/4\u001b[0m \u001b[32m━━━━━━━━━━━━━━━━━━━━\u001b[0m\u001b[37m\u001b[0m \u001b[1m1s\u001b[0m 363ms/step - loss: 0.6224 - mae: 0.6224 - mse: 0.7026 - val_loss: 0.7194 - val_mae: 0.7194 - val_mse: 0.8655\n",
            "Epoch 33/100\n",
            "\u001b[1m4/4\u001b[0m \u001b[32m━━━━━━━━━━━━━━━━━━━━\u001b[0m\u001b[37m\u001b[0m \u001b[1m1s\u001b[0m 362ms/step - loss: 0.6323 - mae: 0.6323 - mse: 0.7405 - val_loss: 0.7109 - val_mae: 0.7109 - val_mse: 0.8377\n",
            "Epoch 34/100\n",
            "\u001b[1m4/4\u001b[0m \u001b[32m━━━━━━━━━━━━━━━━━━━━\u001b[0m\u001b[37m\u001b[0m \u001b[1m1s\u001b[0m 369ms/step - loss: 0.6020 - mae: 0.6020 - mse: 0.6721 - val_loss: 0.7035 - val_mae: 0.7035 - val_mse: 0.8115\n",
            "Epoch 35/100\n",
            "\u001b[1m4/4\u001b[0m \u001b[32m━━━━━━━━━━━━━━━━━━━━\u001b[0m\u001b[37m\u001b[0m \u001b[1m1s\u001b[0m 362ms/step - loss: 0.6516 - mae: 0.6516 - mse: 0.7245 - val_loss: 0.6988 - val_mae: 0.6988 - val_mse: 0.8058\n",
            "Epoch 36/100\n",
            "\u001b[1m4/4\u001b[0m \u001b[32m━━━━━━━━━━━━━━━━━━━━\u001b[0m\u001b[37m\u001b[0m \u001b[1m3s\u001b[0m 365ms/step - loss: 0.5784 - mae: 0.5784 - mse: 0.5892 - val_loss: 0.7203 - val_mae: 0.7203 - val_mse: 0.8438\n",
            "Epoch 37/100\n",
            "\u001b[1m4/4\u001b[0m \u001b[32m━━━━━━━━━━━━━━━━━━━━\u001b[0m\u001b[37m\u001b[0m \u001b[1m2s\u001b[0m 451ms/step - loss: 0.6444 - mae: 0.6444 - mse: 0.7414 - val_loss: 0.7350 - val_mae: 0.7350 - val_mse: 0.8838\n",
            "Epoch 38/100\n",
            "\u001b[1m4/4\u001b[0m \u001b[32m━━━━━━━━━━━━━━━━━━━━\u001b[0m\u001b[37m\u001b[0m \u001b[1m2s\u001b[0m 478ms/step - loss: 0.6449 - mae: 0.6449 - mse: 0.7708 - val_loss: 0.7229 - val_mae: 0.7229 - val_mse: 0.8781\n",
            "Epoch 39/100\n",
            "\u001b[1m4/4\u001b[0m \u001b[32m━━━━━━━━━━━━━━━━━━━━\u001b[0m\u001b[37m\u001b[0m \u001b[1m2s\u001b[0m 361ms/step - loss: 0.6578 - mae: 0.6578 - mse: 0.7823 - val_loss: 0.7064 - val_mae: 0.7064 - val_mse: 0.8542\n",
            "Epoch 40/100\n",
            "\u001b[1m4/4\u001b[0m \u001b[32m━━━━━━━━━━━━━━━━━━━━\u001b[0m\u001b[37m\u001b[0m \u001b[1m1s\u001b[0m 367ms/step - loss: 0.6370 - mae: 0.6370 - mse: 0.7508 - val_loss: 0.7030 - val_mae: 0.7030 - val_mse: 0.8389\n",
            "Epoch 41/100\n",
            "\u001b[1m4/4\u001b[0m \u001b[32m━━━━━━━━━━━━━━━━━━━━\u001b[0m\u001b[37m\u001b[0m \u001b[1m3s\u001b[0m 370ms/step - loss: 0.6351 - mae: 0.6351 - mse: 0.7403 - val_loss: 0.7021 - val_mae: 0.7021 - val_mse: 0.8225\n",
            "Epoch 42/100\n",
            "\u001b[1m4/4\u001b[0m \u001b[32m━━━━━━━━━━━━━━━━━━━━\u001b[0m\u001b[37m\u001b[0m \u001b[1m1s\u001b[0m 362ms/step - loss: 0.6498 - mae: 0.6498 - mse: 0.7459 - val_loss: 0.7051 - val_mae: 0.7051 - val_mse: 0.8198\n",
            "Epoch 43/100\n",
            "\u001b[1m4/4\u001b[0m \u001b[32m━━━━━━━━━━━━━━━━━━━━\u001b[0m\u001b[37m\u001b[0m \u001b[1m1s\u001b[0m 364ms/step - loss: 0.5785 - mae: 0.5785 - mse: 0.6015 - val_loss: 0.7003 - val_mae: 0.7003 - val_mse: 0.8186\n",
            "Epoch 44/100\n",
            "\u001b[1m4/4\u001b[0m \u001b[32m━━━━━━━━━━━━━━━━━━━━\u001b[0m\u001b[37m\u001b[0m \u001b[1m3s\u001b[0m 494ms/step - loss: 0.6015 - mae: 0.6015 - mse: 0.6618 - val_loss: 0.7273 - val_mae: 0.7273 - val_mse: 0.8827\n",
            "Epoch 45/100\n",
            "\u001b[1m4/4\u001b[0m \u001b[32m━━━━━━━━━━━━━━━━━━━━\u001b[0m\u001b[37m\u001b[0m \u001b[1m2s\u001b[0m 362ms/step - loss: 0.6019 - mae: 0.6019 - mse: 0.6576 - val_loss: 0.7487 - val_mae: 0.7487 - val_mse: 0.9476\n",
            "Epoch 46/100\n",
            "\u001b[1m4/4\u001b[0m \u001b[32m━━━━━━━━━━━━━━━━━━━━\u001b[0m\u001b[37m\u001b[0m \u001b[1m1s\u001b[0m 365ms/step - loss: 0.6304 - mae: 0.6304 - mse: 0.7240 - val_loss: 0.7417 - val_mae: 0.7417 - val_mse: 0.9295\n",
            "Epoch 47/100\n",
            "\u001b[1m4/4\u001b[0m \u001b[32m━━━━━━━━━━━━━━━━━━━━\u001b[0m\u001b[37m\u001b[0m \u001b[1m1s\u001b[0m 366ms/step - loss: 0.5742 - mae: 0.5742 - mse: 0.6193 - val_loss: 0.7287 - val_mae: 0.7287 - val_mse: 0.8804\n",
            "Epoch 48/100\n",
            "\u001b[1m4/4\u001b[0m \u001b[32m━━━━━━━━━━━━━━━━━━━━\u001b[0m\u001b[37m\u001b[0m \u001b[1m1s\u001b[0m 363ms/step - loss: 0.5850 - mae: 0.5850 - mse: 0.6086 - val_loss: 0.7338 - val_mae: 0.7338 - val_mse: 0.8799\n",
            "Epoch 49/100\n",
            "\u001b[1m4/4\u001b[0m \u001b[32m━━━━━━━━━━━━━━━━━━━━\u001b[0m\u001b[37m\u001b[0m \u001b[1m1s\u001b[0m 365ms/step - loss: 0.5842 - mae: 0.5842 - mse: 0.6505 - val_loss: 0.7328 - val_mae: 0.7328 - val_mse: 0.8761\n",
            "Epoch 50/100\n",
            "\u001b[1m4/4\u001b[0m \u001b[32m━━━━━━━━━━━━━━━━━━━━\u001b[0m\u001b[37m\u001b[0m \u001b[1m3s\u001b[0m 368ms/step - loss: 0.5673 - mae: 0.5673 - mse: 0.6108 - val_loss: 0.7310 - val_mae: 0.7310 - val_mse: 0.8669\n",
            "Epoch 51/100\n",
            "\u001b[1m4/4\u001b[0m \u001b[32m━━━━━━━━━━━━━━━━━━━━\u001b[0m\u001b[37m\u001b[0m \u001b[1m3s\u001b[0m 449ms/step - loss: 0.5896 - mae: 0.5896 - mse: 0.6740 - val_loss: 0.7268 - val_mae: 0.7268 - val_mse: 0.8654\n",
            "Epoch 52/100\n",
            "\u001b[1m4/4\u001b[0m \u001b[32m━━━━━━━━━━━━━━━━━━━━\u001b[0m\u001b[37m\u001b[0m \u001b[1m2s\u001b[0m 366ms/step - loss: 0.5283 - mae: 0.5283 - mse: 0.5482 - val_loss: 0.7218 - val_mae: 0.7218 - val_mse: 0.8580\n",
            "Epoch 53/100\n",
            "\u001b[1m4/4\u001b[0m \u001b[32m━━━━━━━━━━━━━━━━━━━━\u001b[0m\u001b[37m\u001b[0m \u001b[1m1s\u001b[0m 365ms/step - loss: 0.5910 - mae: 0.5910 - mse: 0.6153 - val_loss: 0.7126 - val_mae: 0.7126 - val_mse: 0.8511\n",
            "Epoch 54/100\n",
            "\u001b[1m4/4\u001b[0m \u001b[32m━━━━━━━━━━━━━━━━━━━━\u001b[0m\u001b[37m\u001b[0m \u001b[1m3s\u001b[0m 367ms/step - loss: 0.5573 - mae: 0.5573 - mse: 0.5746 - val_loss: 0.7161 - val_mae: 0.7161 - val_mse: 0.8630\n",
            "Epoch 55/100\n",
            "\u001b[1m4/4\u001b[0m \u001b[32m━━━━━━━━━━━━━━━━━━━━\u001b[0m\u001b[37m\u001b[0m \u001b[1m1s\u001b[0m 366ms/step - loss: 0.5863 - mae: 0.5863 - mse: 0.6502 - val_loss: 0.7256 - val_mae: 0.7256 - val_mse: 0.8665\n",
            "Epoch 56/100\n",
            "\u001b[1m4/4\u001b[0m \u001b[32m━━━━━━━━━━━━━━━━━━━━\u001b[0m\u001b[37m\u001b[0m \u001b[1m3s\u001b[0m 431ms/step - loss: 0.5923 - mae: 0.5923 - mse: 0.6870 - val_loss: 0.7160 - val_mae: 0.7160 - val_mse: 0.8394\n",
            "Epoch 57/100\n",
            "\u001b[1m4/4\u001b[0m \u001b[32m━━━━━━━━━━━━━━━━━━━━\u001b[0m\u001b[37m\u001b[0m \u001b[1m2s\u001b[0m 565ms/step - loss: 0.6009 - mae: 0.6009 - mse: 0.6643 - val_loss: 0.6867 - val_mae: 0.6867 - val_mse: 0.8006\n",
            "Epoch 58/100\n",
            "\u001b[1m4/4\u001b[0m \u001b[32m━━━━━━━━━━━━━━━━━━━━\u001b[0m\u001b[37m\u001b[0m \u001b[1m2s\u001b[0m 481ms/step - loss: 0.5680 - mae: 0.5680 - mse: 0.5658 - val_loss: 0.6764 - val_mae: 0.6764 - val_mse: 0.7961\n",
            "Epoch 59/100\n",
            "\u001b[1m4/4\u001b[0m \u001b[32m━━━━━━━━━━━━━━━━━━━━\u001b[0m\u001b[37m\u001b[0m \u001b[1m2s\u001b[0m 363ms/step - loss: 0.5354 - mae: 0.5354 - mse: 0.5221 - val_loss: 0.6956 - val_mae: 0.6956 - val_mse: 0.8304\n",
            "Epoch 60/100\n",
            "\u001b[1m4/4\u001b[0m \u001b[32m━━━━━━━━━━━━━━━━━━━━\u001b[0m\u001b[37m\u001b[0m \u001b[1m1s\u001b[0m 368ms/step - loss: 0.5730 - mae: 0.5730 - mse: 0.6033 - val_loss: 0.7183 - val_mae: 0.7183 - val_mse: 0.8671\n",
            "Epoch 61/100\n",
            "\u001b[1m4/4\u001b[0m \u001b[32m━━━━━━━━━━━━━━━━━━━━\u001b[0m\u001b[37m\u001b[0m \u001b[1m3s\u001b[0m 367ms/step - loss: 0.5403 - mae: 0.5403 - mse: 0.5358 - val_loss: 0.7309 - val_mae: 0.7309 - val_mse: 0.8965\n",
            "Epoch 62/100\n",
            "\u001b[1m4/4\u001b[0m \u001b[32m━━━━━━━━━━━━━━━━━━━━\u001b[0m\u001b[37m\u001b[0m \u001b[1m3s\u001b[0m 411ms/step - loss: 0.5577 - mae: 0.5577 - mse: 0.5447 - val_loss: 0.7241 - val_mae: 0.7241 - val_mse: 0.8832\n",
            "Epoch 63/100\n",
            "\u001b[1m4/4\u001b[0m \u001b[32m━━━━━━━━━━━━━━━━━━━━\u001b[0m\u001b[37m\u001b[0m \u001b[1m2s\u001b[0m 461ms/step - loss: 0.5493 - mae: 0.5493 - mse: 0.5858 - val_loss: 0.7062 - val_mae: 0.7062 - val_mse: 0.8454\n",
            "Epoch 64/100\n",
            "\u001b[1m4/4\u001b[0m \u001b[32m━━━━━━━━━━━━━━━━━━━━\u001b[0m\u001b[37m\u001b[0m \u001b[1m2s\u001b[0m 443ms/step - loss: 0.5155 - mae: 0.5155 - mse: 0.5040 - val_loss: 0.6962 - val_mae: 0.6962 - val_mse: 0.8117\n",
            "Epoch 65/100\n",
            "\u001b[1m4/4\u001b[0m \u001b[32m━━━━━━━━━━━━━━━━━━━━\u001b[0m\u001b[37m\u001b[0m \u001b[1m2s\u001b[0m 367ms/step - loss: 0.5647 - mae: 0.5647 - mse: 0.5977 - val_loss: 0.6934 - val_mae: 0.6934 - val_mse: 0.8095\n",
            "Epoch 66/100\n",
            "\u001b[1m4/4\u001b[0m \u001b[32m━━━━━━━━━━━━━━━━━━━━\u001b[0m\u001b[37m\u001b[0m \u001b[1m1s\u001b[0m 363ms/step - loss: 0.5451 - mae: 0.5451 - mse: 0.5784 - val_loss: 0.7005 - val_mae: 0.7005 - val_mse: 0.8308\n",
            "Epoch 67/100\n",
            "\u001b[1m4/4\u001b[0m \u001b[32m━━━━━━━━━━━━━━━━━━━━\u001b[0m\u001b[37m\u001b[0m \u001b[1m1s\u001b[0m 365ms/step - loss: 0.5767 - mae: 0.5767 - mse: 0.6088 - val_loss: 0.7111 - val_mae: 0.7111 - val_mse: 0.8565\n",
            "Epoch 68/100\n",
            "\u001b[1m4/4\u001b[0m \u001b[32m━━━━━━━━━━━━━━━━━━━━\u001b[0m\u001b[37m\u001b[0m \u001b[1m1s\u001b[0m 366ms/step - loss: 0.5523 - mae: 0.5523 - mse: 0.5799 - val_loss: 0.7129 - val_mae: 0.7129 - val_mse: 0.8604\n",
            "Epoch 69/100\n",
            "\u001b[1m4/4\u001b[0m \u001b[32m━━━━━━━━━━━━━━━━━━━━\u001b[0m\u001b[37m\u001b[0m \u001b[1m3s\u001b[0m 369ms/step - loss: 0.5629 - mae: 0.5629 - mse: 0.5796 - val_loss: 0.7307 - val_mae: 0.7307 - val_mse: 0.8783\n",
            "Epoch 70/100\n",
            "\u001b[1m4/4\u001b[0m \u001b[32m━━━━━━━━━━━━━━━━━━━━\u001b[0m\u001b[37m\u001b[0m \u001b[1m3s\u001b[0m 506ms/step - loss: 0.5270 - mae: 0.5270 - mse: 0.5117 - val_loss: 0.7463 - val_mae: 0.7463 - val_mse: 0.9081\n",
            "Epoch 71/100\n",
            "\u001b[1m4/4\u001b[0m \u001b[32m━━━━━━━━━━━━━━━━━━━━\u001b[0m\u001b[37m\u001b[0m \u001b[1m2s\u001b[0m 360ms/step - loss: 0.5257 - mae: 0.5257 - mse: 0.5546 - val_loss: 0.7400 - val_mae: 0.7400 - val_mse: 0.8875\n",
            "Epoch 72/100\n",
            "\u001b[1m4/4\u001b[0m \u001b[32m━━━━━━━━━━━━━━━━━━━━\u001b[0m\u001b[37m\u001b[0m \u001b[1m1s\u001b[0m 364ms/step - loss: 0.5559 - mae: 0.5559 - mse: 0.5552 - val_loss: 0.7347 - val_mae: 0.7347 - val_mse: 0.8809\n",
            "Epoch 73/100\n",
            "\u001b[1m4/4\u001b[0m \u001b[32m━━━━━━━━━━━━━━━━━━━━\u001b[0m\u001b[37m\u001b[0m \u001b[1m3s\u001b[0m 367ms/step - loss: 0.5626 - mae: 0.5626 - mse: 0.5695 - val_loss: 0.7332 - val_mae: 0.7332 - val_mse: 0.8804\n",
            "Epoch 74/100\n",
            "\u001b[1m4/4\u001b[0m \u001b[32m━━━━━━━━━━━━━━━━━━━━\u001b[0m\u001b[37m\u001b[0m \u001b[1m1s\u001b[0m 362ms/step - loss: 0.5470 - mae: 0.5470 - mse: 0.5498 - val_loss: 0.7371 - val_mae: 0.7371 - val_mse: 0.8913\n",
            "Epoch 75/100\n",
            "\u001b[1m4/4\u001b[0m \u001b[32m━━━━━━━━━━━━━━━━━━━━\u001b[0m\u001b[37m\u001b[0m \u001b[1m1s\u001b[0m 366ms/step - loss: 0.5877 - mae: 0.5877 - mse: 0.6727 - val_loss: 0.7339 - val_mae: 0.7339 - val_mse: 0.8862\n",
            "Epoch 76/100\n",
            "\u001b[1m4/4\u001b[0m \u001b[32m━━━━━━━━━━━━━━━━━━━━\u001b[0m\u001b[37m\u001b[0m \u001b[1m3s\u001b[0m 467ms/step - loss: 0.5370 - mae: 0.5370 - mse: 0.5130 - val_loss: 0.7263 - val_mae: 0.7263 - val_mse: 0.8805\n",
            "Epoch 77/100\n",
            "\u001b[1m4/4\u001b[0m \u001b[32m━━━━━━━━━━━━━━━━━━━━\u001b[0m\u001b[37m\u001b[0m \u001b[1m2s\u001b[0m 421ms/step - loss: 0.5194 - mae: 0.5194 - mse: 0.5296 - val_loss: 0.7320 - val_mae: 0.7320 - val_mse: 0.8888\n",
            "Epoch 78/100\n",
            "\u001b[1m4/4\u001b[0m \u001b[32m━━━━━━━━━━━━━━━━━━━━\u001b[0m\u001b[37m\u001b[0m \u001b[1m2s\u001b[0m 418ms/step - loss: 0.5189 - mae: 0.5189 - mse: 0.5132 - val_loss: 0.7321 - val_mae: 0.7321 - val_mse: 0.8789\n",
            "Epoch 79/100\n",
            "\u001b[1m4/4\u001b[0m \u001b[32m━━━━━━━━━━━━━━━━━━━━\u001b[0m\u001b[37m\u001b[0m \u001b[1m2s\u001b[0m 363ms/step - loss: 0.5238 - mae: 0.5238 - mse: 0.4984 - val_loss: 0.7278 - val_mae: 0.7278 - val_mse: 0.8600\n",
            "Epoch 80/100\n",
            "\u001b[1m4/4\u001b[0m \u001b[32m━━━━━━━━━━━━━━━━━━━━\u001b[0m\u001b[37m\u001b[0m \u001b[1m1s\u001b[0m 367ms/step - loss: 0.5583 - mae: 0.5583 - mse: 0.5790 - val_loss: 0.7305 - val_mae: 0.7305 - val_mse: 0.8647\n",
            "Epoch 81/100\n",
            "\u001b[1m4/4\u001b[0m \u001b[32m━━━━━━━━━━━━━━━━━━━━\u001b[0m\u001b[37m\u001b[0m \u001b[1m1s\u001b[0m 368ms/step - loss: 0.5252 - mae: 0.5252 - mse: 0.5081 - val_loss: 0.7472 - val_mae: 0.7472 - val_mse: 0.9098\n",
            "Epoch 82/100\n",
            "\u001b[1m4/4\u001b[0m \u001b[32m━━━━━━━━━━━━━━━━━━━━\u001b[0m\u001b[37m\u001b[0m \u001b[1m3s\u001b[0m 444ms/step - loss: 0.5176 - mae: 0.5176 - mse: 0.4754 - val_loss: 0.7492 - val_mae: 0.7492 - val_mse: 0.9197\n",
            "Epoch 83/100\n",
            "\u001b[1m4/4\u001b[0m \u001b[32m━━━━━━━━━━━━━━━━━━━━\u001b[0m\u001b[37m\u001b[0m \u001b[1m2s\u001b[0m 374ms/step - loss: 0.5241 - mae: 0.5241 - mse: 0.5143 - val_loss: 0.7303 - val_mae: 0.7303 - val_mse: 0.8897\n",
            "Epoch 84/100\n",
            "\u001b[1m4/4\u001b[0m \u001b[32m━━━━━━━━━━━━━━━━━━━━\u001b[0m\u001b[37m\u001b[0m \u001b[1m2s\u001b[0m 367ms/step - loss: 0.5405 - mae: 0.5405 - mse: 0.5169 - val_loss: 0.7218 - val_mae: 0.7218 - val_mse: 0.8617\n",
            "Epoch 85/100\n",
            "\u001b[1m4/4\u001b[0m \u001b[32m━━━━━━━━━━━━━━━━━━━━\u001b[0m\u001b[37m\u001b[0m \u001b[1m2s\u001b[0m 419ms/step - loss: 0.5105 - mae: 0.5105 - mse: 0.4783 - val_loss: 0.7189 - val_mae: 0.7189 - val_mse: 0.8499\n",
            "Epoch 86/100\n",
            "\u001b[1m4/4\u001b[0m \u001b[32m━━━━━━━━━━━━━━━━━━━━\u001b[0m\u001b[37m\u001b[0m \u001b[1m1s\u001b[0m 363ms/step - loss: 0.5110 - mae: 0.5110 - mse: 0.4914 - val_loss: 0.7232 - val_mae: 0.7232 - val_mse: 0.8480\n",
            "Epoch 87/100\n",
            "\u001b[1m4/4\u001b[0m \u001b[32m━━━━━━━━━━━━━━━━━━━━\u001b[0m\u001b[37m\u001b[0m \u001b[1m3s\u001b[0m 368ms/step - loss: 0.5380 - mae: 0.5380 - mse: 0.5377 - val_loss: 0.7243 - val_mae: 0.7243 - val_mse: 0.8503\n",
            "Epoch 88/100\n",
            "\u001b[1m4/4\u001b[0m \u001b[32m━━━━━━━━━━━━━━━━━━━━\u001b[0m\u001b[37m\u001b[0m \u001b[1m3s\u001b[0m 502ms/step - loss: 0.5135 - mae: 0.5135 - mse: 0.5295 - val_loss: 0.7367 - val_mae: 0.7367 - val_mse: 0.8850\n",
            "Epoch 89/100\n",
            "\u001b[1m4/4\u001b[0m \u001b[32m━━━━━━━━━━━━━━━━━━━━\u001b[0m\u001b[37m\u001b[0m \u001b[1m2s\u001b[0m 365ms/step - loss: 0.5322 - mae: 0.5322 - mse: 0.5536 - val_loss: 0.7478 - val_mae: 0.7478 - val_mse: 0.9229\n",
            "Epoch 90/100\n",
            "\u001b[1m4/4\u001b[0m \u001b[32m━━━━━━━━━━━━━━━━━━━━\u001b[0m\u001b[37m\u001b[0m \u001b[1m3s\u001b[0m 365ms/step - loss: 0.5162 - mae: 0.5162 - mse: 0.5135 - val_loss: 0.7418 - val_mae: 0.7418 - val_mse: 0.9114\n",
            "Epoch 91/100\n",
            "\u001b[1m4/4\u001b[0m \u001b[32m━━━━━━━━━━━━━━━━━━━━\u001b[0m\u001b[37m\u001b[0m \u001b[1m1s\u001b[0m 366ms/step - loss: 0.4857 - mae: 0.4857 - mse: 0.4188 - val_loss: 0.7146 - val_mae: 0.7146 - val_mse: 0.8596\n",
            "Epoch 92/100\n",
            "\u001b[1m4/4\u001b[0m \u001b[32m━━━━━━━━━━━━━━━━━━━━\u001b[0m\u001b[37m\u001b[0m \u001b[1m3s\u001b[0m 367ms/step - loss: 0.5085 - mae: 0.5085 - mse: 0.5190 - val_loss: 0.7143 - val_mae: 0.7143 - val_mse: 0.8586\n",
            "Epoch 93/100\n",
            "\u001b[1m4/4\u001b[0m \u001b[32m━━━━━━━━━━━━━━━━━━━━\u001b[0m\u001b[37m\u001b[0m \u001b[1m1s\u001b[0m 368ms/step - loss: 0.5278 - mae: 0.5278 - mse: 0.5280 - val_loss: 0.7179 - val_mae: 0.7179 - val_mse: 0.8647\n",
            "Epoch 94/100\n",
            "\u001b[1m4/4\u001b[0m \u001b[32m━━━━━━━━━━━━━━━━━━━━\u001b[0m\u001b[37m\u001b[0m \u001b[1m3s\u001b[0m 497ms/step - loss: 0.5125 - mae: 0.5125 - mse: 0.4731 - val_loss: 0.7269 - val_mae: 0.7269 - val_mse: 0.8821\n",
            "Epoch 95/100\n",
            "\u001b[1m4/4\u001b[0m \u001b[32m━━━━━━━━━━━━━━━━━━━━\u001b[0m\u001b[37m\u001b[0m \u001b[1m2s\u001b[0m 366ms/step - loss: 0.4980 - mae: 0.4980 - mse: 0.4747 - val_loss: 0.7368 - val_mae: 0.7368 - val_mse: 0.8938\n",
            "Epoch 96/100\n",
            "\u001b[1m4/4\u001b[0m \u001b[32m━━━━━━━━━━━━━━━━━━━━\u001b[0m\u001b[37m\u001b[0m \u001b[1m1s\u001b[0m 365ms/step - loss: 0.5026 - mae: 0.5026 - mse: 0.5020 - val_loss: 0.7359 - val_mae: 0.7359 - val_mse: 0.8727\n",
            "Epoch 97/100\n",
            "\u001b[1m4/4\u001b[0m \u001b[32m━━━━━━━━━━━━━━━━━━━━\u001b[0m\u001b[37m\u001b[0m \u001b[1m1s\u001b[0m 366ms/step - loss: 0.4935 - mae: 0.4935 - mse: 0.4660 - val_loss: 0.7257 - val_mae: 0.7257 - val_mse: 0.8526\n",
            "Epoch 98/100\n",
            "\u001b[1m4/4\u001b[0m \u001b[32m━━━━━━━━━━━━━━━━━━━━\u001b[0m\u001b[37m\u001b[0m \u001b[1m1s\u001b[0m 367ms/step - loss: 0.4811 - mae: 0.4811 - mse: 0.4807 - val_loss: 0.7322 - val_mae: 0.7322 - val_mse: 0.8556\n",
            "Epoch 99/100\n",
            "\u001b[1m4/4\u001b[0m \u001b[32m━━━━━━━━━━━━━━━━━━━━\u001b[0m\u001b[37m\u001b[0m \u001b[1m3s\u001b[0m 368ms/step - loss: 0.4966 - mae: 0.4966 - mse: 0.4945 - val_loss: 0.7284 - val_mae: 0.7284 - val_mse: 0.8537\n",
            "Epoch 100/100\n",
            "\u001b[1m4/4\u001b[0m \u001b[32m━━━━━━━━━━━━━━━━━━━━\u001b[0m\u001b[37m\u001b[0m \u001b[1m2s\u001b[0m 416ms/step - loss: 0.4960 - mae: 0.4960 - mse: 0.5136 - val_loss: 0.7292 - val_mae: 0.7292 - val_mse: 0.8633\n"
          ]
        }
      ],
      "source": [
        "history = model.fit(\n",
        "    X_3Dtrain, y_train,\n",
        "    epochs=100,\n",
        "    batch_size=128,  # Larger batch for speed\n",
        "    validation_data=(X_3Dtest, y_test),\n",
        "    verbose=1,\n",
        "\n",
        ")\n",
        "\n",
        "\n"
      ]
    },
    {
      "cell_type": "code",
      "execution_count": 44,
      "metadata": {
        "colab": {
          "base_uri": "https://localhost:8080/"
        },
        "id": "W-1HBF5k2dOw",
        "outputId": "122a03d1-e891-4b00-e45b-30c9f4482f04"
      },
      "outputs": [
        {
          "output_type": "stream",
          "name": "stdout",
          "text": [
            "\u001b[1m4/4\u001b[0m \u001b[32m━━━━━━━━━━━━━━━━━━━━\u001b[0m\u001b[37m\u001b[0m \u001b[1m1s\u001b[0m 198ms/step\n"
          ]
        }
      ],
      "source": [
        "# ✅ Predict on Test Data\n",
        "y_pred = model.predict(X_3Dtest)\n",
        "\n"
      ]
    },
    {
      "cell_type": "code",
      "execution_count": 45,
      "metadata": {
        "id": "l9WhXDCI8jlf"
      },
      "outputs": [],
      "source": [
        " # ✅ Inverse Transform Predictions\n",
        "y_pred_original = target_scaler.inverse_transform(y_pred)\n",
        "y_test_original = target_scaler.inverse_transform(y_test)\n",
        "\n"
      ]
    },
    {
      "cell_type": "code",
      "execution_count": 46,
      "metadata": {
        "id": "0CJBfL7108cl"
      },
      "outputs": [],
      "source": [
        "# ✅ Compute MSE and MAE (Original Scale)\n",
        "final_mse = mean_squared_error(y_test_original, y_pred_original)\n",
        "final_mae = mean_absolute_error(y_test_original, y_pred_original)\n"
      ]
    },
    {
      "cell_type": "code",
      "execution_count": 47,
      "metadata": {
        "colab": {
          "base_uri": "https://localhost:8080/"
        },
        "id": "PDsz7duq1CDi",
        "outputId": "3808ac3c-4a09-4fab-f59d-f7aa8a2c15e1"
      },
      "outputs": [
        {
          "output_type": "stream",
          "name": "stdout",
          "text": [
            "✅ Final MSE: 98.2531\n",
            "✅ Final MAE: 7.7791\n"
          ]
        }
      ],
      "source": [
        "print(f\"✅ Final MSE: {final_mse:.4f}\")\n",
        "print(f\"✅ Final MAE: {final_mae:.4f}\")\n"
      ]
    },
    {
      "cell_type": "code",
      "execution_count": 48,
      "metadata": {
        "colab": {
          "base_uri": "https://localhost:8080/"
        },
        "id": "s5MGE5IUfRiV",
        "outputId": "9f1470b7-06a9-4e26-9b08-e082b27f8088"
      },
      "outputs": [
        {
          "output_type": "execute_result",
          "data": {
            "text/plain": [
              "array([[ 86.71338 ],\n",
              "       [ 86.33586 ],\n",
              "       [ 81.87294 ],\n",
              "       [ 90.12388 ],\n",
              "       [ 80.87063 ],\n",
              "       [ 94.09708 ],\n",
              "       [ 84.65702 ],\n",
              "       [ 89.892235],\n",
              "       [ 95.65055 ],\n",
              "       [ 90.973   ],\n",
              "       [ 77.36894 ],\n",
              "       [ 81.62408 ],\n",
              "       [ 80.589325],\n",
              "       [ 77.685585],\n",
              "       [ 80.387856],\n",
              "       [ 85.03921 ],\n",
              "       [ 84.68732 ],\n",
              "       [ 80.722885],\n",
              "       [ 97.59198 ],\n",
              "       [ 83.00907 ],\n",
              "       [ 79.94362 ],\n",
              "       [ 82.8825  ],\n",
              "       [ 87.1223  ],\n",
              "       [ 90.95216 ],\n",
              "       [101.26833 ],\n",
              "       [ 86.959946],\n",
              "       [ 81.81511 ],\n",
              "       [ 95.75923 ],\n",
              "       [ 91.17704 ],\n",
              "       [ 77.36672 ],\n",
              "       [ 80.70744 ],\n",
              "       [ 84.51765 ],\n",
              "       [ 90.576614],\n",
              "       [ 83.14953 ],\n",
              "       [ 77.070206],\n",
              "       [ 87.70856 ],\n",
              "       [ 85.33207 ],\n",
              "       [ 77.33349 ],\n",
              "       [111.77464 ],\n",
              "       [ 79.584595],\n",
              "       [ 76.36617 ],\n",
              "       [ 84.6187  ],\n",
              "       [ 97.87244 ],\n",
              "       [ 81.636986],\n",
              "       [ 91.22325 ],\n",
              "       [ 92.72924 ],\n",
              "       [ 84.936226],\n",
              "       [ 94.89429 ],\n",
              "       [ 82.89891 ],\n",
              "       [ 81.7686  ],\n",
              "       [ 90.95578 ],\n",
              "       [ 83.68332 ],\n",
              "       [ 86.84826 ],\n",
              "       [ 91.895874],\n",
              "       [ 91.753815],\n",
              "       [ 77.15149 ],\n",
              "       [ 77.29384 ],\n",
              "       [ 95.12384 ],\n",
              "       [ 79.17647 ],\n",
              "       [ 77.42432 ],\n",
              "       [ 87.46722 ],\n",
              "       [ 76.04122 ],\n",
              "       [ 82.79167 ],\n",
              "       [ 72.56428 ],\n",
              "       [ 94.785866],\n",
              "       [102.27414 ],\n",
              "       [ 79.5013  ],\n",
              "       [ 91.66575 ],\n",
              "       [ 83.24754 ],\n",
              "       [ 86.18388 ],\n",
              "       [ 85.29907 ],\n",
              "       [ 77.94629 ],\n",
              "       [ 87.35822 ],\n",
              "       [ 91.22696 ],\n",
              "       [ 83.08515 ],\n",
              "       [ 86.92856 ],\n",
              "       [ 86.310135],\n",
              "       [ 88.65234 ],\n",
              "       [ 79.034256],\n",
              "       [ 90.85266 ],\n",
              "       [ 80.09179 ],\n",
              "       [ 92.08614 ],\n",
              "       [ 92.88123 ],\n",
              "       [ 99.71408 ],\n",
              "       [ 93.39325 ],\n",
              "       [ 88.4075  ],\n",
              "       [ 82.50778 ],\n",
              "       [ 87.04161 ],\n",
              "       [ 83.77552 ],\n",
              "       [ 81.99889 ],\n",
              "       [ 73.06209 ],\n",
              "       [ 77.04537 ],\n",
              "       [ 81.663246],\n",
              "       [ 86.18834 ],\n",
              "       [ 90.17962 ],\n",
              "       [ 80.30973 ],\n",
              "       [ 83.861755],\n",
              "       [ 95.60278 ],\n",
              "       [ 87.21544 ],\n",
              "       [ 87.12338 ],\n",
              "       [ 83.0179  ],\n",
              "       [ 74.737114],\n",
              "       [ 84.16402 ],\n",
              "       [ 90.968376],\n",
              "       [ 85.78184 ],\n",
              "       [ 75.962   ],\n",
              "       [ 74.661835],\n",
              "       [ 79.928055]], dtype=float32)"
            ]
          },
          "metadata": {},
          "execution_count": 48
        }
      ],
      "source": [
        "y_pred_original"
      ]
    },
    {
      "cell_type": "code",
      "execution_count": 49,
      "metadata": {
        "colab": {
          "base_uri": "https://localhost:8080/"
        },
        "id": "7LiBeDrgfjG0",
        "outputId": "1a28f6f6-3c0a-4b97-b801-82ff3616e214"
      },
      "outputs": [
        {
          "output_type": "execute_result",
          "data": {
            "text/plain": [
              "array([[107.],\n",
              "       [ 87.],\n",
              "       [ 94.],\n",
              "       [ 96.],\n",
              "       [ 82.],\n",
              "       [ 76.],\n",
              "       [ 76.],\n",
              "       [ 98.],\n",
              "       [ 82.],\n",
              "       [103.],\n",
              "       [ 78.],\n",
              "       [109.],\n",
              "       [ 78.],\n",
              "       [ 82.],\n",
              "       [ 96.],\n",
              "       [ 81.],\n",
              "       [ 89.],\n",
              "       [ 79.],\n",
              "       [ 78.],\n",
              "       [ 78.],\n",
              "       [ 87.],\n",
              "       [ 87.],\n",
              "       [ 96.],\n",
              "       [ 90.],\n",
              "       [ 70.],\n",
              "       [ 88.],\n",
              "       [ 97.],\n",
              "       [ 89.],\n",
              "       [ 92.],\n",
              "       [ 94.],\n",
              "       [ 90.],\n",
              "       [ 80.],\n",
              "       [ 98.],\n",
              "       [ 93.],\n",
              "       [ 81.],\n",
              "       [ 91.],\n",
              "       [ 81.],\n",
              "       [ 89.],\n",
              "       [114.],\n",
              "       [ 74.],\n",
              "       [ 88.],\n",
              "       [ 93.],\n",
              "       [ 95.],\n",
              "       [ 78.],\n",
              "       [ 97.],\n",
              "       [ 91.],\n",
              "       [ 73.],\n",
              "       [ 95.],\n",
              "       [ 79.],\n",
              "       [ 76.],\n",
              "       [ 74.],\n",
              "       [ 89.],\n",
              "       [ 75.],\n",
              "       [ 90.],\n",
              "       [ 94.],\n",
              "       [ 70.],\n",
              "       [ 89.],\n",
              "       [101.],\n",
              "       [ 82.],\n",
              "       [100.],\n",
              "       [ 98.],\n",
              "       [ 71.],\n",
              "       [ 74.],\n",
              "       [ 77.],\n",
              "       [ 75.],\n",
              "       [ 81.],\n",
              "       [ 70.],\n",
              "       [ 90.],\n",
              "       [ 84.],\n",
              "       [ 96.],\n",
              "       [ 96.],\n",
              "       [ 77.],\n",
              "       [ 87.],\n",
              "       [ 94.],\n",
              "       [ 89.],\n",
              "       [104.],\n",
              "       [ 76.],\n",
              "       [ 95.],\n",
              "       [ 92.],\n",
              "       [ 96.],\n",
              "       [ 90.],\n",
              "       [ 88.],\n",
              "       [ 95.],\n",
              "       [ 83.],\n",
              "       [ 87.],\n",
              "       [ 92.],\n",
              "       [ 86.],\n",
              "       [ 87.],\n",
              "       [ 89.],\n",
              "       [ 96.],\n",
              "       [ 68.],\n",
              "       [ 78.],\n",
              "       [ 92.],\n",
              "       [ 86.],\n",
              "       [ 78.],\n",
              "       [ 79.],\n",
              "       [ 94.],\n",
              "       [ 95.],\n",
              "       [ 96.],\n",
              "       [ 79.],\n",
              "       [ 78.],\n",
              "       [ 72.],\n",
              "       [ 71.],\n",
              "       [ 81.],\n",
              "       [ 78.],\n",
              "       [ 87.],\n",
              "       [ 82.],\n",
              "       [ 69.]], dtype=float32)"
            ]
          },
          "metadata": {},
          "execution_count": 49
        }
      ],
      "source": [
        "y_test_original"
      ]
    },
    {
      "cell_type": "code",
      "execution_count": 50,
      "metadata": {
        "colab": {
          "base_uri": "https://localhost:8080/"
        },
        "id": "FjHd48vnmeZK",
        "outputId": "d9ee431c-f462-4755-c318-5d635e519ef6"
      },
      "outputs": [
        {
          "output_type": "stream",
          "name": "stdout",
          "text": [
            "Correlation between y_test_original and y_pred_original: 0.3136\n"
          ]
        }
      ],
      "source": [
        "correlation = np.corrcoef(y_test_original[:, 0], y_pred_original[:, 0])[0, 1]  # Assuming Omron Diastolic is in the first column\n"
      ]
    },
    {
      "cell_type": "code",
      "execution_count": 51,
      "metadata": {
        "colab": {
          "base_uri": "https://localhost:8080/",
          "height": 504
        },
        "id": "WNcflU051Ehl",
        "outputId": "86e252bb-da0d-4e7a-bcd5-6d19c4f55873"
      },
      "outputs": [
        {
          "output_type": "execute_result",
          "data": {
            "text/plain": [
              "Text(0.5, 1.0, 'Omron Systolic Prediction')"
            ]
          },
          "metadata": {},
          "execution_count": 51
        },
        {
          "output_type": "display_data",
          "data": {
            "text/plain": [
              "<Figure size 1200x500 with 1 Axes>"
            ],
            "image/png": "[encoded data removed]"
          },
          "metadata": {}
        }
      ],
      "source": [
        "# ✅ Graphical Representation\n",
        "plt.figure(figsize=(12, 5))\n",
        "\n",
        "# Plot Omron Diastolic\n",
        "plt.subplot(1, 2, 1)\n",
        "plt.plot(y_test_original[:, 0], label=\"Actual Diastolic\", marker='o')\n",
        "plt.plot(y_pred_original[:, 0], label=\"Predicted Diastolic\", linestyle='dashed', marker='s')\n",
        "plt.xlabel(\"Sample Index\")\n",
        "plt.ylabel(\"Omron Systolic Value\")\n",
        "plt.legend()\n",
        "plt.title(\"Omron Systolic Prediction\")\n",
        "\n"
      ]
    },
    {
      "cell_type": "code",
      "execution_count": 51,
      "metadata": {
        "id": "JoXmkgH_1Ng2"
      },
      "outputs": [],
      "source": []
    }
  ],
  "metadata": {
    "colab": {
      "provenance": [],
      "gpuType": "T4"
    },
    "kernelspec": {
      "display_name": "Python 3",
      "name": "python3"
    },
    "language_info": {
      "name": "python"
    },
    "accelerator": "GPU"
  },
  "nbformat": 4,
  "nbformat_minor": 0
}