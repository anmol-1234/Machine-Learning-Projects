{
  "nbformat": 4,
  "nbformat_minor": 0,
  "metadata": {
    "colab": {
      "provenance": [],
      "gpuType": "T4"
    },
    "kernelspec": {
      "name": "python3",
      "display_name": "Python 3"
    },
    "language_info": {
      "name": "python"
    },
    "accelerator": "GPU"
  },
  "cells": [
    {
      "cell_type": "code",
      "execution_count": 1,
      "metadata": {
        "id": "RxLaK4U35i3D"
      },
      "outputs": [],
      "source": [
        "# ✅ Import Required Libraries\n",
        "import os\n",
        "import numpy as np\n",
        "import pandas as pd\n",
        "import tensorflow as tf\n",
        "from tensorflow.keras.models import Sequential\n",
        "from tensorflow.keras.layers import GRU, Dense, Dropout, BatchNormalization, Input\n",
        "from tensorflow.keras.optimizers import Adam\n",
        "from sklearn.preprocessing import MinMaxScaler, LabelEncoder\n",
        "from sklearn.model_selection import train_test_split\n",
        "from sklearn.metrics import mean_squared_error, mean_absolute_error\n",
        "import joblib\n",
        "import matplotlib.pyplot as plt"
      ]
    },
    {
      "cell_type": "code",
      "source": [
        "from google.colab import drive\n",
        "drive.mount('/content/drive')"
      ],
      "metadata": {
        "colab": {
          "base_uri": "https://localhost:8080/"
        },
        "id": "G8QxZWv95-ph",
        "outputId": "acf65198-ea50-43c3-c8bb-982b5decc697"
      },
      "execution_count": 2,
      "outputs": [
        {
          "output_type": "stream",
          "name": "stdout",
          "text": [
            "Mounted at /content/drive\n"
          ]
        }
      ]
    },
    {
      "cell_type": "code",
      "source": [
        "# ✅ Enable Mixed Precision for Faster Computation\n",
        "tf.keras.mixed_precision.set_global_policy('mixed_float16')"
      ],
      "metadata": {
        "id": "4LcTAIMb6NZP"
      },
      "execution_count": 3,
      "outputs": []
    },
    {
      "cell_type": "code",
      "source": [
        "# ✅ Define Paths\n",
        "reference_file = \"/content/drive/MyDrive/Jan 4/Reference_Output_Until_Jan02_2025 (4).csv\"\n",
        "predictor_folder = \"/content/drive/MyDrive/Jan 4/5000_X_12_Until_Jan02_2025\""
      ],
      "metadata": {
        "id": "BT3cRylh6Rv-"
      },
      "execution_count": 4,
      "outputs": []
    },
    {
      "cell_type": "code",
      "source": [
        "reference_df = pd.read_csv(reference_file)  # Columns: Reading_File_Name, A, B, reading_id, gender, etc."
      ],
      "metadata": {
        "id": "3-WAKNMQ6XG-"
      },
      "execution_count": 5,
      "outputs": []
    },
    {
      "cell_type": "code",
      "source": [
        "# ✅ Extract Target (Omron Systolic)\n",
        "y = reference_df[['Omron Systolic']].to_numpy(dtype=np.float32)"
      ],
      "metadata": {
        "id": "L8pdE0_R741A"
      },
      "execution_count": 6,
      "outputs": []
    },
    {
      "cell_type": "code",
      "source": [
        "# ✅ Normalize Target Values\n",
        "from sklearn.preprocessing import StandardScaler\n",
        "target_scaler = StandardScaler()\n",
        "y_scaled = target_scaler.fit_transform(y)"
      ],
      "metadata": {
        "id": "EVKFP8tV8KH9"
      },
      "execution_count": 7,
      "outputs": []
    },
    {
      "cell_type": "code",
      "source": [
        "# Save target scaler\n",
        "joblib.dump(target_scaler, \"/content/drive/MyDrive/pkl files/target_scaler20.pkl\")\n"
      ],
      "metadata": {
        "colab": {
          "base_uri": "https://localhost:8080/"
        },
        "id": "SopFRUBJ8OXv",
        "outputId": "11f50caa-7c60-4ed5-d73c-a5bbdee7a04f"
      },
      "execution_count": 8,
      "outputs": [
        {
          "output_type": "execute_result",
          "data": {
            "text/plain": [
              "['/content/drive/MyDrive/pkl files/target_scaler20.pkl']"
            ]
          },
          "metadata": {},
          "execution_count": 8
        }
      ]
    },
    {
      "cell_type": "code",
      "source": [
        "# ✅ Load and Process Predictor Files in a Single Pass\n",
        "aggregated_data = []\n",
        "predictor_files = sorted([f for f in os.listdir(predictor_folder) if f.endswith(\".csv\")])\n",
        "\n"
      ],
      "metadata": {
        "id": "3BO7HmDm8UcB"
      },
      "execution_count": 9,
      "outputs": []
    },
    {
      "cell_type": "code",
      "source": [
        "for file in predictor_files:\n",
        "    df = pd.read_csv(os.path.join(predictor_folder, file), dtype=np.float32)\n",
        "\n",
        "    # Handle missing values\n",
        "    df.fillna(df.median(numeric_only=True), inplace=True)\n",
        "\n",
        "    aggregated_data.append(df.to_numpy(dtype=np.float32))\n",
        "\n"
      ],
      "metadata": {
        "id": "zXjr8NDI8Ylu"
      },
      "execution_count": 10,
      "outputs": []
    },
    {
      "cell_type": "code",
      "source": [
        "# ✅ Convert to NumPy Array\n",
        "X = np.array(aggregated_data, dtype=np.float32)\n"
      ],
      "metadata": {
        "id": "twjZdpFx8iAp"
      },
      "execution_count": 11,
      "outputs": []
    },
    {
      "cell_type": "code",
      "source": [
        "# ✅ Ensure Proper Shape for GRU (samples, timesteps, features)\n",
        "X = X.reshape(X.shape[0], X.shape[1], X.shape[2])\n"
      ],
      "metadata": {
        "id": "2Ug65BQz8lfg"
      },
      "execution_count": 12,
      "outputs": []
    },
    {
      "cell_type": "code",
      "source": [
        "X_2D = X.reshape(-1,X.shape[2])"
      ],
      "metadata": {
        "id": "S_G0TALI8orZ"
      },
      "execution_count": 13,
      "outputs": []
    },
    {
      "cell_type": "code",
      "source": [
        "from sklearn.preprocessing import StandardScaler\n",
        "scaler = StandardScaler()\n",
        "X_scaled = scaler.fit_transform(X_2D)\n"
      ],
      "metadata": {
        "id": "eUg4SkKS8sBu"
      },
      "execution_count": 14,
      "outputs": []
    },
    {
      "cell_type": "code",
      "source": [
        "X_3D = X_scaled.reshape(X.shape[0], X.shape[1], X.shape[2])"
      ],
      "metadata": {
        "id": "ZyIbFVjm8wp5"
      },
      "execution_count": 15,
      "outputs": []
    },
    {
      "cell_type": "code",
      "source": [
        "# ✅ Split Data (20% Test, 80% Train)\n",
        "X_3Dtrain, X_3Dtest, y_train, y_test = train_test_split(X_3D, y_scaled, test_size=0.2, random_state=42)\n",
        "\n",
        "\n"
      ],
      "metadata": {
        "id": "QK207BK180Pp"
      },
      "execution_count": 16,
      "outputs": []
    },
    {
      "cell_type": "code",
      "source": [
        "X_3Dtest.shape"
      ],
      "metadata": {
        "colab": {
          "base_uri": "https://localhost:8080/"
        },
        "id": "JHKciGaW83Yf",
        "outputId": "6d763aff-bf82-4a36-ff30-db94a52cd420"
      },
      "execution_count": 17,
      "outputs": [
        {
          "output_type": "execute_result",
          "data": {
            "text/plain": [
              "(108, 5000, 12)"
            ]
          },
          "metadata": {},
          "execution_count": 17
        }
      ]
    },
    {
      "cell_type": "code",
      "source": [
        "y_train"
      ],
      "metadata": {
        "colab": {
          "base_uri": "https://localhost:8080/"
        },
        "id": "m8_j8jvu86sQ",
        "outputId": "559c39c4-156e-4c23-edc3-c21a27233b59"
      },
      "execution_count": 18,
      "outputs": [
        {
          "output_type": "execute_result",
          "data": {
            "text/plain": [
              "array([[ 0.26008847],\n",
              "       [ 0.95997643],\n",
              "       [ 0.26008847],\n",
              "       [ 0.01012849],\n",
              "       [-0.1898395 ],\n",
              "       [ 0.61003244],\n",
              "       [ 0.61003244],\n",
              "       [-0.58977544],\n",
              "       [ 1.7098564 ],\n",
              "       [-1.6895994 ],\n",
              "       [ 0.66002446],\n",
              "       [-0.83973545],\n",
              "       [-1.2396713 ],\n",
              "       [-0.9897114 ],\n",
              "       [-0.8897274 ],\n",
              "       [-0.68975943],\n",
              "       [-1.3396554 ],\n",
              "       [ 0.41006446],\n",
              "       [-0.23983148],\n",
              "       [-1.0397034 ],\n",
              "       [-0.8897274 ],\n",
              "       [ 0.11011248],\n",
              "       [ 1.3599124 ],\n",
              "       [-1.4396393 ],\n",
              "       [ 0.36007246],\n",
              "       [ 2.3597524 ],\n",
              "       [ 0.51004845],\n",
              "       [-0.38980746],\n",
              "       [-0.58977544],\n",
              "       [-0.73975146],\n",
              "       [ 1.5598804 ],\n",
              "       [-1.0896955 ],\n",
              "       [ 0.26008847],\n",
              "       [ 0.11011248],\n",
              "       [-0.33981547],\n",
              "       [-0.33981547],\n",
              "       [-0.48979145],\n",
              "       [ 0.85999244],\n",
              "       [ 0.46005645],\n",
              "       [ 0.26008847],\n",
              "       [-0.03986351],\n",
              "       [-1.0896955 ],\n",
              "       [ 0.8100004 ],\n",
              "       [-0.0898555 ],\n",
              "       [-0.38980746],\n",
              "       [ 0.61003244],\n",
              "       [ 1.2099364 ],\n",
              "       [-0.7897434 ],\n",
              "       [-0.38980746],\n",
              "       [-0.68975943],\n",
              "       [-0.1398475 ],\n",
              "       [-1.2396713 ],\n",
              "       [-0.83973545],\n",
              "       [-0.48979145],\n",
              "       [-0.28982347],\n",
              "       [-0.03986351],\n",
              "       [-0.1898395 ],\n",
              "       [ 0.36007246],\n",
              "       [-0.28982347],\n",
              "       [ 1.1599444 ],\n",
              "       [ 1.5098884 ],\n",
              "       [-0.68975943],\n",
              "       [ 0.7100164 ],\n",
              "       [ 3.3096    ],\n",
              "       [ 0.36007246],\n",
              "       [-1.5396234 ],\n",
              "       [-0.43979946],\n",
              "       [ 0.36007246],\n",
              "       [-0.48979145],\n",
              "       [ 0.16010447],\n",
              "       [ 0.5600405 ],\n",
              "       [ 0.85999244],\n",
              "       [-0.73975146],\n",
              "       [-0.73975146],\n",
              "       [-0.7897434 ],\n",
              "       [-0.93971944],\n",
              "       [-0.58977544],\n",
              "       [ 0.26008847],\n",
              "       [ 0.85999244],\n",
              "       [ 1.0099684 ],\n",
              "       [-0.93971944],\n",
              "       [ 0.85999244],\n",
              "       [ 0.01012849],\n",
              "       [ 0.61003244],\n",
              "       [ 1.5098884 ],\n",
              "       [-1.5396234 ],\n",
              "       [ 1.8598323 ],\n",
              "       [ 0.11011248],\n",
              "       [-0.03986351],\n",
              "       [-1.0896955 ],\n",
              "       [ 1.1599444 ],\n",
              "       [ 0.21009648],\n",
              "       [-0.58977544],\n",
              "       [-0.28982347],\n",
              "       [-0.23983148],\n",
              "       [-1.1896794 ],\n",
              "       [-0.73975146],\n",
              "       [-0.0898555 ],\n",
              "       [ 0.36007246],\n",
              "       [-0.9897114 ],\n",
              "       [-1.1896794 ],\n",
              "       [-0.38980746],\n",
              "       [-0.33981547],\n",
              "       [-0.58977544],\n",
              "       [-0.28982347],\n",
              "       [ 2.0098083 ],\n",
              "       [-0.68975943],\n",
              "       [ 0.8100004 ],\n",
              "       [ 0.26008847],\n",
              "       [ 0.7100164 ],\n",
              "       [-0.23983148],\n",
              "       [ 0.51004845],\n",
              "       [ 1.5598804 ],\n",
              "       [ 0.51004845],\n",
              "       [ 0.61003244],\n",
              "       [-0.7897434 ],\n",
              "       [ 1.4598963 ],\n",
              "       [ 0.16010447],\n",
              "       [-0.5397835 ],\n",
              "       [ 1.9598163 ],\n",
              "       [ 1.2099364 ],\n",
              "       [ 0.8100004 ],\n",
              "       [ 0.06012049],\n",
              "       [ 1.2099364 ],\n",
              "       [ 0.21009648],\n",
              "       [-1.6396073 ],\n",
              "       [-0.33981547],\n",
              "       [-0.68975943],\n",
              "       [-1.1896794 ],\n",
              "       [ 1.1599444 ],\n",
              "       [-0.43979946],\n",
              "       [ 0.21009648],\n",
              "       [ 0.31008047],\n",
              "       [ 5.409264  ],\n",
              "       [ 0.31008047],\n",
              "       [-0.1898395 ],\n",
              "       [-0.7897434 ],\n",
              "       [-0.0898555 ],\n",
              "       [ 4.3594317 ],\n",
              "       [ 0.06012049],\n",
              "       [-1.0397034 ],\n",
              "       [-0.73975146],\n",
              "       [ 0.8100004 ],\n",
              "       [-0.03986351],\n",
              "       [-1.3396554 ],\n",
              "       [-0.0898555 ],\n",
              "       [-0.43979946],\n",
              "       [ 1.8598323 ],\n",
              "       [ 5.55924   ],\n",
              "       [ 0.31008047],\n",
              "       [-1.2396713 ],\n",
              "       [ 0.06012049],\n",
              "       [ 0.11011248],\n",
              "       [ 0.01012849],\n",
              "       [-0.1398475 ],\n",
              "       [-1.0397034 ],\n",
              "       [ 0.5600405 ],\n",
              "       [-0.03986351],\n",
              "       [-1.2396713 ],\n",
              "       [ 0.31008047],\n",
              "       [-1.6895994 ],\n",
              "       [ 0.95997643],\n",
              "       [-0.83973545],\n",
              "       [ 0.46005645],\n",
              "       [ 1.6598643 ],\n",
              "       [-0.0898555 ],\n",
              "       [ 0.26008847],\n",
              "       [ 1.1099524 ],\n",
              "       [-1.3396554 ],\n",
              "       [ 1.3599124 ],\n",
              "       [-0.1898395 ],\n",
              "       [-0.9897114 ],\n",
              "       [ 1.0099684 ],\n",
              "       [ 0.11011248],\n",
              "       [ 0.95997643],\n",
              "       [-0.9897114 ],\n",
              "       [-0.38980746],\n",
              "       [-0.63976747],\n",
              "       [ 0.21009648],\n",
              "       [-1.0896955 ],\n",
              "       [-0.48979145],\n",
              "       [ 0.8100004 ],\n",
              "       [ 0.7100164 ],\n",
              "       [-0.9897114 ],\n",
              "       [-1.0896955 ],\n",
              "       [-0.73975146],\n",
              "       [ 0.01012849],\n",
              "       [-0.28982347],\n",
              "       [-0.23983148],\n",
              "       [ 0.5600405 ],\n",
              "       [-1.0896955 ],\n",
              "       [-0.43979946],\n",
              "       [ 0.16010447],\n",
              "       [ 0.76000845],\n",
              "       [ 0.46005645],\n",
              "       [-0.1898395 ],\n",
              "       [-0.63976747],\n",
              "       [-0.9897114 ],\n",
              "       [-0.7897434 ],\n",
              "       [-0.8897274 ],\n",
              "       [ 1.1599444 ],\n",
              "       [-1.4896314 ],\n",
              "       [-0.0898555 ],\n",
              "       [-0.43979946],\n",
              "       [-0.43979946],\n",
              "       [ 0.7100164 ],\n",
              "       [-0.83973545],\n",
              "       [ 0.46005645],\n",
              "       [ 0.61003244],\n",
              "       [ 0.46005645],\n",
              "       [ 0.31008047],\n",
              "       [-0.58977544],\n",
              "       [ 0.61003244],\n",
              "       [-0.9897114 ],\n",
              "       [ 0.01012849],\n",
              "       [-1.3896474 ],\n",
              "       [-1.0896955 ],\n",
              "       [-0.38980746],\n",
              "       [-0.43979946],\n",
              "       [ 0.46005645],\n",
              "       [ 1.9598163 ],\n",
              "       [ 0.11011248],\n",
              "       [ 0.26008847],\n",
              "       [-1.6895994 ],\n",
              "       [-0.73975146],\n",
              "       [-0.28982347],\n",
              "       [ 0.31008047],\n",
              "       [-0.23983148],\n",
              "       [-0.03986351],\n",
              "       [ 0.36007246],\n",
              "       [-0.63976747],\n",
              "       [-1.2896634 ],\n",
              "       [ 0.26008847],\n",
              "       [-0.7897434 ],\n",
              "       [-1.4396393 ],\n",
              "       [-0.03986351],\n",
              "       [-1.3396554 ],\n",
              "       [ 0.31008047],\n",
              "       [-0.5397835 ],\n",
              "       [-0.23983148],\n",
              "       [-0.1398475 ],\n",
              "       [-1.0896955 ],\n",
              "       [ 0.31008047],\n",
              "       [ 0.7100164 ],\n",
              "       [-0.48979145],\n",
              "       [ 1.1099524 ],\n",
              "       [-1.1896794 ],\n",
              "       [ 0.16010447],\n",
              "       [-1.1896794 ],\n",
              "       [-0.73975146],\n",
              "       [-0.63976747],\n",
              "       [ 1.8098403 ],\n",
              "       [ 0.16010447],\n",
              "       [ 0.31008047],\n",
              "       [ 0.26008847],\n",
              "       [ 0.41006446],\n",
              "       [-0.68975943],\n",
              "       [-0.1898395 ],\n",
              "       [ 0.41006446],\n",
              "       [ 0.21009648],\n",
              "       [ 0.41006446],\n",
              "       [ 0.7100164 ],\n",
              "       [-0.68975943],\n",
              "       [-0.8897274 ],\n",
              "       [-0.68975943],\n",
              "       [ 1.8098403 ],\n",
              "       [-0.68975943],\n",
              "       [ 0.51004845],\n",
              "       [ 1.3099204 ],\n",
              "       [ 0.26008847],\n",
              "       [-1.6396073 ],\n",
              "       [ 0.51004845],\n",
              "       [ 0.21009648],\n",
              "       [ 1.6098723 ],\n",
              "       [-0.73975146],\n",
              "       [ 0.61003244],\n",
              "       [-0.43979946],\n",
              "       [ 0.61003244],\n",
              "       [-0.83973545],\n",
              "       [ 0.76000845],\n",
              "       [-0.5397835 ],\n",
              "       [-1.1896794 ],\n",
              "       [-0.1898395 ],\n",
              "       [ 0.16010447],\n",
              "       [ 2.3097603 ],\n",
              "       [ 0.95997643],\n",
              "       [ 0.51004845],\n",
              "       [-0.9897114 ],\n",
              "       [ 0.41006446],\n",
              "       [ 1.2099364 ],\n",
              "       [ 0.41006446],\n",
              "       [-1.5396234 ],\n",
              "       [-0.23983148],\n",
              "       [ 0.16010447],\n",
              "       [-0.73975146],\n",
              "       [ 4.659384  ],\n",
              "       [ 0.51004845],\n",
              "       [-0.03986351],\n",
              "       [-0.9897114 ],\n",
              "       [ 1.1599444 ],\n",
              "       [ 0.11011248],\n",
              "       [ 0.06012049],\n",
              "       [-0.0898555 ],\n",
              "       [-0.1398475 ],\n",
              "       [ 1.2099364 ],\n",
              "       [-0.93971944],\n",
              "       [ 0.8100004 ],\n",
              "       [ 0.36007246],\n",
              "       [ 0.06012049],\n",
              "       [-1.2396713 ],\n",
              "       [-0.48979145],\n",
              "       [-0.5397835 ],\n",
              "       [-0.58977544],\n",
              "       [ 0.61003244],\n",
              "       [-1.0896955 ],\n",
              "       [-0.48979145],\n",
              "       [ 0.36007246],\n",
              "       [-0.03986351],\n",
              "       [-1.5896153 ],\n",
              "       [-1.0397034 ],\n",
              "       [ 0.06012049],\n",
              "       [-1.3396554 ],\n",
              "       [ 0.5600405 ],\n",
              "       [ 0.7100164 ],\n",
              "       [-1.0896955 ],\n",
              "       [ 0.76000845],\n",
              "       [-0.03986351],\n",
              "       [-1.0896955 ],\n",
              "       [-0.23983148],\n",
              "       [ 1.2099364 ],\n",
              "       [ 3.0096483 ],\n",
              "       [ 0.85999244],\n",
              "       [-0.03986351],\n",
              "       [ 2.3597524 ],\n",
              "       [ 0.31008047],\n",
              "       [-0.38980746],\n",
              "       [-0.38980746],\n",
              "       [ 0.41006446],\n",
              "       [ 0.11011248],\n",
              "       [-0.38980746],\n",
              "       [ 3.859512  ],\n",
              "       [-0.38980746],\n",
              "       [-1.1396874 ],\n",
              "       [ 2.0098083 ],\n",
              "       [-0.7897434 ],\n",
              "       [ 0.16010447],\n",
              "       [-0.8897274 ],\n",
              "       [-0.38980746],\n",
              "       [-0.58977544],\n",
              "       [-0.73975146],\n",
              "       [ 5.1593037 ],\n",
              "       [-0.23983148],\n",
              "       [-0.63976747],\n",
              "       [ 0.66002446],\n",
              "       [-0.5397835 ],\n",
              "       [-0.28982347],\n",
              "       [ 0.21009648],\n",
              "       [ 2.0098083 ],\n",
              "       [-0.83973545],\n",
              "       [-0.93971944],\n",
              "       [ 0.06012049],\n",
              "       [ 0.85999244],\n",
              "       [-0.73975146],\n",
              "       [ 0.51004845],\n",
              "       [-0.03986351],\n",
              "       [-1.0896955 ],\n",
              "       [-0.8897274 ],\n",
              "       [ 1.0099684 ],\n",
              "       [-0.7897434 ],\n",
              "       [ 0.41006446],\n",
              "       [ 0.31008047],\n",
              "       [ 1.9098244 ],\n",
              "       [ 0.46005645],\n",
              "       [-0.7897434 ],\n",
              "       [-0.58977544],\n",
              "       [ 0.61003244],\n",
              "       [-0.1898395 ],\n",
              "       [ 0.11011248],\n",
              "       [-0.73975146],\n",
              "       [-1.5896153 ],\n",
              "       [-0.1898395 ],\n",
              "       [-0.23983148],\n",
              "       [ 1.3099204 ],\n",
              "       [-0.23983148],\n",
              "       [-0.5397835 ],\n",
              "       [-0.0898555 ],\n",
              "       [-0.03986351],\n",
              "       [ 0.31008047],\n",
              "       [-0.93971944],\n",
              "       [ 0.36007246],\n",
              "       [ 0.7100164 ],\n",
              "       [ 1.9598163 ],\n",
              "       [ 1.3099204 ],\n",
              "       [-1.0896955 ],\n",
              "       [-0.38980746],\n",
              "       [ 1.9098244 ],\n",
              "       [ 0.85999244],\n",
              "       [ 0.9099844 ],\n",
              "       [ 0.16010447],\n",
              "       [-0.0898555 ],\n",
              "       [-0.38980746],\n",
              "       [ 0.41006446],\n",
              "       [-0.33981547],\n",
              "       [ 0.11011248],\n",
              "       [ 0.11011248],\n",
              "       [-0.5397835 ],\n",
              "       [-0.48979145],\n",
              "       [ 0.36007246],\n",
              "       [-0.28982347],\n",
              "       [ 0.51004845],\n",
              "       [ 0.5600405 ],\n",
              "       [ 0.7100164 ],\n",
              "       [-0.0898555 ],\n",
              "       [-1.7395914 ],\n",
              "       [-0.8897274 ],\n",
              "       [-0.93971944],\n",
              "       [-0.9897114 ],\n",
              "       [-1.1396874 ],\n",
              "       [-1.4396393 ],\n",
              "       [-0.58977544],\n",
              "       [-0.9897114 ],\n",
              "       [ 1.7598484 ],\n",
              "       [ 0.16010447],\n",
              "       [-0.48979145],\n",
              "       [-1.2396713 ],\n",
              "       [-1.4896314 ],\n",
              "       [-1.2396713 ],\n",
              "       [-0.58977544],\n",
              "       [-0.0898555 ],\n",
              "       [-1.0896955 ]], dtype=float32)"
            ]
          },
          "metadata": {},
          "execution_count": 18
        }
      ]
    },
    {
      "cell_type": "code",
      "source": [
        "# ✅ Define a Lightweight GRU Model for Faster Training\n",
        "model = Sequential([\n",
        "    Input(shape=(X.shape[1], X.shape[2])),\n",
        "    GRU(128, return_sequences=True, activation='tanh'),\n",
        "    Dropout(0.2),\n",
        "    BatchNormalization(),\n",
        "    GRU(64, return_sequences=False, activation='tanh'),\n",
        "    Dropout(0.2),\n",
        "    BatchNormalization(),\n",
        "    Dense(1, dtype=tf.float32)  # Output layer (1 target)\n",
        "])\n",
        "\n"
      ],
      "metadata": {
        "id": "5D9msPJn88lP"
      },
      "execution_count": 19,
      "outputs": []
    },
    {
      "cell_type": "code",
      "source": [
        "# ✅ Compile Model with Adam Optimizer\n",
        "optimizer = Adam(learning_rate=0.0005, clipvalue=0.5)\n",
        "model.compile(optimizer=optimizer, loss= 'mae', metrics=['mse', 'mae'])\n"
      ],
      "metadata": {
        "id": "Phgn2DXM9Dlh"
      },
      "execution_count": 20,
      "outputs": []
    },
    {
      "cell_type": "code",
      "source": [
        "from tensorflow.keras.utils import plot_model"
      ],
      "metadata": {
        "id": "6WgmGCr59HTV"
      },
      "execution_count": 21,
      "outputs": []
    },
    {
      "cell_type": "code",
      "source": [
        "history = model.fit(\n",
        "    X_3Dtrain, y_train,\n",
        "    epochs=100,\n",
        "    batch_size=128,  # Larger batch for speed\n",
        "    validation_data=(X_3Dtest, y_test),\n",
        "    verbose=1,\n",
        "\n",
        ")\n",
        "\n"
      ],
      "metadata": {
        "colab": {
          "base_uri": "https://localhost:8080/"
        },
        "id": "BBwN8-P09LPk",
        "outputId": "d44463f5-8b78-413b-e4f6-075369ceda89"
      },
      "execution_count": 22,
      "outputs": [
        {
          "output_type": "stream",
          "name": "stdout",
          "text": [
            "Epoch 1/100\n",
            "\u001b[1m4/4\u001b[0m \u001b[32m━━━━━━━━━━━━━━━━━━━━\u001b[0m\u001b[37m\u001b[0m \u001b[1m9s\u001b[0m 502ms/step - loss: 1.1978 - mae: 1.1978 - mse: 2.3604 - val_loss: 0.6418 - val_mae: 0.6418 - val_mse: 0.6707\n",
            "Epoch 2/100\n",
            "\u001b[1m4/4\u001b[0m \u001b[32m━━━━━━━━━━━━━━━━━━━━\u001b[0m\u001b[37m\u001b[0m \u001b[1m2s\u001b[0m 416ms/step - loss: 1.0250 - mae: 1.0250 - mse: 1.7564 - val_loss: 0.6407 - val_mae: 0.6407 - val_mse: 0.6698\n",
            "Epoch 3/100\n",
            "\u001b[1m4/4\u001b[0m \u001b[32m━━━━━━━━━━━━━━━━━━━━\u001b[0m\u001b[37m\u001b[0m \u001b[1m3s\u001b[0m 488ms/step - loss: 0.9518 - mae: 0.9518 - mse: 1.5083 - val_loss: 0.6404 - val_mae: 0.6404 - val_mse: 0.6717\n",
            "Epoch 4/100\n",
            "\u001b[1m4/4\u001b[0m \u001b[32m━━━━━━━━━━━━━━━━━━━━\u001b[0m\u001b[37m\u001b[0m \u001b[1m2s\u001b[0m 460ms/step - loss: 0.8923 - mae: 0.8923 - mse: 1.3796 - val_loss: 0.6469 - val_mae: 0.6469 - val_mse: 0.6850\n",
            "Epoch 5/100\n",
            "\u001b[1m4/4\u001b[0m \u001b[32m━━━━━━━━━━━━━━━━━━━━\u001b[0m\u001b[37m\u001b[0m \u001b[1m1s\u001b[0m 365ms/step - loss: 0.9107 - mae: 0.9107 - mse: 1.4362 - val_loss: 0.6500 - val_mae: 0.6500 - val_mse: 0.6906\n",
            "Epoch 6/100\n",
            "\u001b[1m4/4\u001b[0m \u001b[32m━━━━━━━━━━━━━━━━━━━━\u001b[0m\u001b[37m\u001b[0m \u001b[1m1s\u001b[0m 366ms/step - loss: 0.9037 - mae: 0.9037 - mse: 1.4056 - val_loss: 0.6406 - val_mae: 0.6406 - val_mse: 0.6750\n",
            "Epoch 7/100\n",
            "\u001b[1m4/4\u001b[0m \u001b[32m━━━━━━━━━━━━━━━━━━━━\u001b[0m\u001b[37m\u001b[0m \u001b[1m1s\u001b[0m 362ms/step - loss: 0.8724 - mae: 0.8724 - mse: 1.3995 - val_loss: 0.6324 - val_mae: 0.6324 - val_mse: 0.6610\n",
            "Epoch 8/100\n",
            "\u001b[1m4/4\u001b[0m \u001b[32m━━━━━━━━━━━━━━━━━━━━\u001b[0m\u001b[37m\u001b[0m \u001b[1m3s\u001b[0m 367ms/step - loss: 0.9094 - mae: 0.9094 - mse: 1.4362 - val_loss: 0.6323 - val_mae: 0.6323 - val_mse: 0.6611\n",
            "Epoch 9/100\n",
            "\u001b[1m4/4\u001b[0m \u001b[32m━━━━━━━━━━━━━━━━━━━━\u001b[0m\u001b[37m\u001b[0m \u001b[1m3s\u001b[0m 462ms/step - loss: 0.8762 - mae: 0.8762 - mse: 1.3825 - val_loss: 0.6392 - val_mae: 0.6392 - val_mse: 0.6738\n",
            "Epoch 10/100\n",
            "\u001b[1m4/4\u001b[0m \u001b[32m━━━━━━━━━━━━━━━━━━━━\u001b[0m\u001b[37m\u001b[0m \u001b[1m2s\u001b[0m 506ms/step - loss: 0.8951 - mae: 0.8951 - mse: 1.4643 - val_loss: 0.6415 - val_mae: 0.6415 - val_mse: 0.6803\n",
            "Epoch 11/100\n",
            "\u001b[1m4/4\u001b[0m \u001b[32m━━━━━━━━━━━━━━━━━━━━\u001b[0m\u001b[37m\u001b[0m \u001b[1m2s\u001b[0m 416ms/step - loss: 0.8641 - mae: 0.8641 - mse: 1.3565 - val_loss: 0.6398 - val_mae: 0.6398 - val_mse: 0.6766\n",
            "Epoch 12/100\n",
            "\u001b[1m4/4\u001b[0m \u001b[32m━━━━━━━━━━━━━━━━━━━━\u001b[0m\u001b[37m\u001b[0m \u001b[1m1s\u001b[0m 368ms/step - loss: 0.8388 - mae: 0.8388 - mse: 1.2443 - val_loss: 0.6413 - val_mae: 0.6413 - val_mse: 0.6749\n",
            "Epoch 13/100\n",
            "\u001b[1m4/4\u001b[0m \u001b[32m━━━━━━━━━━━━━━━━━━━━\u001b[0m\u001b[37m\u001b[0m \u001b[1m3s\u001b[0m 362ms/step - loss: 0.9136 - mae: 0.9136 - mse: 1.3830 - val_loss: 0.6438 - val_mae: 0.6438 - val_mse: 0.6779\n",
            "Epoch 14/100\n",
            "\u001b[1m4/4\u001b[0m \u001b[32m━━━━━━━━━━━━━━━━━━━━\u001b[0m\u001b[37m\u001b[0m \u001b[1m1s\u001b[0m 363ms/step - loss: 0.8773 - mae: 0.8773 - mse: 1.3952 - val_loss: 0.6358 - val_mae: 0.6358 - val_mse: 0.6735\n",
            "Epoch 15/100\n",
            "\u001b[1m4/4\u001b[0m \u001b[32m━━━━━━━━━━━━━━━━━━━━\u001b[0m\u001b[37m\u001b[0m \u001b[1m1s\u001b[0m 363ms/step - loss: 0.8032 - mae: 0.8032 - mse: 1.1933 - val_loss: 0.6339 - val_mae: 0.6339 - val_mse: 0.6761\n",
            "Epoch 16/100\n",
            "\u001b[1m4/4\u001b[0m \u001b[32m━━━━━━━━━━━━━━━━━━━━\u001b[0m\u001b[37m\u001b[0m \u001b[1m3s\u001b[0m 497ms/step - loss: 0.8134 - mae: 0.8134 - mse: 1.2250 - val_loss: 0.6328 - val_mae: 0.6328 - val_mse: 0.6731\n",
            "Epoch 17/100\n",
            "\u001b[1m4/4\u001b[0m \u001b[32m━━━━━━━━━━━━━━━━━━━━\u001b[0m\u001b[37m\u001b[0m \u001b[1m2s\u001b[0m 375ms/step - loss: 0.8040 - mae: 0.8040 - mse: 1.2187 - val_loss: 0.6331 - val_mae: 0.6331 - val_mse: 0.6735\n",
            "Epoch 18/100\n",
            "\u001b[1m4/4\u001b[0m \u001b[32m━━━━━━━━━━━━━━━━━━━━\u001b[0m\u001b[37m\u001b[0m \u001b[1m1s\u001b[0m 368ms/step - loss: 0.7800 - mae: 0.7800 - mse: 1.1162 - val_loss: 0.6382 - val_mae: 0.6382 - val_mse: 0.6751\n",
            "Epoch 19/100\n",
            "\u001b[1m4/4\u001b[0m \u001b[32m━━━━━━━━━━━━━━━━━━━━\u001b[0m\u001b[37m\u001b[0m \u001b[1m3s\u001b[0m 367ms/step - loss: 0.8459 - mae: 0.8459 - mse: 1.3341 - val_loss: 0.6410 - val_mae: 0.6410 - val_mse: 0.6756\n",
            "Epoch 20/100\n",
            "\u001b[1m4/4\u001b[0m \u001b[32m━━━━━━━━━━━━━━━━━━━━\u001b[0m\u001b[37m\u001b[0m \u001b[1m3s\u001b[0m 473ms/step - loss: 0.8301 - mae: 0.8301 - mse: 1.2450 - val_loss: 0.6393 - val_mae: 0.6393 - val_mse: 0.6756\n",
            "Epoch 21/100\n",
            "\u001b[1m4/4\u001b[0m \u001b[32m━━━━━━━━━━━━━━━━━━━━\u001b[0m\u001b[37m\u001b[0m \u001b[1m2s\u001b[0m 419ms/step - loss: 0.8301 - mae: 0.8301 - mse: 1.2969 - val_loss: 0.6387 - val_mae: 0.6387 - val_mse: 0.6846\n",
            "Epoch 22/100\n",
            "\u001b[1m4/4\u001b[0m \u001b[32m━━━━━━━━━━━━━━━━━━━━\u001b[0m\u001b[37m\u001b[0m \u001b[1m3s\u001b[0m 417ms/step - loss: 0.7843 - mae: 0.7843 - mse: 1.1443 - val_loss: 0.6456 - val_mae: 0.6456 - val_mse: 0.6969\n",
            "Epoch 23/100\n",
            "\u001b[1m4/4\u001b[0m \u001b[32m━━━━━━━━━━━━━━━━━━━━\u001b[0m\u001b[37m\u001b[0m \u001b[1m2s\u001b[0m 415ms/step - loss: 0.8125 - mae: 0.8125 - mse: 1.1991 - val_loss: 0.6511 - val_mae: 0.6511 - val_mse: 0.7009\n",
            "Epoch 24/100\n",
            "\u001b[1m4/4\u001b[0m \u001b[32m━━━━━━━━━━━━━━━━━━━━\u001b[0m\u001b[37m\u001b[0m \u001b[1m2s\u001b[0m 360ms/step - loss: 0.7877 - mae: 0.7877 - mse: 1.1968 - val_loss: 0.6434 - val_mae: 0.6434 - val_mse: 0.6842\n",
            "Epoch 25/100\n",
            "\u001b[1m4/4\u001b[0m \u001b[32m━━━━━━━━━━━━━━━━━━━━\u001b[0m\u001b[37m\u001b[0m \u001b[1m3s\u001b[0m 366ms/step - loss: 0.7935 - mae: 0.7935 - mse: 1.1401 - val_loss: 0.6348 - val_mae: 0.6348 - val_mse: 0.6720\n",
            "Epoch 26/100\n",
            "\u001b[1m4/4\u001b[0m \u001b[32m━━━━━━━━━━━━━━━━━━━━\u001b[0m\u001b[37m\u001b[0m \u001b[1m3s\u001b[0m 419ms/step - loss: 0.7942 - mae: 0.7942 - mse: 1.1503 - val_loss: 0.6298 - val_mae: 0.6298 - val_mse: 0.6631\n",
            "Epoch 27/100\n",
            "\u001b[1m4/4\u001b[0m \u001b[32m━━━━━━━━━━━━━━━━━━━━\u001b[0m\u001b[37m\u001b[0m \u001b[1m3s\u001b[0m 482ms/step - loss: 0.8098 - mae: 0.8098 - mse: 1.1292 - val_loss: 0.6322 - val_mae: 0.6322 - val_mse: 0.6616\n",
            "Epoch 28/100\n",
            "\u001b[1m4/4\u001b[0m \u001b[32m━━━━━━━━━━━━━━━━━━━━\u001b[0m\u001b[37m\u001b[0m \u001b[1m1s\u001b[0m 364ms/step - loss: 0.7923 - mae: 0.7923 - mse: 1.1013 - val_loss: 0.6377 - val_mae: 0.6377 - val_mse: 0.6675\n",
            "Epoch 29/100\n",
            "\u001b[1m4/4\u001b[0m \u001b[32m━━━━━━━━━━━━━━━━━━━━\u001b[0m\u001b[37m\u001b[0m \u001b[1m3s\u001b[0m 364ms/step - loss: 0.8014 - mae: 0.8014 - mse: 1.1832 - val_loss: 0.6408 - val_mae: 0.6408 - val_mse: 0.6698\n",
            "Epoch 30/100\n",
            "\u001b[1m4/4\u001b[0m \u001b[32m━━━━━━━━━━━━━━━━━━━━\u001b[0m\u001b[37m\u001b[0m \u001b[1m1s\u001b[0m 366ms/step - loss: 0.7538 - mae: 0.7538 - mse: 1.0407 - val_loss: 0.6413 - val_mae: 0.6413 - val_mse: 0.6702\n",
            "Epoch 31/100\n",
            "\u001b[1m4/4\u001b[0m \u001b[32m━━━━━━━━━━━━━━━━━━━━\u001b[0m\u001b[37m\u001b[0m \u001b[1m3s\u001b[0m 364ms/step - loss: 0.7947 - mae: 0.7947 - mse: 1.1436 - val_loss: 0.6417 - val_mae: 0.6417 - val_mse: 0.6740\n",
            "Epoch 32/100\n",
            "\u001b[1m4/4\u001b[0m \u001b[32m━━━━━━━━━━━━━━━━━━━━\u001b[0m\u001b[37m\u001b[0m \u001b[1m3s\u001b[0m 430ms/step - loss: 0.7647 - mae: 0.7647 - mse: 1.0239 - val_loss: 0.6359 - val_mae: 0.6359 - val_mse: 0.6656\n",
            "Epoch 33/100\n",
            "\u001b[1m4/4\u001b[0m \u001b[32m━━━━━━━━━━━━━━━━━━━━\u001b[0m\u001b[37m\u001b[0m \u001b[1m3s\u001b[0m 409ms/step - loss: 0.7871 - mae: 0.7871 - mse: 1.1190 - val_loss: 0.6332 - val_mae: 0.6332 - val_mse: 0.6587\n",
            "Epoch 34/100\n",
            "\u001b[1m4/4\u001b[0m \u001b[32m━━━━━━━━━━━━━━━━━━━━\u001b[0m\u001b[37m\u001b[0m \u001b[1m1s\u001b[0m 362ms/step - loss: 0.7916 - mae: 0.7916 - mse: 1.1651 - val_loss: 0.6346 - val_mae: 0.6346 - val_mse: 0.6584\n",
            "Epoch 35/100\n",
            "\u001b[1m4/4\u001b[0m \u001b[32m━━━━━━━━━━━━━━━━━━━━\u001b[0m\u001b[37m\u001b[0m \u001b[1m1s\u001b[0m 362ms/step - loss: 0.8230 - mae: 0.8230 - mse: 1.1984 - val_loss: 0.6390 - val_mae: 0.6390 - val_mse: 0.6684\n",
            "Epoch 36/100\n",
            "\u001b[1m4/4\u001b[0m \u001b[32m━━━━━━━━━━━━━━━━━━━━\u001b[0m\u001b[37m\u001b[0m \u001b[1m1s\u001b[0m 364ms/step - loss: 0.7738 - mae: 0.7738 - mse: 1.1041 - val_loss: 0.6437 - val_mae: 0.6437 - val_mse: 0.6763\n",
            "Epoch 37/100\n",
            "\u001b[1m4/4\u001b[0m \u001b[32m━━━━━━━━━━━━━━━━━━━━\u001b[0m\u001b[37m\u001b[0m \u001b[1m3s\u001b[0m 364ms/step - loss: 0.7268 - mae: 0.7268 - mse: 0.9835 - val_loss: 0.6387 - val_mae: 0.6387 - val_mse: 0.6708\n",
            "Epoch 38/100\n",
            "\u001b[1m4/4\u001b[0m \u001b[32m━━━━━━━━━━━━━━━━━━━━\u001b[0m\u001b[37m\u001b[0m \u001b[1m3s\u001b[0m 400ms/step - loss: 0.7713 - mae: 0.7713 - mse: 1.0821 - val_loss: 0.6328 - val_mae: 0.6328 - val_mse: 0.6656\n",
            "Epoch 39/100\n",
            "\u001b[1m4/4\u001b[0m \u001b[32m━━━━━━━━━━━━━━━━━━━━\u001b[0m\u001b[37m\u001b[0m \u001b[1m3s\u001b[0m 414ms/step - loss: 0.7504 - mae: 0.7504 - mse: 1.0851 - val_loss: 0.6294 - val_mae: 0.6294 - val_mse: 0.6621\n",
            "Epoch 40/100\n",
            "\u001b[1m4/4\u001b[0m \u001b[32m━━━━━━━━━━━━━━━━━━━━\u001b[0m\u001b[37m\u001b[0m \u001b[1m2s\u001b[0m 365ms/step - loss: 0.7509 - mae: 0.7509 - mse: 1.0910 - val_loss: 0.6332 - val_mae: 0.6332 - val_mse: 0.6688\n",
            "Epoch 41/100\n",
            "\u001b[1m4/4\u001b[0m \u001b[32m━━━━━━━━━━━━━━━━━━━━\u001b[0m\u001b[37m\u001b[0m \u001b[1m3s\u001b[0m 363ms/step - loss: 0.7765 - mae: 0.7765 - mse: 1.1040 - val_loss: 0.6418 - val_mae: 0.6418 - val_mse: 0.6714\n",
            "Epoch 42/100\n",
            "\u001b[1m4/4\u001b[0m \u001b[32m━━━━━━━━━━━━━━━━━━━━\u001b[0m\u001b[37m\u001b[0m \u001b[1m2s\u001b[0m 414ms/step - loss: 0.7806 - mae: 0.7806 - mse: 1.0759 - val_loss: 0.6461 - val_mae: 0.6461 - val_mse: 0.6666\n",
            "Epoch 43/100\n",
            "\u001b[1m4/4\u001b[0m \u001b[32m━━━━━━━━━━━━━━━━━━━━\u001b[0m\u001b[37m\u001b[0m \u001b[1m3s\u001b[0m 426ms/step - loss: 0.7717 - mae: 0.7717 - mse: 1.1883 - val_loss: 0.6468 - val_mae: 0.6468 - val_mse: 0.6643\n",
            "Epoch 44/100\n",
            "\u001b[1m4/4\u001b[0m \u001b[32m━━━━━━━━━━━━━━━━━━━━\u001b[0m\u001b[37m\u001b[0m \u001b[1m2s\u001b[0m 510ms/step - loss: 0.7784 - mae: 0.7784 - mse: 1.1707 - val_loss: 0.6379 - val_mae: 0.6379 - val_mse: 0.6549\n",
            "Epoch 45/100\n",
            "\u001b[1m4/4\u001b[0m \u001b[32m━━━━━━━━━━━━━━━━━━━━\u001b[0m\u001b[37m\u001b[0m \u001b[1m2s\u001b[0m 365ms/step - loss: 0.7483 - mae: 0.7483 - mse: 1.1383 - val_loss: 0.6311 - val_mae: 0.6311 - val_mse: 0.6562\n",
            "Epoch 46/100\n",
            "\u001b[1m4/4\u001b[0m \u001b[32m━━━━━━━━━━━━━━━━━━━━\u001b[0m\u001b[37m\u001b[0m \u001b[1m2s\u001b[0m 419ms/step - loss: 0.7536 - mae: 0.7536 - mse: 1.0332 - val_loss: 0.6379 - val_mae: 0.6379 - val_mse: 0.6845\n",
            "Epoch 47/100\n",
            "\u001b[1m4/4\u001b[0m \u001b[32m━━━━━━━━━━━━━━━━━━━━\u001b[0m\u001b[37m\u001b[0m \u001b[1m1s\u001b[0m 368ms/step - loss: 0.7825 - mae: 0.7825 - mse: 1.1839 - val_loss: 0.6411 - val_mae: 0.6411 - val_mse: 0.6954\n",
            "Epoch 48/100\n",
            "\u001b[1m4/4\u001b[0m \u001b[32m━━━━━━━━━━━━━━━━━━━━\u001b[0m\u001b[37m\u001b[0m \u001b[1m2s\u001b[0m 422ms/step - loss: 0.7795 - mae: 0.7795 - mse: 1.1589 - val_loss: 0.6405 - val_mae: 0.6405 - val_mse: 0.6805\n",
            "Epoch 49/100\n",
            "\u001b[1m4/4\u001b[0m \u001b[32m━━━━━━━━━━━━━━━━━━━━\u001b[0m\u001b[37m\u001b[0m \u001b[1m1s\u001b[0m 366ms/step - loss: 0.7152 - mae: 0.7152 - mse: 0.9852 - val_loss: 0.6476 - val_mae: 0.6476 - val_mse: 0.6771\n",
            "Epoch 50/100\n",
            "\u001b[1m4/4\u001b[0m \u001b[32m━━━━━━━━━━━━━━━━━━━━\u001b[0m\u001b[37m\u001b[0m \u001b[1m1s\u001b[0m 367ms/step - loss: 0.7589 - mae: 0.7589 - mse: 1.0916 - val_loss: 0.6482 - val_mae: 0.6482 - val_mse: 0.6668\n",
            "Epoch 51/100\n",
            "\u001b[1m4/4\u001b[0m \u001b[32m━━━━━━━━━━━━━━━━━━━━\u001b[0m\u001b[37m\u001b[0m \u001b[1m3s\u001b[0m 469ms/step - loss: 0.7338 - mae: 0.7338 - mse: 0.9786 - val_loss: 0.6427 - val_mae: 0.6427 - val_mse: 0.6574\n",
            "Epoch 52/100\n",
            "\u001b[1m4/4\u001b[0m \u001b[32m━━━━━━━━━━━━━━━━━━━━\u001b[0m\u001b[37m\u001b[0m \u001b[1m2s\u001b[0m 422ms/step - loss: 0.7776 - mae: 0.7776 - mse: 1.0674 - val_loss: 0.6381 - val_mae: 0.6381 - val_mse: 0.6638\n",
            "Epoch 53/100\n",
            "\u001b[1m4/4\u001b[0m \u001b[32m━━━━━━━━━━━━━━━━━━━━\u001b[0m\u001b[37m\u001b[0m \u001b[1m2s\u001b[0m 368ms/step - loss: 0.7095 - mae: 0.7095 - mse: 0.8983 - val_loss: 0.6402 - val_mae: 0.6402 - val_mse: 0.6767\n",
            "Epoch 54/100\n",
            "\u001b[1m4/4\u001b[0m \u001b[32m━━━━━━━━━━━━━━━━━━━━\u001b[0m\u001b[37m\u001b[0m \u001b[1m3s\u001b[0m 368ms/step - loss: 0.7324 - mae: 0.7324 - mse: 1.0481 - val_loss: 0.6424 - val_mae: 0.6424 - val_mse: 0.6815\n",
            "Epoch 55/100\n",
            "\u001b[1m4/4\u001b[0m \u001b[32m━━━━━━━━━━━━━━━━━━━━\u001b[0m\u001b[37m\u001b[0m \u001b[1m1s\u001b[0m 369ms/step - loss: 0.7269 - mae: 0.7269 - mse: 0.9891 - val_loss: 0.6376 - val_mae: 0.6376 - val_mse: 0.6767\n",
            "Epoch 56/100\n",
            "\u001b[1m4/4\u001b[0m \u001b[32m━━━━━━━━━━━━━━━━━━━━\u001b[0m\u001b[37m\u001b[0m \u001b[1m3s\u001b[0m 367ms/step - loss: 0.7286 - mae: 0.7286 - mse: 0.9620 - val_loss: 0.6330 - val_mae: 0.6330 - val_mse: 0.6687\n",
            "Epoch 57/100\n",
            "\u001b[1m4/4\u001b[0m \u001b[32m━━━━━━━━━━━━━━━━━━━━\u001b[0m\u001b[37m\u001b[0m \u001b[1m3s\u001b[0m 519ms/step - loss: 0.6986 - mae: 0.6986 - mse: 0.9430 - val_loss: 0.6378 - val_mae: 0.6378 - val_mse: 0.6707\n",
            "Epoch 58/100\n",
            "\u001b[1m4/4\u001b[0m \u001b[32m━━━━━━━━━━━━━━━━━━━━\u001b[0m\u001b[37m\u001b[0m \u001b[1m1s\u001b[0m 365ms/step - loss: 0.7591 - mae: 0.7591 - mse: 1.0887 - val_loss: 0.6424 - val_mae: 0.6424 - val_mse: 0.6835\n",
            "Epoch 59/100\n",
            "\u001b[1m4/4\u001b[0m \u001b[32m━━━━━━━━━━━━━━━━━━━━\u001b[0m\u001b[37m\u001b[0m \u001b[1m3s\u001b[0m 364ms/step - loss: 0.7811 - mae: 0.7811 - mse: 1.1506 - val_loss: 0.6448 - val_mae: 0.6448 - val_mse: 0.6929\n",
            "Epoch 60/100\n",
            "\u001b[1m4/4\u001b[0m \u001b[32m━━━━━━━━━━━━━━━━━━━━\u001b[0m\u001b[37m\u001b[0m \u001b[1m3s\u001b[0m 367ms/step - loss: 0.6864 - mae: 0.6864 - mse: 0.9224 - val_loss: 0.6418 - val_mae: 0.6418 - val_mse: 0.6882\n",
            "Epoch 61/100\n",
            "\u001b[1m4/4\u001b[0m \u001b[32m━━━━━━━━━━━━━━━━━━━━\u001b[0m\u001b[37m\u001b[0m \u001b[1m1s\u001b[0m 376ms/step - loss: 0.6762 - mae: 0.6762 - mse: 0.9157 - val_loss: 0.6350 - val_mae: 0.6350 - val_mse: 0.6796\n",
            "Epoch 62/100\n",
            "\u001b[1m4/4\u001b[0m \u001b[32m━━━━━━━━━━━━━━━━━━━━\u001b[0m\u001b[37m\u001b[0m \u001b[1m1s\u001b[0m 367ms/step - loss: 0.7435 - mae: 0.7435 - mse: 0.9600 - val_loss: 0.6259 - val_mae: 0.6259 - val_mse: 0.6648\n",
            "Epoch 63/100\n",
            "\u001b[1m4/4\u001b[0m \u001b[32m━━━━━━━━━━━━━━━━━━━━\u001b[0m\u001b[37m\u001b[0m \u001b[1m2s\u001b[0m 458ms/step - loss: 0.7118 - mae: 0.7118 - mse: 0.9940 - val_loss: 0.6268 - val_mae: 0.6268 - val_mse: 0.6612\n",
            "Epoch 64/100\n",
            "\u001b[1m4/4\u001b[0m \u001b[32m━━━━━━━━━━━━━━━━━━━━\u001b[0m\u001b[37m\u001b[0m \u001b[1m2s\u001b[0m 511ms/step - loss: 0.7252 - mae: 0.7252 - mse: 0.9967 - val_loss: 0.6285 - val_mae: 0.6285 - val_mse: 0.6674\n",
            "Epoch 65/100\n",
            "\u001b[1m4/4\u001b[0m \u001b[32m━━━━━━━━━━━━━━━━━━━━\u001b[0m\u001b[37m\u001b[0m \u001b[1m2s\u001b[0m 427ms/step - loss: 0.7035 - mae: 0.7035 - mse: 0.9283 - val_loss: 0.6291 - val_mae: 0.6291 - val_mse: 0.6729\n",
            "Epoch 66/100\n",
            "\u001b[1m4/4\u001b[0m \u001b[32m━━━━━━━━━━━━━━━━━━━━\u001b[0m\u001b[37m\u001b[0m \u001b[1m2s\u001b[0m 374ms/step - loss: 0.6787 - mae: 0.6787 - mse: 0.8870 - val_loss: 0.6306 - val_mae: 0.6306 - val_mse: 0.6844\n",
            "Epoch 67/100\n",
            "\u001b[1m4/4\u001b[0m \u001b[32m━━━━━━━━━━━━━━━━━━━━\u001b[0m\u001b[37m\u001b[0m \u001b[1m3s\u001b[0m 368ms/step - loss: 0.6779 - mae: 0.6779 - mse: 0.8789 - val_loss: 0.6355 - val_mae: 0.6355 - val_mse: 0.6889\n",
            "Epoch 68/100\n",
            "\u001b[1m4/4\u001b[0m \u001b[32m━━━━━━━━━━━━━━━━━━━━\u001b[0m\u001b[37m\u001b[0m \u001b[1m3s\u001b[0m 372ms/step - loss: 0.7004 - mae: 0.7004 - mse: 0.8775 - val_loss: 0.6415 - val_mae: 0.6415 - val_mse: 0.6937\n",
            "Epoch 69/100\n",
            "\u001b[1m4/4\u001b[0m \u001b[32m━━━━━━━━━━━━━━━━━━━━\u001b[0m\u001b[37m\u001b[0m \u001b[1m3s\u001b[0m 509ms/step - loss: 0.7326 - mae: 0.7326 - mse: 1.0460 - val_loss: 0.6540 - val_mae: 0.6540 - val_mse: 0.7076\n",
            "Epoch 70/100\n",
            "\u001b[1m4/4\u001b[0m \u001b[32m━━━━━━━━━━━━━━━━━━━━\u001b[0m\u001b[37m\u001b[0m \u001b[1m2s\u001b[0m 364ms/step - loss: 0.7024 - mae: 0.7024 - mse: 0.9333 - val_loss: 0.6571 - val_mae: 0.6571 - val_mse: 0.7196\n",
            "Epoch 71/100\n",
            "\u001b[1m4/4\u001b[0m \u001b[32m━━━━━━━━━━━━━━━━━━━━\u001b[0m\u001b[37m\u001b[0m \u001b[1m3s\u001b[0m 365ms/step - loss: 0.7626 - mae: 0.7626 - mse: 1.0760 - val_loss: 0.6463 - val_mae: 0.6463 - val_mse: 0.7033\n",
            "Epoch 72/100\n",
            "\u001b[1m4/4\u001b[0m \u001b[32m━━━━━━━━━━━━━━━━━━━━\u001b[0m\u001b[37m\u001b[0m \u001b[1m3s\u001b[0m 365ms/step - loss: 0.6667 - mae: 0.6667 - mse: 0.8469 - val_loss: 0.6350 - val_mae: 0.6350 - val_mse: 0.6933\n",
            "Epoch 73/100\n",
            "\u001b[1m4/4\u001b[0m \u001b[32m━━━━━━━━━━━━━━━━━━━━\u001b[0m\u001b[37m\u001b[0m \u001b[1m3s\u001b[0m 361ms/step - loss: 0.7057 - mae: 0.7057 - mse: 1.0117 - val_loss: 0.6378 - val_mae: 0.6378 - val_mse: 0.6910\n",
            "Epoch 74/100\n",
            "\u001b[1m4/4\u001b[0m \u001b[32m━━━━━━━━━━━━━━━━━━━━\u001b[0m\u001b[37m\u001b[0m \u001b[1m2s\u001b[0m 450ms/step - loss: 0.7319 - mae: 0.7319 - mse: 0.9701 - val_loss: 0.6485 - val_mae: 0.6485 - val_mse: 0.7009\n",
            "Epoch 75/100\n",
            "\u001b[1m4/4\u001b[0m \u001b[32m━━━━━━━━━━━━━━━━━━━━\u001b[0m\u001b[37m\u001b[0m \u001b[1m2s\u001b[0m 485ms/step - loss: 0.6844 - mae: 0.6844 - mse: 0.8163 - val_loss: 0.6550 - val_mae: 0.6550 - val_mse: 0.7143\n",
            "Epoch 76/100\n",
            "\u001b[1m4/4\u001b[0m \u001b[32m━━━━━━━━━━━━━━━━━━━━\u001b[0m\u001b[37m\u001b[0m \u001b[1m2s\u001b[0m 423ms/step - loss: 0.7405 - mae: 0.7405 - mse: 1.0199 - val_loss: 0.6541 - val_mae: 0.6541 - val_mse: 0.7397\n",
            "Epoch 77/100\n",
            "\u001b[1m4/4\u001b[0m \u001b[32m━━━━━━━━━━━━━━━━━━━━\u001b[0m\u001b[37m\u001b[0m \u001b[1m2s\u001b[0m 368ms/step - loss: 0.7204 - mae: 0.7204 - mse: 0.9479 - val_loss: 0.6631 - val_mae: 0.6631 - val_mse: 0.7638\n",
            "Epoch 78/100\n",
            "\u001b[1m4/4\u001b[0m \u001b[32m━━━━━━━━━━━━━━━━━━━━\u001b[0m\u001b[37m\u001b[0m \u001b[1m3s\u001b[0m 368ms/step - loss: 0.7306 - mae: 0.7306 - mse: 0.9985 - val_loss: 0.6532 - val_mae: 0.6532 - val_mse: 0.7334\n",
            "Epoch 79/100\n",
            "\u001b[1m4/4\u001b[0m \u001b[32m━━━━━━━━━━━━━━━━━━━━\u001b[0m\u001b[37m\u001b[0m \u001b[1m1s\u001b[0m 365ms/step - loss: 0.6746 - mae: 0.6746 - mse: 0.8665 - val_loss: 0.6513 - val_mae: 0.6513 - val_mse: 0.7143\n",
            "Epoch 80/100\n",
            "\u001b[1m4/4\u001b[0m \u001b[32m━━━━━━━━━━━━━━━━━━━━\u001b[0m\u001b[37m\u001b[0m \u001b[1m2s\u001b[0m 418ms/step - loss: 0.6611 - mae: 0.6611 - mse: 0.9576 - val_loss: 0.6536 - val_mae: 0.6536 - val_mse: 0.7092\n",
            "Epoch 81/100\n",
            "\u001b[1m4/4\u001b[0m \u001b[32m━━━━━━━━━━━━━━━━━━━━\u001b[0m\u001b[37m\u001b[0m \u001b[1m3s\u001b[0m 425ms/step - loss: 0.6839 - mae: 0.6839 - mse: 0.8627 - val_loss: 0.6519 - val_mae: 0.6519 - val_mse: 0.7104\n",
            "Epoch 82/100\n",
            "\u001b[1m4/4\u001b[0m \u001b[32m━━━━━━━━━━━━━━━━━━━━\u001b[0m\u001b[37m\u001b[0m \u001b[1m1s\u001b[0m 368ms/step - loss: 0.6723 - mae: 0.6723 - mse: 0.8750 - val_loss: 0.6528 - val_mae: 0.6528 - val_mse: 0.7139\n",
            "Epoch 83/100\n",
            "\u001b[1m4/4\u001b[0m \u001b[32m━━━━━━━━━━━━━━━━━━━━\u001b[0m\u001b[37m\u001b[0m \u001b[1m3s\u001b[0m 363ms/step - loss: 0.7106 - mae: 0.7106 - mse: 1.0066 - val_loss: 0.6521 - val_mae: 0.6521 - val_mse: 0.7184\n",
            "Epoch 84/100\n",
            "\u001b[1m4/4\u001b[0m \u001b[32m━━━━━━━━━━━━━━━━━━━━\u001b[0m\u001b[37m\u001b[0m \u001b[1m3s\u001b[0m 366ms/step - loss: 0.6530 - mae: 0.6530 - mse: 0.8099 - val_loss: 0.6494 - val_mae: 0.6494 - val_mse: 0.7245\n",
            "Epoch 85/100\n",
            "\u001b[1m4/4\u001b[0m \u001b[32m━━━━━━━━━━━━━━━━━━━━\u001b[0m\u001b[37m\u001b[0m \u001b[1m1s\u001b[0m 366ms/step - loss: 0.6656 - mae: 0.6656 - mse: 0.8883 - val_loss: 0.6503 - val_mae: 0.6503 - val_mse: 0.7320\n",
            "Epoch 86/100\n",
            "\u001b[1m4/4\u001b[0m \u001b[32m━━━━━━━━━━━━━━━━━━━━\u001b[0m\u001b[37m\u001b[0m \u001b[1m3s\u001b[0m 469ms/step - loss: 0.6553 - mae: 0.6553 - mse: 0.8702 - val_loss: 0.6530 - val_mae: 0.6530 - val_mse: 0.7346\n",
            "Epoch 87/100\n",
            "\u001b[1m4/4\u001b[0m \u001b[32m━━━━━━━━━━━━━━━━━━━━\u001b[0m\u001b[37m\u001b[0m \u001b[1m2s\u001b[0m 458ms/step - loss: 0.6597 - mae: 0.6597 - mse: 0.9076 - val_loss: 0.6567 - val_mae: 0.6567 - val_mse: 0.7429\n",
            "Epoch 88/100\n",
            "\u001b[1m4/4\u001b[0m \u001b[32m━━━━━━━━━━━━━━━━━━━━\u001b[0m\u001b[37m\u001b[0m \u001b[1m1s\u001b[0m 366ms/step - loss: 0.6509 - mae: 0.6509 - mse: 0.8453 - val_loss: 0.6659 - val_mae: 0.6659 - val_mse: 0.7621\n",
            "Epoch 89/100\n",
            "\u001b[1m4/4\u001b[0m \u001b[32m━━━━━━━━━━━━━━━━━━━━\u001b[0m\u001b[37m\u001b[0m \u001b[1m1s\u001b[0m 361ms/step - loss: 0.6650 - mae: 0.6650 - mse: 0.8409 - val_loss: 0.6709 - val_mae: 0.6709 - val_mse: 0.7793\n",
            "Epoch 90/100\n",
            "\u001b[1m4/4\u001b[0m \u001b[32m━━━━━━━━━━━━━━━━━━━━\u001b[0m\u001b[37m\u001b[0m \u001b[1m1s\u001b[0m 364ms/step - loss: 0.6348 - mae: 0.6348 - mse: 0.7727 - val_loss: 0.6688 - val_mae: 0.6688 - val_mse: 0.7907\n",
            "Epoch 91/100\n",
            "\u001b[1m4/4\u001b[0m \u001b[32m━━━━━━━━━━━━━━━━━━━━\u001b[0m\u001b[37m\u001b[0m \u001b[1m1s\u001b[0m 366ms/step - loss: 0.6558 - mae: 0.6558 - mse: 0.8594 - val_loss: 0.6699 - val_mae: 0.6699 - val_mse: 0.7940\n",
            "Epoch 92/100\n",
            "\u001b[1m4/4\u001b[0m \u001b[32m━━━━━━━━━━━━━━━━━━━━\u001b[0m\u001b[37m\u001b[0m \u001b[1m3s\u001b[0m 367ms/step - loss: 0.6591 - mae: 0.6591 - mse: 0.8627 - val_loss: 0.6658 - val_mae: 0.6658 - val_mse: 0.7772\n",
            "Epoch 93/100\n",
            "\u001b[1m4/4\u001b[0m \u001b[32m━━━━━━━━━━━━━━━━━━━━\u001b[0m\u001b[37m\u001b[0m \u001b[1m3s\u001b[0m 507ms/step - loss: 0.6506 - mae: 0.6506 - mse: 0.8840 - val_loss: 0.6606 - val_mae: 0.6606 - val_mse: 0.7548\n",
            "Epoch 94/100\n",
            "\u001b[1m4/4\u001b[0m \u001b[32m━━━━━━━━━━━━━━━━━━━━\u001b[0m\u001b[37m\u001b[0m \u001b[1m2s\u001b[0m 367ms/step - loss: 0.6845 - mae: 0.6845 - mse: 0.9465 - val_loss: 0.6591 - val_mae: 0.6591 - val_mse: 0.7476\n",
            "Epoch 95/100\n",
            "\u001b[1m4/4\u001b[0m \u001b[32m━━━━━━━━━━━━━━━━━━━━\u001b[0m\u001b[37m\u001b[0m \u001b[1m2s\u001b[0m 362ms/step - loss: 0.6653 - mae: 0.6653 - mse: 0.8417 - val_loss: 0.6599 - val_mae: 0.6599 - val_mse: 0.7519\n",
            "Epoch 96/100\n",
            "\u001b[1m4/4\u001b[0m \u001b[32m━━━━━━━━━━━━━━━━━━━━\u001b[0m\u001b[37m\u001b[0m \u001b[1m1s\u001b[0m 366ms/step - loss: 0.6754 - mae: 0.6754 - mse: 0.8451 - val_loss: 0.6676 - val_mae: 0.6676 - val_mse: 0.7825\n",
            "Epoch 97/100\n",
            "\u001b[1m4/4\u001b[0m \u001b[32m━━━━━━━━━━━━━━━━━━━━\u001b[0m\u001b[37m\u001b[0m \u001b[1m1s\u001b[0m 368ms/step - loss: 0.6583 - mae: 0.6583 - mse: 0.7707 - val_loss: 0.6852 - val_mae: 0.6852 - val_mse: 0.8186\n",
            "Epoch 98/100\n",
            "\u001b[1m4/4\u001b[0m \u001b[32m━━━━━━━━━━━━━━━━━━━━\u001b[0m\u001b[37m\u001b[0m \u001b[1m1s\u001b[0m 370ms/step - loss: 0.6904 - mae: 0.6904 - mse: 0.9130 - val_loss: 0.7015 - val_mae: 0.7015 - val_mse: 0.8378\n",
            "Epoch 99/100\n",
            "\u001b[1m4/4\u001b[0m \u001b[32m━━━━━━━━━━━━━━━━━━━━\u001b[0m\u001b[37m\u001b[0m \u001b[1m1s\u001b[0m 366ms/step - loss: 0.6642 - mae: 0.6642 - mse: 0.8885 - val_loss: 0.6997 - val_mae: 0.6997 - val_mse: 0.8191\n",
            "Epoch 100/100\n",
            "\u001b[1m4/4\u001b[0m \u001b[32m━━━━━━━━━━━━━━━━━━━━\u001b[0m\u001b[37m\u001b[0m \u001b[1m2s\u001b[0m 462ms/step - loss: 0.6764 - mae: 0.6764 - mse: 0.8404 - val_loss: 0.6821 - val_mae: 0.6821 - val_mse: 0.7828\n"
          ]
        }
      ]
    },
    {
      "cell_type": "code",
      "source": [
        "# ✅ Predict on Test Data\n",
        "y_pred = model.predict(X_3Dtest)\n"
      ],
      "metadata": {
        "colab": {
          "base_uri": "https://localhost:8080/"
        },
        "id": "5hQLJTXP-8lZ",
        "outputId": "f80127f8-7ac1-45b0-dd63-dd0f3f41c2d1"
      },
      "execution_count": 23,
      "outputs": [
        {
          "output_type": "stream",
          "name": "stdout",
          "text": [
            "\u001b[1m4/4\u001b[0m \u001b[32m━━━━━━━━━━━━━━━━━━━━\u001b[0m\u001b[37m\u001b[0m \u001b[1m1s\u001b[0m 176ms/step\n"
          ]
        }
      ]
    },
    {
      "cell_type": "code",
      "source": [
        "# ✅ Inverse Transform Predictions\n",
        "y_pred_original = target_scaler.inverse_transform(y_pred)\n",
        "y_test_original = target_scaler.inverse_transform(y_test)\n"
      ],
      "metadata": {
        "id": "LaWAezzO_DGD"
      },
      "execution_count": 24,
      "outputs": []
    },
    {
      "cell_type": "code",
      "source": [
        "# ✅ Compute MSE and MAE (Original Scale)\n",
        "final_mse = mean_squared_error(y_test_original, y_pred_original)\n",
        "final_mae = mean_absolute_error(y_test_original, y_pred_original)\n"
      ],
      "metadata": {
        "id": "1YSKK-xH_Hjw"
      },
      "execution_count": 25,
      "outputs": []
    },
    {
      "cell_type": "code",
      "source": [
        "print(f\"✅ Final MSE: {final_mse:.4f}\")\n",
        "print(f\"✅ Final MAE: {final_mae:.4f}\")\n"
      ],
      "metadata": {
        "colab": {
          "base_uri": "https://localhost:8080/"
        },
        "id": "pjXaRemJ_MNB",
        "outputId": "ef59ed05-e168-4363-e0be-ce42084e4e5e"
      },
      "execution_count": 26,
      "outputs": [
        {
          "output_type": "stream",
          "name": "stdout",
          "text": [
            "✅ Final MSE: 313.2224\n",
            "✅ Final MAE: 13.6436\n"
          ]
        }
      ]
    },
    {
      "cell_type": "code",
      "source": [
        "y_pred_original"
      ],
      "metadata": {
        "colab": {
          "base_uri": "https://localhost:8080/"
        },
        "id": "bC1jpOIB_PPf",
        "outputId": "04853638-d6e6-4111-f1ed-294bd4194a83"
      },
      "execution_count": 27,
      "outputs": [
        {
          "output_type": "execute_result",
          "data": {
            "text/plain": [
              "array([[119.724464],\n",
              "       [130.51898 ],\n",
              "       [125.19095 ],\n",
              "       [125.44631 ],\n",
              "       [128.47475 ],\n",
              "       [131.06902 ],\n",
              "       [127.813354],\n",
              "       [123.09964 ],\n",
              "       [128.62834 ],\n",
              "       [137.50179 ],\n",
              "       [117.86773 ],\n",
              "       [109.4823  ],\n",
              "       [122.44442 ],\n",
              "       [107.78062 ],\n",
              "       [109.70752 ],\n",
              "       [122.97254 ],\n",
              "       [114.011116],\n",
              "       [114.7983  ],\n",
              "       [140.50238 ],\n",
              "       [120.907524],\n",
              "       [126.5802  ],\n",
              "       [124.20329 ],\n",
              "       [120.93904 ],\n",
              "       [131.99944 ],\n",
              "       [145.39119 ],\n",
              "       [120.80297 ],\n",
              "       [120.29227 ],\n",
              "       [126.394844],\n",
              "       [132.20674 ],\n",
              "       [125.01273 ],\n",
              "       [119.16874 ],\n",
              "       [123.971214],\n",
              "       [127.229904],\n",
              "       [121.35902 ],\n",
              "       [104.91089 ],\n",
              "       [123.03478 ],\n",
              "       [109.66649 ],\n",
              "       [105.27714 ],\n",
              "       [161.15604 ],\n",
              "       [124.0971  ],\n",
              "       [119.75069 ],\n",
              "       [130.63492 ],\n",
              "       [129.79465 ],\n",
              "       [125.162964],\n",
              "       [129.24304 ],\n",
              "       [126.00737 ],\n",
              "       [118.54354 ],\n",
              "       [131.16989 ],\n",
              "       [127.493004],\n",
              "       [112.135666],\n",
              "       [132.40068 ],\n",
              "       [130.99934 ],\n",
              "       [132.49393 ],\n",
              "       [124.891945],\n",
              "       [126.10988 ],\n",
              "       [127.4071  ],\n",
              "       [112.842606],\n",
              "       [141.29262 ],\n",
              "       [127.99464 ],\n",
              "       [125.70955 ],\n",
              "       [126.35997 ],\n",
              "       [127.235565],\n",
              "       [116.19086 ],\n",
              "       [122.06262 ],\n",
              "       [123.53719 ],\n",
              "       [137.48747 ],\n",
              "       [122.24904 ],\n",
              "       [126.68826 ],\n",
              "       [125.97767 ],\n",
              "       [123.577385],\n",
              "       [125.031044],\n",
              "       [112.081924],\n",
              "       [126.706215],\n",
              "       [131.96219 ],\n",
              "       [132.3809  ],\n",
              "       [128.21686 ],\n",
              "       [130.24994 ],\n",
              "       [128.16814 ],\n",
              "       [125.554214],\n",
              "       [130.65967 ],\n",
              "       [132.91699 ],\n",
              "       [124.58242 ],\n",
              "       [125.337   ],\n",
              "       [140.47421 ],\n",
              "       [149.7404  ],\n",
              "       [125.56121 ],\n",
              "       [128.0949  ],\n",
              "       [126.07365 ],\n",
              "       [129.65535 ],\n",
              "       [121.17257 ],\n",
              "       [114.87574 ],\n",
              "       [115.58545 ],\n",
              "       [124.862686],\n",
              "       [137.07896 ],\n",
              "       [124.37144 ],\n",
              "       [120.71685 ],\n",
              "       [131.28995 ],\n",
              "       [126.97643 ],\n",
              "       [124.31431 ],\n",
              "       [128.43886 ],\n",
              "       [119.74464 ],\n",
              "       [115.70508 ],\n",
              "       [122.30467 ],\n",
              "       [125.318184],\n",
              "       [121.51146 ],\n",
              "       [114.86768 ],\n",
              "       [114.80454 ],\n",
              "       [132.68173 ]], dtype=float32)"
            ]
          },
          "metadata": {},
          "execution_count": 27
        }
      ]
    },
    {
      "cell_type": "code",
      "source": [
        "y_test_original"
      ],
      "metadata": {
        "colab": {
          "base_uri": "https://localhost:8080/"
        },
        "id": "TB9ZY1fI_TQM",
        "outputId": "e0507431-ecda-4d1c-f959-273af731bb5a"
      },
      "execution_count": 28,
      "outputs": [
        {
          "output_type": "execute_result",
          "data": {
            "text/plain": [
              "array([[141.],\n",
              "       [124.],\n",
              "       [137.],\n",
              "       [115.],\n",
              "       [113.],\n",
              "       [111.],\n",
              "       [135.],\n",
              "       [151.],\n",
              "       [115.],\n",
              "       [129.],\n",
              "       [112.],\n",
              "       [179.],\n",
              "       [118.],\n",
              "       [113.],\n",
              "       [140.],\n",
              "       [119.],\n",
              "       [122.],\n",
              "       [ 96.],\n",
              "       [105.],\n",
              "       [127.],\n",
              "       [147.],\n",
              "       [125.],\n",
              "       [126.],\n",
              "       [126.],\n",
              "       [111.],\n",
              "       [122.],\n",
              "       [132.],\n",
              "       [118.],\n",
              "       [122.],\n",
              "       [125.],\n",
              "       [112.],\n",
              "       [115.],\n",
              "       [142.],\n",
              "       [132.],\n",
              "       [129.],\n",
              "       [117.],\n",
              "       [106.],\n",
              "       [122.],\n",
              "       [159.],\n",
              "       [124.],\n",
              "       [118.],\n",
              "       [124.],\n",
              "       [143.],\n",
              "       [119.],\n",
              "       [140.],\n",
              "       [134.],\n",
              "       [101.],\n",
              "       [147.],\n",
              "       [116.],\n",
              "       [125.],\n",
              "       [114.],\n",
              "       [118.],\n",
              "       [115.],\n",
              "       [126.],\n",
              "       [135.],\n",
              "       [112.],\n",
              "       [124.],\n",
              "       [125.],\n",
              "       [130.],\n",
              "       [147.],\n",
              "       [142.],\n",
              "       [147.],\n",
              "       [105.],\n",
              "       [ 95.],\n",
              "       [ 96.],\n",
              "       [112.],\n",
              "       [109.],\n",
              "       [127.],\n",
              "       [112.],\n",
              "       [153.],\n",
              "       [136.],\n",
              "       [115.],\n",
              "       [157.],\n",
              "       [125.],\n",
              "       [149.],\n",
              "       [175.],\n",
              "       [105.],\n",
              "       [129.],\n",
              "       [126.],\n",
              "       [131.],\n",
              "       [133.],\n",
              "       [117.],\n",
              "       [115.],\n",
              "       [104.],\n",
              "       [121.],\n",
              "       [135.],\n",
              "       [138.],\n",
              "       [119.],\n",
              "       [123.],\n",
              "       [118.],\n",
              "       [118.],\n",
              "       [138.],\n",
              "       [155.],\n",
              "       [140.],\n",
              "       [ 98.],\n",
              "       [130.],\n",
              "       [137.],\n",
              "       [134.],\n",
              "       [136.],\n",
              "       [ 99.],\n",
              "       [118.],\n",
              "       [ 95.],\n",
              "       [ 99.],\n",
              "       [ 95.],\n",
              "       [115.],\n",
              "       [126.],\n",
              "       [121.],\n",
              "       [104.]], dtype=float32)"
            ]
          },
          "metadata": {},
          "execution_count": 28
        }
      ]
    },
    {
      "cell_type": "code",
      "source": [
        "correlation = np.corrcoef(y_test_original[:, 0], y_pred_original[:, 0])[0, 1]  # Assuming Omron Systolic is in the first column\n"
      ],
      "metadata": {
        "id": "YSFWHblA_Z5t"
      },
      "execution_count": 29,
      "outputs": []
    },
    {
      "cell_type": "code",
      "source": [
        "Correlation = correlation*100"
      ],
      "metadata": {
        "id": "WJuIiaAsAGUx"
      },
      "execution_count": 30,
      "outputs": []
    },
    {
      "cell_type": "code",
      "source": [
        "print(f\"Correlation between y_test_original and y_pred_original: {Correlation}\")"
      ],
      "metadata": {
        "colab": {
          "base_uri": "https://localhost:8080/"
        },
        "id": "pGVYFJTgAK8F",
        "outputId": "62987d18-77a4-48e1-b7ff-6f5671728f31"
      },
      "execution_count": 31,
      "outputs": [
        {
          "output_type": "stream",
          "name": "stdout",
          "text": [
            "Correlation between y_test_original and y_pred_original: 9.4545353370801\n"
          ]
        }
      ]
    },
    {
      "cell_type": "code",
      "source": [
        "# ✅ Graphical Representation\n",
        "plt.figure(figsize=(12, 5))\n",
        "\n",
        "# Plot Omron Diastolic\n",
        "plt.subplot(1, 2, 1)\n",
        "plt.plot(y_test_original[:, 0], label=\"Actual Systolic\", marker='o')\n",
        "plt.plot(y_pred_original[:, 0], label=\"Predicted Systolic\", linestyle='dashed', marker='s')\n",
        "plt.xlabel(\"Sample Index\")\n",
        "plt.ylabel(\"Omron Systolic Value\")\n",
        "plt.legend()\n",
        "plt.title(\"Omron Systolic Prediction\")\n"
      ],
      "metadata": {
        "colab": {
          "base_uri": "https://localhost:8080/",
          "height": 504
        },
        "id": "cHI-hgL0_d15",
        "outputId": "74b12c88-e875-440e-ea03-081e8b7b1d61"
      },
      "execution_count": 32,
      "outputs": [
        {
          "output_type": "execute_result",
          "data": {
            "text/plain": [
              "Text(0.5, 1.0, 'Omron Systolic Prediction')"
            ]
          },
          "metadata": {},
          "execution_count": 32
        },
        {
          "output_type": "display_data",
          "data": {
            "text/plain": [
              "<Figure size 1200x500 with 1 Axes>"
            ],
            "image/png": "[encoded data removed]"
          },
          "metadata": {}
        }
      ]
    }
  ]
}