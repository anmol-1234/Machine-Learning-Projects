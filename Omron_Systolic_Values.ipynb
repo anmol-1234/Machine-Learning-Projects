{
  "nbformat": 4,
  "nbformat_minor": 0,
  "metadata": {
    "colab": {
      "provenance": [],
      "gpuType": "T4"
    },
    "kernelspec": {
      "name": "python3",
      "display_name": "Python 3"
    },
    "language_info": {
      "name": "python"
    },
    "accelerator": "GPU"
  },
  "cells": [
    {
      "cell_type": "code",
      "execution_count": 1,
      "metadata": {
        "id": "RxLaK4U35i3D"
      },
      "outputs": [],
      "source": [
        "# ✅ Import Required Libraries\n",
        "import os\n",
        "import numpy as np\n",
        "import pandas as pd\n",
        "import tensorflow as tf\n",
        "from tensorflow.keras.models import Sequential\n",
        "from tensorflow.keras.layers import GRU, Dense, Dropout, BatchNormalization, Input\n",
        "from tensorflow.keras.optimizers import Adam\n",
        "from sklearn.preprocessing import MinMaxScaler, LabelEncoder\n",
        "from sklearn.model_selection import train_test_split\n",
        "from sklearn.metrics import mean_squared_error, mean_absolute_error\n",
        "import joblib\n",
        "import matplotlib.pyplot as plt"
      ]
    },
    {
      "cell_type": "code",
      "source": [
        "from google.colab import drive\n",
        "drive.mount('/content/drive')"
      ],
      "metadata": {
        "colab": {
          "base_uri": "https://localhost:8080/"
        },
        "id": "G8QxZWv95-ph",
        "outputId": "570f41e5-928b-4116-8ff7-3cd4e3f89880"
      },
      "execution_count": 2,
      "outputs": [
        {
          "output_type": "stream",
          "name": "stdout",
          "text": [
            "Mounted at /content/drive\n"
          ]
        }
      ]
    },
    {
      "cell_type": "code",
      "source": [
        "# ✅ Enable Mixed Precision for Faster Computation\n",
        "tf.keras.mixed_precision.set_global_policy('mixed_float16')"
      ],
      "metadata": {
        "id": "4LcTAIMb6NZP"
      },
      "execution_count": 3,
      "outputs": []
    },
    {
      "cell_type": "code",
      "source": [
        "# ✅ Define Paths\n",
        "reference_file = \"/content/drive/MyDrive/Jan 4/Reference_Output_Until_Jan02_2025 (4).csv\"\n",
        "predictor_folder = \"/content/drive/MyDrive/Jan 4/5000_X_12_Until_Jan02_2025\""
      ],
      "metadata": {
        "id": "BT3cRylh6Rv-"
      },
      "execution_count": 4,
      "outputs": []
    },
    {
      "cell_type": "code",
      "source": [
        "reference_df = pd.read_csv(reference_file)  # Columns: Reading_File_Name, A, B, reading_id, gender, etc."
      ],
      "metadata": {
        "id": "3-WAKNMQ6XG-"
      },
      "execution_count": 5,
      "outputs": []
    },
    {
      "cell_type": "code",
      "source": [
        "# ✅ Extract Target (Omron Systolic)\n",
        "y = reference_df[['Omron Systolic']].to_numpy(dtype=np.float32)"
      ],
      "metadata": {
        "id": "L8pdE0_R741A"
      },
      "execution_count": 6,
      "outputs": []
    },
    {
      "cell_type": "code",
      "source": [
        "# ✅ Normalize Target Values\n",
        "from sklearn.preprocessing import StandardScaler\n",
        "target_scaler = StandardScaler()\n",
        "y_scaled = target_scaler.fit_transform(y)"
      ],
      "metadata": {
        "id": "EVKFP8tV8KH9"
      },
      "execution_count": 7,
      "outputs": []
    },
    {
      "cell_type": "code",
      "source": [
        "# Save target scaler\n",
        "joblib.dump(target_scaler, \"/content/drive/MyDrive/pkl files/target_scaler19.pkl\")\n"
      ],
      "metadata": {
        "colab": {
          "base_uri": "https://localhost:8080/"
        },
        "id": "SopFRUBJ8OXv",
        "outputId": "32a4e649-9595-4558-f1e7-72dc4d8285ec"
      },
      "execution_count": 8,
      "outputs": [
        {
          "output_type": "execute_result",
          "data": {
            "text/plain": [
              "['/content/drive/MyDrive/pkl files/target_scaler19.pkl']"
            ]
          },
          "metadata": {},
          "execution_count": 8
        }
      ]
    },
    {
      "cell_type": "code",
      "source": [
        "# ✅ Load and Process Predictor Files in a Single Pass\n",
        "aggregated_data = []\n",
        "predictor_files = sorted([f for f in os.listdir(predictor_folder) if f.endswith(\".csv\")])\n",
        "\n"
      ],
      "metadata": {
        "id": "3BO7HmDm8UcB"
      },
      "execution_count": 9,
      "outputs": []
    },
    {
      "cell_type": "code",
      "source": [
        "for file in predictor_files:\n",
        "    df = pd.read_csv(os.path.join(predictor_folder, file), dtype=np.float32)\n",
        "\n",
        "    # Handle missing values\n",
        "    df.fillna(df.median(numeric_only=True), inplace=True)\n",
        "\n",
        "    aggregated_data.append(df.to_numpy(dtype=np.float32))\n",
        "\n"
      ],
      "metadata": {
        "id": "zXjr8NDI8Ylu"
      },
      "execution_count": 10,
      "outputs": []
    },
    {
      "cell_type": "code",
      "source": [
        "# ✅ Convert to NumPy Array\n",
        "X = np.array(aggregated_data, dtype=np.float32)\n"
      ],
      "metadata": {
        "id": "twjZdpFx8iAp"
      },
      "execution_count": 11,
      "outputs": []
    },
    {
      "cell_type": "code",
      "source": [
        "# ✅ Ensure Proper Shape for GRU (samples, timesteps, features)\n",
        "X = X.reshape(X.shape[0], X.shape[1], X.shape[2])\n"
      ],
      "metadata": {
        "id": "2Ug65BQz8lfg"
      },
      "execution_count": 12,
      "outputs": []
    },
    {
      "cell_type": "code",
      "source": [
        "X_2D = X.reshape(-1,X.shape[2])"
      ],
      "metadata": {
        "id": "S_G0TALI8orZ"
      },
      "execution_count": 13,
      "outputs": []
    },
    {
      "cell_type": "code",
      "source": [
        "from sklearn.preprocessing import StandardScaler\n",
        "scaler = StandardScaler()\n",
        "X_scaled = scaler.fit_transform(X_2D)\n"
      ],
      "metadata": {
        "id": "eUg4SkKS8sBu"
      },
      "execution_count": 14,
      "outputs": []
    },
    {
      "cell_type": "code",
      "source": [
        "X_3D = X_scaled.reshape(X.shape[0], X.shape[1], X.shape[2])"
      ],
      "metadata": {
        "id": "ZyIbFVjm8wp5"
      },
      "execution_count": 15,
      "outputs": []
    },
    {
      "cell_type": "code",
      "source": [
        "# ✅ Split Data (20% Test, 80% Train)\n",
        "X_3Dtrain, X_3Dtest, y_train, y_test = train_test_split(X_3D, y_scaled, test_size=0.2, random_state=42)\n",
        "\n",
        "\n"
      ],
      "metadata": {
        "id": "QK207BK180Pp"
      },
      "execution_count": 16,
      "outputs": []
    },
    {
      "cell_type": "code",
      "source": [
        "X_3Dtest.shape"
      ],
      "metadata": {
        "colab": {
          "base_uri": "https://localhost:8080/"
        },
        "id": "JHKciGaW83Yf",
        "outputId": "33b4c9c6-0d4e-4e07-8a0e-78ade75697ff"
      },
      "execution_count": 17,
      "outputs": [
        {
          "output_type": "execute_result",
          "data": {
            "text/plain": [
              "(108, 5000, 12)"
            ]
          },
          "metadata": {},
          "execution_count": 17
        }
      ]
    },
    {
      "cell_type": "code",
      "source": [
        "y_train"
      ],
      "metadata": {
        "colab": {
          "base_uri": "https://localhost:8080/"
        },
        "id": "m8_j8jvu86sQ",
        "outputId": "e3b91e89-85cc-453b-96e3-c0e35c67bd3a"
      },
      "execution_count": 18,
      "outputs": [
        {
          "output_type": "execute_result",
          "data": {
            "text/plain": [
              "array([[ 0.26008847],\n",
              "       [ 0.95997643],\n",
              "       [ 0.26008847],\n",
              "       [ 0.01012849],\n",
              "       [-0.1898395 ],\n",
              "       [ 0.61003244],\n",
              "       [ 0.61003244],\n",
              "       [-0.58977544],\n",
              "       [ 1.7098564 ],\n",
              "       [-1.6895994 ],\n",
              "       [ 0.66002446],\n",
              "       [-0.83973545],\n",
              "       [-1.2396713 ],\n",
              "       [-0.9897114 ],\n",
              "       [-0.8897274 ],\n",
              "       [-0.68975943],\n",
              "       [-1.3396554 ],\n",
              "       [ 0.41006446],\n",
              "       [-0.23983148],\n",
              "       [-1.0397034 ],\n",
              "       [-0.8897274 ],\n",
              "       [ 0.11011248],\n",
              "       [ 1.3599124 ],\n",
              "       [-1.4396393 ],\n",
              "       [ 0.36007246],\n",
              "       [ 2.3597524 ],\n",
              "       [ 0.51004845],\n",
              "       [-0.38980746],\n",
              "       [-0.58977544],\n",
              "       [-0.73975146],\n",
              "       [ 1.5598804 ],\n",
              "       [-1.0896955 ],\n",
              "       [ 0.26008847],\n",
              "       [ 0.11011248],\n",
              "       [-0.33981547],\n",
              "       [-0.33981547],\n",
              "       [-0.48979145],\n",
              "       [ 0.85999244],\n",
              "       [ 0.46005645],\n",
              "       [ 0.26008847],\n",
              "       [-0.03986351],\n",
              "       [-1.0896955 ],\n",
              "       [ 0.8100004 ],\n",
              "       [-0.0898555 ],\n",
              "       [-0.38980746],\n",
              "       [ 0.61003244],\n",
              "       [ 1.2099364 ],\n",
              "       [-0.7897434 ],\n",
              "       [-0.38980746],\n",
              "       [-0.68975943],\n",
              "       [-0.1398475 ],\n",
              "       [-1.2396713 ],\n",
              "       [-0.83973545],\n",
              "       [-0.48979145],\n",
              "       [-0.28982347],\n",
              "       [-0.03986351],\n",
              "       [-0.1898395 ],\n",
              "       [ 0.36007246],\n",
              "       [-0.28982347],\n",
              "       [ 1.1599444 ],\n",
              "       [ 1.5098884 ],\n",
              "       [-0.68975943],\n",
              "       [ 0.7100164 ],\n",
              "       [ 3.3096    ],\n",
              "       [ 0.36007246],\n",
              "       [-1.5396234 ],\n",
              "       [-0.43979946],\n",
              "       [ 0.36007246],\n",
              "       [-0.48979145],\n",
              "       [ 0.16010447],\n",
              "       [ 0.5600405 ],\n",
              "       [ 0.85999244],\n",
              "       [-0.73975146],\n",
              "       [-0.73975146],\n",
              "       [-0.7897434 ],\n",
              "       [-0.93971944],\n",
              "       [-0.58977544],\n",
              "       [ 0.26008847],\n",
              "       [ 0.85999244],\n",
              "       [ 1.0099684 ],\n",
              "       [-0.93971944],\n",
              "       [ 0.85999244],\n",
              "       [ 0.01012849],\n",
              "       [ 0.61003244],\n",
              "       [ 1.5098884 ],\n",
              "       [-1.5396234 ],\n",
              "       [ 1.8598323 ],\n",
              "       [ 0.11011248],\n",
              "       [-0.03986351],\n",
              "       [-1.0896955 ],\n",
              "       [ 1.1599444 ],\n",
              "       [ 0.21009648],\n",
              "       [-0.58977544],\n",
              "       [-0.28982347],\n",
              "       [-0.23983148],\n",
              "       [-1.1896794 ],\n",
              "       [-0.73975146],\n",
              "       [-0.0898555 ],\n",
              "       [ 0.36007246],\n",
              "       [-0.9897114 ],\n",
              "       [-1.1896794 ],\n",
              "       [-0.38980746],\n",
              "       [-0.33981547],\n",
              "       [-0.58977544],\n",
              "       [-0.28982347],\n",
              "       [ 2.0098083 ],\n",
              "       [-0.68975943],\n",
              "       [ 0.8100004 ],\n",
              "       [ 0.26008847],\n",
              "       [ 0.7100164 ],\n",
              "       [-0.23983148],\n",
              "       [ 0.51004845],\n",
              "       [ 1.5598804 ],\n",
              "       [ 0.51004845],\n",
              "       [ 0.61003244],\n",
              "       [-0.7897434 ],\n",
              "       [ 1.4598963 ],\n",
              "       [ 0.16010447],\n",
              "       [-0.5397835 ],\n",
              "       [ 1.9598163 ],\n",
              "       [ 1.2099364 ],\n",
              "       [ 0.8100004 ],\n",
              "       [ 0.06012049],\n",
              "       [ 1.2099364 ],\n",
              "       [ 0.21009648],\n",
              "       [-1.6396073 ],\n",
              "       [-0.33981547],\n",
              "       [-0.68975943],\n",
              "       [-1.1896794 ],\n",
              "       [ 1.1599444 ],\n",
              "       [-0.43979946],\n",
              "       [ 0.21009648],\n",
              "       [ 0.31008047],\n",
              "       [ 5.409264  ],\n",
              "       [ 0.31008047],\n",
              "       [-0.1898395 ],\n",
              "       [-0.7897434 ],\n",
              "       [-0.0898555 ],\n",
              "       [ 4.3594317 ],\n",
              "       [ 0.06012049],\n",
              "       [-1.0397034 ],\n",
              "       [-0.73975146],\n",
              "       [ 0.8100004 ],\n",
              "       [-0.03986351],\n",
              "       [-1.3396554 ],\n",
              "       [-0.0898555 ],\n",
              "       [-0.43979946],\n",
              "       [ 1.8598323 ],\n",
              "       [ 5.55924   ],\n",
              "       [ 0.31008047],\n",
              "       [-1.2396713 ],\n",
              "       [ 0.06012049],\n",
              "       [ 0.11011248],\n",
              "       [ 0.01012849],\n",
              "       [-0.1398475 ],\n",
              "       [-1.0397034 ],\n",
              "       [ 0.5600405 ],\n",
              "       [-0.03986351],\n",
              "       [-1.2396713 ],\n",
              "       [ 0.31008047],\n",
              "       [-1.6895994 ],\n",
              "       [ 0.95997643],\n",
              "       [-0.83973545],\n",
              "       [ 0.46005645],\n",
              "       [ 1.6598643 ],\n",
              "       [-0.0898555 ],\n",
              "       [ 0.26008847],\n",
              "       [ 1.1099524 ],\n",
              "       [-1.3396554 ],\n",
              "       [ 1.3599124 ],\n",
              "       [-0.1898395 ],\n",
              "       [-0.9897114 ],\n",
              "       [ 1.0099684 ],\n",
              "       [ 0.11011248],\n",
              "       [ 0.95997643],\n",
              "       [-0.9897114 ],\n",
              "       [-0.38980746],\n",
              "       [-0.63976747],\n",
              "       [ 0.21009648],\n",
              "       [-1.0896955 ],\n",
              "       [-0.48979145],\n",
              "       [ 0.8100004 ],\n",
              "       [ 0.7100164 ],\n",
              "       [-0.9897114 ],\n",
              "       [-1.0896955 ],\n",
              "       [-0.73975146],\n",
              "       [ 0.01012849],\n",
              "       [-0.28982347],\n",
              "       [-0.23983148],\n",
              "       [ 0.5600405 ],\n",
              "       [-1.0896955 ],\n",
              "       [-0.43979946],\n",
              "       [ 0.16010447],\n",
              "       [ 0.76000845],\n",
              "       [ 0.46005645],\n",
              "       [-0.1898395 ],\n",
              "       [-0.63976747],\n",
              "       [-0.9897114 ],\n",
              "       [-0.7897434 ],\n",
              "       [-0.8897274 ],\n",
              "       [ 1.1599444 ],\n",
              "       [-1.4896314 ],\n",
              "       [-0.0898555 ],\n",
              "       [-0.43979946],\n",
              "       [-0.43979946],\n",
              "       [ 0.7100164 ],\n",
              "       [-0.83973545],\n",
              "       [ 0.46005645],\n",
              "       [ 0.61003244],\n",
              "       [ 0.46005645],\n",
              "       [ 0.31008047],\n",
              "       [-0.58977544],\n",
              "       [ 0.61003244],\n",
              "       [-0.9897114 ],\n",
              "       [ 0.01012849],\n",
              "       [-1.3896474 ],\n",
              "       [-1.0896955 ],\n",
              "       [-0.38980746],\n",
              "       [-0.43979946],\n",
              "       [ 0.46005645],\n",
              "       [ 1.9598163 ],\n",
              "       [ 0.11011248],\n",
              "       [ 0.26008847],\n",
              "       [-1.6895994 ],\n",
              "       [-0.73975146],\n",
              "       [-0.28982347],\n",
              "       [ 0.31008047],\n",
              "       [-0.23983148],\n",
              "       [-0.03986351],\n",
              "       [ 0.36007246],\n",
              "       [-0.63976747],\n",
              "       [-1.2896634 ],\n",
              "       [ 0.26008847],\n",
              "       [-0.7897434 ],\n",
              "       [-1.4396393 ],\n",
              "       [-0.03986351],\n",
              "       [-1.3396554 ],\n",
              "       [ 0.31008047],\n",
              "       [-0.5397835 ],\n",
              "       [-0.23983148],\n",
              "       [-0.1398475 ],\n",
              "       [-1.0896955 ],\n",
              "       [ 0.31008047],\n",
              "       [ 0.7100164 ],\n",
              "       [-0.48979145],\n",
              "       [ 1.1099524 ],\n",
              "       [-1.1896794 ],\n",
              "       [ 0.16010447],\n",
              "       [-1.1896794 ],\n",
              "       [-0.73975146],\n",
              "       [-0.63976747],\n",
              "       [ 1.8098403 ],\n",
              "       [ 0.16010447],\n",
              "       [ 0.31008047],\n",
              "       [ 0.26008847],\n",
              "       [ 0.41006446],\n",
              "       [-0.68975943],\n",
              "       [-0.1898395 ],\n",
              "       [ 0.41006446],\n",
              "       [ 0.21009648],\n",
              "       [ 0.41006446],\n",
              "       [ 0.7100164 ],\n",
              "       [-0.68975943],\n",
              "       [-0.8897274 ],\n",
              "       [-0.68975943],\n",
              "       [ 1.8098403 ],\n",
              "       [-0.68975943],\n",
              "       [ 0.51004845],\n",
              "       [ 1.3099204 ],\n",
              "       [ 0.26008847],\n",
              "       [-1.6396073 ],\n",
              "       [ 0.51004845],\n",
              "       [ 0.21009648],\n",
              "       [ 1.6098723 ],\n",
              "       [-0.73975146],\n",
              "       [ 0.61003244],\n",
              "       [-0.43979946],\n",
              "       [ 0.61003244],\n",
              "       [-0.83973545],\n",
              "       [ 0.76000845],\n",
              "       [-0.5397835 ],\n",
              "       [-1.1896794 ],\n",
              "       [-0.1898395 ],\n",
              "       [ 0.16010447],\n",
              "       [ 2.3097603 ],\n",
              "       [ 0.95997643],\n",
              "       [ 0.51004845],\n",
              "       [-0.9897114 ],\n",
              "       [ 0.41006446],\n",
              "       [ 1.2099364 ],\n",
              "       [ 0.41006446],\n",
              "       [-1.5396234 ],\n",
              "       [-0.23983148],\n",
              "       [ 0.16010447],\n",
              "       [-0.73975146],\n",
              "       [ 4.659384  ],\n",
              "       [ 0.51004845],\n",
              "       [-0.03986351],\n",
              "       [-0.9897114 ],\n",
              "       [ 1.1599444 ],\n",
              "       [ 0.11011248],\n",
              "       [ 0.06012049],\n",
              "       [-0.0898555 ],\n",
              "       [-0.1398475 ],\n",
              "       [ 1.2099364 ],\n",
              "       [-0.93971944],\n",
              "       [ 0.8100004 ],\n",
              "       [ 0.36007246],\n",
              "       [ 0.06012049],\n",
              "       [-1.2396713 ],\n",
              "       [-0.48979145],\n",
              "       [-0.5397835 ],\n",
              "       [-0.58977544],\n",
              "       [ 0.61003244],\n",
              "       [-1.0896955 ],\n",
              "       [-0.48979145],\n",
              "       [ 0.36007246],\n",
              "       [-0.03986351],\n",
              "       [-1.5896153 ],\n",
              "       [-1.0397034 ],\n",
              "       [ 0.06012049],\n",
              "       [-1.3396554 ],\n",
              "       [ 0.5600405 ],\n",
              "       [ 0.7100164 ],\n",
              "       [-1.0896955 ],\n",
              "       [ 0.76000845],\n",
              "       [-0.03986351],\n",
              "       [-1.0896955 ],\n",
              "       [-0.23983148],\n",
              "       [ 1.2099364 ],\n",
              "       [ 3.0096483 ],\n",
              "       [ 0.85999244],\n",
              "       [-0.03986351],\n",
              "       [ 2.3597524 ],\n",
              "       [ 0.31008047],\n",
              "       [-0.38980746],\n",
              "       [-0.38980746],\n",
              "       [ 0.41006446],\n",
              "       [ 0.11011248],\n",
              "       [-0.38980746],\n",
              "       [ 3.859512  ],\n",
              "       [-0.38980746],\n",
              "       [-1.1396874 ],\n",
              "       [ 2.0098083 ],\n",
              "       [-0.7897434 ],\n",
              "       [ 0.16010447],\n",
              "       [-0.8897274 ],\n",
              "       [-0.38980746],\n",
              "       [-0.58977544],\n",
              "       [-0.73975146],\n",
              "       [ 5.1593037 ],\n",
              "       [-0.23983148],\n",
              "       [-0.63976747],\n",
              "       [ 0.66002446],\n",
              "       [-0.5397835 ],\n",
              "       [-0.28982347],\n",
              "       [ 0.21009648],\n",
              "       [ 2.0098083 ],\n",
              "       [-0.83973545],\n",
              "       [-0.93971944],\n",
              "       [ 0.06012049],\n",
              "       [ 0.85999244],\n",
              "       [-0.73975146],\n",
              "       [ 0.51004845],\n",
              "       [-0.03986351],\n",
              "       [-1.0896955 ],\n",
              "       [-0.8897274 ],\n",
              "       [ 1.0099684 ],\n",
              "       [-0.7897434 ],\n",
              "       [ 0.41006446],\n",
              "       [ 0.31008047],\n",
              "       [ 1.9098244 ],\n",
              "       [ 0.46005645],\n",
              "       [-0.7897434 ],\n",
              "       [-0.58977544],\n",
              "       [ 0.61003244],\n",
              "       [-0.1898395 ],\n",
              "       [ 0.11011248],\n",
              "       [-0.73975146],\n",
              "       [-1.5896153 ],\n",
              "       [-0.1898395 ],\n",
              "       [-0.23983148],\n",
              "       [ 1.3099204 ],\n",
              "       [-0.23983148],\n",
              "       [-0.5397835 ],\n",
              "       [-0.0898555 ],\n",
              "       [-0.03986351],\n",
              "       [ 0.31008047],\n",
              "       [-0.93971944],\n",
              "       [ 0.36007246],\n",
              "       [ 0.7100164 ],\n",
              "       [ 1.9598163 ],\n",
              "       [ 1.3099204 ],\n",
              "       [-1.0896955 ],\n",
              "       [-0.38980746],\n",
              "       [ 1.9098244 ],\n",
              "       [ 0.85999244],\n",
              "       [ 0.9099844 ],\n",
              "       [ 0.16010447],\n",
              "       [-0.0898555 ],\n",
              "       [-0.38980746],\n",
              "       [ 0.41006446],\n",
              "       [-0.33981547],\n",
              "       [ 0.11011248],\n",
              "       [ 0.11011248],\n",
              "       [-0.5397835 ],\n",
              "       [-0.48979145],\n",
              "       [ 0.36007246],\n",
              "       [-0.28982347],\n",
              "       [ 0.51004845],\n",
              "       [ 0.5600405 ],\n",
              "       [ 0.7100164 ],\n",
              "       [-0.0898555 ],\n",
              "       [-1.7395914 ],\n",
              "       [-0.8897274 ],\n",
              "       [-0.93971944],\n",
              "       [-0.9897114 ],\n",
              "       [-1.1396874 ],\n",
              "       [-1.4396393 ],\n",
              "       [-0.58977544],\n",
              "       [-0.9897114 ],\n",
              "       [ 1.7598484 ],\n",
              "       [ 0.16010447],\n",
              "       [-0.48979145],\n",
              "       [-1.2396713 ],\n",
              "       [-1.4896314 ],\n",
              "       [-1.2396713 ],\n",
              "       [-0.58977544],\n",
              "       [-0.0898555 ],\n",
              "       [-1.0896955 ]], dtype=float32)"
            ]
          },
          "metadata": {},
          "execution_count": 18
        }
      ]
    },
    {
      "cell_type": "code",
      "source": [
        "# ✅ Define a Lightweight GRU Model for Faster Training\n",
        "model = Sequential([\n",
        "    Input(shape=(X.shape[1], X.shape[2])),\n",
        "    GRU(128, return_sequences=True, activation='tanh'),\n",
        "    Dropout(0.2),\n",
        "    BatchNormalization(),\n",
        "    GRU(64, return_sequences=False, activation='tanh'),\n",
        "    Dropout(0.2),\n",
        "    BatchNormalization(),\n",
        "    Dense(1, dtype=tf.float32)  # Output layer (1 target)\n",
        "])\n",
        "\n"
      ],
      "metadata": {
        "id": "5D9msPJn88lP"
      },
      "execution_count": 19,
      "outputs": []
    },
    {
      "cell_type": "code",
      "source": [
        "# ✅ Compile Model with Adam Optimizer\n",
        "optimizer = Adam(learning_rate=0.0005, clipvalue=0.5)\n",
        "model.compile(optimizer=optimizer, loss= 'mae', metrics=['mse', 'mae'])\n"
      ],
      "metadata": {
        "id": "Phgn2DXM9Dlh"
      },
      "execution_count": 20,
      "outputs": []
    },
    {
      "cell_type": "code",
      "source": [
        "from tensorflow.keras.utils import plot_model"
      ],
      "metadata": {
        "id": "6WgmGCr59HTV"
      },
      "execution_count": 21,
      "outputs": []
    },
    {
      "cell_type": "code",
      "source": [
        "history = model.fit(\n",
        "    X_3Dtrain, y_train,\n",
        "    epochs=100,\n",
        "    batch_size=128,  # Larger batch for speed\n",
        "    validation_data=(X_3Dtest, y_test),\n",
        "    verbose=1,\n",
        "\n",
        ")\n",
        "\n"
      ],
      "metadata": {
        "colab": {
          "base_uri": "https://localhost:8080/"
        },
        "id": "BBwN8-P09LPk",
        "outputId": "fa919897-015c-4eee-8840-89a8eb7e523a"
      },
      "execution_count": 22,
      "outputs": [
        {
          "output_type": "stream",
          "name": "stdout",
          "text": [
            "Epoch 1/100\n",
            "\u001b[1m4/4\u001b[0m \u001b[32m━━━━━━━━━━━━━━━━━━━━\u001b[0m\u001b[37m\u001b[0m \u001b[1m10s\u001b[0m 777ms/step - loss: 1.8221 - mae: 1.8221 - mse: 4.9841 - val_loss: 0.6162 - val_mae: 0.6162 - val_mse: 0.6344\n",
            "Epoch 2/100\n",
            "\u001b[1m4/4\u001b[0m \u001b[32m━━━━━━━━━━━━━━━━━━━━\u001b[0m\u001b[37m\u001b[0m \u001b[1m4s\u001b[0m 367ms/step - loss: 1.1131 - mae: 1.1131 - mse: 2.1511 - val_loss: 0.6346 - val_mae: 0.6346 - val_mse: 0.6655\n",
            "Epoch 3/100\n",
            "\u001b[1m4/4\u001b[0m \u001b[32m━━━━━━━━━━━━━━━━━━━━\u001b[0m\u001b[37m\u001b[0m \u001b[1m2s\u001b[0m 358ms/step - loss: 1.0462 - mae: 1.0462 - mse: 1.9027 - val_loss: 0.6339 - val_mae: 0.6339 - val_mse: 0.6655\n",
            "Epoch 4/100\n",
            "\u001b[1m4/4\u001b[0m \u001b[32m━━━━━━━━━━━━━━━━━━━━\u001b[0m\u001b[37m\u001b[0m \u001b[1m3s\u001b[0m 359ms/step - loss: 1.0513 - mae: 1.0513 - mse: 1.8762 - val_loss: 0.6225 - val_mae: 0.6225 - val_mse: 0.6489\n",
            "Epoch 5/100\n",
            "\u001b[1m4/4\u001b[0m \u001b[32m━━━━━━━━━━━━━━━━━━━━\u001b[0m\u001b[37m\u001b[0m \u001b[1m3s\u001b[0m 502ms/step - loss: 0.9568 - mae: 0.9568 - mse: 1.6349 - val_loss: 0.6187 - val_mae: 0.6187 - val_mse: 0.6425\n",
            "Epoch 6/100\n",
            "\u001b[1m4/4\u001b[0m \u001b[32m━━━━━━━━━━━━━━━━━━━━\u001b[0m\u001b[37m\u001b[0m \u001b[1m2s\u001b[0m 360ms/step - loss: 0.9502 - mae: 0.9502 - mse: 1.6983 - val_loss: 0.6189 - val_mae: 0.6189 - val_mse: 0.6398\n",
            "Epoch 7/100\n",
            "\u001b[1m4/4\u001b[0m \u001b[32m━━━━━━━━━━━━━━━━━━━━\u001b[0m\u001b[37m\u001b[0m \u001b[1m1s\u001b[0m 368ms/step - loss: 0.9206 - mae: 0.9206 - mse: 1.4611 - val_loss: 0.6214 - val_mae: 0.6214 - val_mse: 0.6383\n",
            "Epoch 8/100\n",
            "\u001b[1m4/4\u001b[0m \u001b[32m━━━━━━━━━━━━━━━━━━━━\u001b[0m\u001b[37m\u001b[0m \u001b[1m2s\u001b[0m 430ms/step - loss: 0.9498 - mae: 0.9498 - mse: 1.4724 - val_loss: 0.6253 - val_mae: 0.6253 - val_mse: 0.6435\n",
            "Epoch 9/100\n",
            "\u001b[1m4/4\u001b[0m \u001b[32m━━━━━━━━━━━━━━━━━━━━\u001b[0m\u001b[37m\u001b[0m \u001b[1m2s\u001b[0m 361ms/step - loss: 0.9546 - mae: 0.9546 - mse: 1.6031 - val_loss: 0.6262 - val_mae: 0.6262 - val_mse: 0.6481\n",
            "Epoch 10/100\n",
            "\u001b[1m4/4\u001b[0m \u001b[32m━━━━━━━━━━━━━━━━━━━━\u001b[0m\u001b[37m\u001b[0m \u001b[1m1s\u001b[0m 360ms/step - loss: 0.9054 - mae: 0.9054 - mse: 1.4566 - val_loss: 0.6280 - val_mae: 0.6280 - val_mse: 0.6516\n",
            "Epoch 11/100\n",
            "\u001b[1m4/4\u001b[0m \u001b[32m━━━━━━━━━━━━━━━━━━━━\u001b[0m\u001b[37m\u001b[0m \u001b[1m3s\u001b[0m 473ms/step - loss: 0.8908 - mae: 0.8908 - mse: 1.4376 - val_loss: 0.6268 - val_mae: 0.6268 - val_mse: 0.6498\n",
            "Epoch 12/100\n",
            "\u001b[1m4/4\u001b[0m \u001b[32m━━━━━━━━━━━━━━━━━━━━\u001b[0m\u001b[37m\u001b[0m \u001b[1m2s\u001b[0m 472ms/step - loss: 0.9225 - mae: 0.9225 - mse: 1.4375 - val_loss: 0.6243 - val_mae: 0.6243 - val_mse: 0.6422\n",
            "Epoch 13/100\n",
            "\u001b[1m4/4\u001b[0m \u001b[32m━━━━━━━━━━━━━━━━━━━━\u001b[0m\u001b[37m\u001b[0m \u001b[1m1s\u001b[0m 358ms/step - loss: 0.9115 - mae: 0.9115 - mse: 1.4282 - val_loss: 0.6205 - val_mae: 0.6205 - val_mse: 0.6391\n",
            "Epoch 14/100\n",
            "\u001b[1m4/4\u001b[0m \u001b[32m━━━━━━━━━━━━━━━━━━━━\u001b[0m\u001b[37m\u001b[0m \u001b[1m3s\u001b[0m 358ms/step - loss: 0.8868 - mae: 0.8868 - mse: 1.4561 - val_loss: 0.6175 - val_mae: 0.6175 - val_mse: 0.6376\n",
            "Epoch 15/100\n",
            "\u001b[1m4/4\u001b[0m \u001b[32m━━━━━━━━━━━━━━━━━━━━\u001b[0m\u001b[37m\u001b[0m \u001b[1m3s\u001b[0m 358ms/step - loss: 0.9097 - mae: 0.9097 - mse: 1.4093 - val_loss: 0.6171 - val_mae: 0.6171 - val_mse: 0.6338\n",
            "Epoch 16/100\n",
            "\u001b[1m4/4\u001b[0m \u001b[32m━━━━━━━━━━━━━━━━━━━━\u001b[0m\u001b[37m\u001b[0m \u001b[1m1s\u001b[0m 359ms/step - loss: 0.8686 - mae: 0.8686 - mse: 1.2705 - val_loss: 0.6166 - val_mae: 0.6166 - val_mse: 0.6324\n",
            "Epoch 17/100\n",
            "\u001b[1m4/4\u001b[0m \u001b[32m━━━━━━━━━━━━━━━━━━━━\u001b[0m\u001b[37m\u001b[0m \u001b[1m1s\u001b[0m 361ms/step - loss: 0.8560 - mae: 0.8560 - mse: 1.3150 - val_loss: 0.6192 - val_mae: 0.6192 - val_mse: 0.6319\n",
            "Epoch 18/100\n",
            "\u001b[1m4/4\u001b[0m \u001b[32m━━━━━━━━━━━━━━━━━━━━\u001b[0m\u001b[37m\u001b[0m \u001b[1m2s\u001b[0m 480ms/step - loss: 0.8659 - mae: 0.8659 - mse: 1.4377 - val_loss: 0.6235 - val_mae: 0.6235 - val_mse: 0.6400\n",
            "Epoch 19/100\n",
            "\u001b[1m4/4\u001b[0m \u001b[32m━━━━━━━━━━━━━━━━━━━━\u001b[0m\u001b[37m\u001b[0m \u001b[1m2s\u001b[0m 368ms/step - loss: 0.8514 - mae: 0.8514 - mse: 1.3952 - val_loss: 0.6248 - val_mae: 0.6248 - val_mse: 0.6431\n",
            "Epoch 20/100\n",
            "\u001b[1m4/4\u001b[0m \u001b[32m━━━━━━━━━━━━━━━━━━━━\u001b[0m\u001b[37m\u001b[0m \u001b[1m1s\u001b[0m 361ms/step - loss: 0.9117 - mae: 0.9117 - mse: 1.3688 - val_loss: 0.6241 - val_mae: 0.6241 - val_mse: 0.6372\n",
            "Epoch 21/100\n",
            "\u001b[1m4/4\u001b[0m \u001b[32m━━━━━━━━━━━━━━━━━━━━\u001b[0m\u001b[37m\u001b[0m \u001b[1m3s\u001b[0m 359ms/step - loss: 0.8383 - mae: 0.8383 - mse: 1.3147 - val_loss: 0.6247 - val_mae: 0.6247 - val_mse: 0.6365\n",
            "Epoch 22/100\n",
            "\u001b[1m4/4\u001b[0m \u001b[32m━━━━━━━━━━━━━━━━━━━━\u001b[0m\u001b[37m\u001b[0m \u001b[1m3s\u001b[0m 371ms/step - loss: 0.8521 - mae: 0.8521 - mse: 1.2820 - val_loss: 0.6235 - val_mae: 0.6235 - val_mse: 0.6288\n",
            "Epoch 23/100\n",
            "\u001b[1m4/4\u001b[0m \u001b[32m━━━━━━━━━━━━━━━━━━━━\u001b[0m\u001b[37m\u001b[0m \u001b[1m3s\u001b[0m 413ms/step - loss: 0.8034 - mae: 0.8034 - mse: 1.1735 - val_loss: 0.6195 - val_mae: 0.6195 - val_mse: 0.6234\n",
            "Epoch 24/100\n",
            "\u001b[1m4/4\u001b[0m \u001b[32m━━━━━━━━━━━━━━━━━━━━\u001b[0m\u001b[37m\u001b[0m \u001b[1m2s\u001b[0m 460ms/step - loss: 0.8058 - mae: 0.8058 - mse: 1.2354 - val_loss: 0.6198 - val_mae: 0.6198 - val_mse: 0.6252\n",
            "Epoch 25/100\n",
            "\u001b[1m4/4\u001b[0m \u001b[32m━━━━━━━━━━━━━━━━━━━━\u001b[0m\u001b[37m\u001b[0m \u001b[1m2s\u001b[0m 382ms/step - loss: 0.8698 - mae: 0.8698 - mse: 1.3276 - val_loss: 0.6218 - val_mae: 0.6218 - val_mse: 0.6301\n",
            "Epoch 26/100\n",
            "\u001b[1m4/4\u001b[0m \u001b[32m━━━━━━━━━━━━━━━━━━━━\u001b[0m\u001b[37m\u001b[0m \u001b[1m1s\u001b[0m 359ms/step - loss: 0.8501 - mae: 0.8501 - mse: 1.2268 - val_loss: 0.6338 - val_mae: 0.6338 - val_mse: 0.6475\n",
            "Epoch 27/100\n",
            "\u001b[1m4/4\u001b[0m \u001b[32m━━━━━━━━━━━━━━━━━━━━\u001b[0m\u001b[37m\u001b[0m \u001b[1m1s\u001b[0m 365ms/step - loss: 0.8780 - mae: 0.8780 - mse: 1.3876 - val_loss: 0.6415 - val_mae: 0.6415 - val_mse: 0.6670\n",
            "Epoch 28/100\n",
            "\u001b[1m4/4\u001b[0m \u001b[32m━━━━━━━━━━━━━━━━━━━━\u001b[0m\u001b[37m\u001b[0m \u001b[1m3s\u001b[0m 358ms/step - loss: 0.8950 - mae: 0.8950 - mse: 1.5198 - val_loss: 0.6336 - val_mae: 0.6336 - val_mse: 0.6589\n",
            "Epoch 29/100\n",
            "\u001b[1m4/4\u001b[0m \u001b[32m━━━━━━━━━━━━━━━━━━━━\u001b[0m\u001b[37m\u001b[0m \u001b[1m1s\u001b[0m 364ms/step - loss: 0.8822 - mae: 0.8822 - mse: 1.3749 - val_loss: 0.6292 - val_mae: 0.6292 - val_mse: 0.6445\n",
            "Epoch 30/100\n",
            "\u001b[1m4/4\u001b[0m \u001b[32m━━━━━━━━━━━━━━━━━━━━\u001b[0m\u001b[37m\u001b[0m \u001b[1m1s\u001b[0m 362ms/step - loss: 0.8357 - mae: 0.8357 - mse: 1.2219 - val_loss: 0.6284 - val_mae: 0.6284 - val_mse: 0.6363\n",
            "Epoch 31/100\n",
            "\u001b[1m4/4\u001b[0m \u001b[32m━━━━━━━━━━━━━━━━━━━━\u001b[0m\u001b[37m\u001b[0m \u001b[1m3s\u001b[0m 468ms/step - loss: 0.8131 - mae: 0.8131 - mse: 1.1938 - val_loss: 0.6291 - val_mae: 0.6291 - val_mse: 0.6318\n",
            "Epoch 32/100\n",
            "\u001b[1m4/4\u001b[0m \u001b[32m━━━━━━━━━━━━━━━━━━━━\u001b[0m\u001b[37m\u001b[0m \u001b[1m2s\u001b[0m 357ms/step - loss: 0.8029 - mae: 0.8029 - mse: 1.1391 - val_loss: 0.6263 - val_mae: 0.6263 - val_mse: 0.6289\n",
            "Epoch 33/100\n",
            "\u001b[1m4/4\u001b[0m \u001b[32m━━━━━━━━━━━━━━━━━━━━\u001b[0m\u001b[37m\u001b[0m \u001b[1m3s\u001b[0m 355ms/step - loss: 0.8349 - mae: 0.8349 - mse: 1.2189 - val_loss: 0.6294 - val_mae: 0.6294 - val_mse: 0.6338\n",
            "Epoch 34/100\n",
            "\u001b[1m4/4\u001b[0m \u001b[32m━━━━━━━━━━━━━━━━━━━━\u001b[0m\u001b[37m\u001b[0m \u001b[1m3s\u001b[0m 359ms/step - loss: 0.7656 - mae: 0.7656 - mse: 1.0654 - val_loss: 0.6235 - val_mae: 0.6235 - val_mse: 0.6307\n",
            "Epoch 35/100\n",
            "\u001b[1m4/4\u001b[0m \u001b[32m━━━━━━━━━━━━━━━━━━━━\u001b[0m\u001b[37m\u001b[0m \u001b[1m3s\u001b[0m 357ms/step - loss: 0.8790 - mae: 0.8790 - mse: 1.4088 - val_loss: 0.6244 - val_mae: 0.6244 - val_mse: 0.6316\n",
            "Epoch 36/100\n",
            "\u001b[1m4/4\u001b[0m \u001b[32m━━━━━━━━━━━━━━━━━━━━\u001b[0m\u001b[37m\u001b[0m \u001b[1m3s\u001b[0m 504ms/step - loss: 0.8625 - mae: 0.8625 - mse: 1.3876 - val_loss: 0.6253 - val_mae: 0.6253 - val_mse: 0.6322\n",
            "Epoch 37/100\n",
            "\u001b[1m4/4\u001b[0m \u001b[32m━━━━━━━━━━━━━━━━━━━━\u001b[0m\u001b[37m\u001b[0m \u001b[1m2s\u001b[0m 363ms/step - loss: 0.8525 - mae: 0.8525 - mse: 1.3399 - val_loss: 0.6308 - val_mae: 0.6308 - val_mse: 0.6463\n",
            "Epoch 38/100\n",
            "\u001b[1m4/4\u001b[0m \u001b[32m━━━━━━━━━━━━━━━━━━━━\u001b[0m\u001b[37m\u001b[0m \u001b[1m3s\u001b[0m 411ms/step - loss: 0.7721 - mae: 0.7721 - mse: 1.0137 - val_loss: 0.6364 - val_mae: 0.6364 - val_mse: 0.6531\n",
            "Epoch 39/100\n",
            "\u001b[1m4/4\u001b[0m \u001b[32m━━━━━━━━━━━━━━━━━━━━\u001b[0m\u001b[37m\u001b[0m \u001b[1m3s\u001b[0m 412ms/step - loss: 0.8310 - mae: 0.8310 - mse: 1.2210 - val_loss: 0.6344 - val_mae: 0.6344 - val_mse: 0.6458\n",
            "Epoch 40/100\n",
            "\u001b[1m4/4\u001b[0m \u001b[32m━━━━━━━━━━━━━━━━━━━━\u001b[0m\u001b[37m\u001b[0m \u001b[1m2s\u001b[0m 363ms/step - loss: 0.8193 - mae: 0.8193 - mse: 1.1706 - val_loss: 0.6329 - val_mae: 0.6329 - val_mse: 0.6417\n",
            "Epoch 41/100\n",
            "\u001b[1m4/4\u001b[0m \u001b[32m━━━━━━━━━━━━━━━━━━━━\u001b[0m\u001b[37m\u001b[0m \u001b[1m2s\u001b[0m 391ms/step - loss: 0.8100 - mae: 0.8100 - mse: 1.2402 - val_loss: 0.6338 - val_mae: 0.6338 - val_mse: 0.6455\n",
            "Epoch 42/100\n",
            "\u001b[1m4/4\u001b[0m \u001b[32m━━━━━━━━━━━━━━━━━━━━\u001b[0m\u001b[37m\u001b[0m \u001b[1m3s\u001b[0m 420ms/step - loss: 0.8492 - mae: 0.8492 - mse: 1.3142 - val_loss: 0.6330 - val_mae: 0.6330 - val_mse: 0.6444\n",
            "Epoch 43/100\n",
            "\u001b[1m4/4\u001b[0m \u001b[32m━━━━━━━━━━━━━━━━━━━━\u001b[0m\u001b[37m\u001b[0m \u001b[1m2s\u001b[0m 360ms/step - loss: 0.7669 - mae: 0.7669 - mse: 1.0546 - val_loss: 0.6342 - val_mae: 0.6342 - val_mse: 0.6432\n",
            "Epoch 44/100\n",
            "\u001b[1m4/4\u001b[0m \u001b[32m━━━━━━━━━━━━━━━━━━━━\u001b[0m\u001b[37m\u001b[0m \u001b[1m1s\u001b[0m 362ms/step - loss: 0.7435 - mae: 0.7435 - mse: 0.9841 - val_loss: 0.6377 - val_mae: 0.6377 - val_mse: 0.6460\n",
            "Epoch 45/100\n",
            "\u001b[1m4/4\u001b[0m \u001b[32m━━━━━━━━━━━━━━━━━━━━\u001b[0m\u001b[37m\u001b[0m \u001b[1m3s\u001b[0m 400ms/step - loss: 0.7729 - mae: 0.7729 - mse: 1.0974 - val_loss: 0.6513 - val_mae: 0.6513 - val_mse: 0.6621\n",
            "Epoch 46/100\n",
            "\u001b[1m4/4\u001b[0m \u001b[32m━━━━━━━━━━━━━━━━━━━━\u001b[0m\u001b[37m\u001b[0m \u001b[1m3s\u001b[0m 406ms/step - loss: 0.8019 - mae: 0.8019 - mse: 1.2604 - val_loss: 0.6510 - val_mae: 0.6510 - val_mse: 0.6618\n",
            "Epoch 47/100\n",
            "\u001b[1m4/4\u001b[0m \u001b[32m━━━━━━━━━━━━━━━━━━━━\u001b[0m\u001b[37m\u001b[0m \u001b[1m3s\u001b[0m 510ms/step - loss: 0.8442 - mae: 0.8442 - mse: 1.1932 - val_loss: 0.6362 - val_mae: 0.6362 - val_mse: 0.6490\n",
            "Epoch 48/100\n",
            "\u001b[1m4/4\u001b[0m \u001b[32m━━━━━━━━━━━━━━━━━━━━\u001b[0m\u001b[37m\u001b[0m \u001b[1m2s\u001b[0m 361ms/step - loss: 0.7957 - mae: 0.7957 - mse: 1.0714 - val_loss: 0.6272 - val_mae: 0.6272 - val_mse: 0.6474\n",
            "Epoch 49/100\n",
            "\u001b[1m4/4\u001b[0m \u001b[32m━━━━━━━━━━━━━━━━━━━━\u001b[0m\u001b[37m\u001b[0m \u001b[1m1s\u001b[0m 362ms/step - loss: 0.8224 - mae: 0.8224 - mse: 1.1800 - val_loss: 0.6317 - val_mae: 0.6317 - val_mse: 0.6592\n",
            "Epoch 50/100\n",
            "\u001b[1m4/4\u001b[0m \u001b[32m━━━━━━━━━━━━━━━━━━━━\u001b[0m\u001b[37m\u001b[0m \u001b[1m3s\u001b[0m 418ms/step - loss: 0.7948 - mae: 0.7948 - mse: 1.1223 - val_loss: 0.6423 - val_mae: 0.6423 - val_mse: 0.6718\n",
            "Epoch 51/100\n",
            "\u001b[1m4/4\u001b[0m \u001b[32m━━━━━━━━━━━━━━━━━━━━\u001b[0m\u001b[37m\u001b[0m \u001b[1m1s\u001b[0m 364ms/step - loss: 0.7959 - mae: 0.7959 - mse: 1.1226 - val_loss: 0.6366 - val_mae: 0.6366 - val_mse: 0.6591\n",
            "Epoch 52/100\n",
            "\u001b[1m4/4\u001b[0m \u001b[32m━━━━━━━━━━━━━━━━━━━━\u001b[0m\u001b[37m\u001b[0m \u001b[1m1s\u001b[0m 363ms/step - loss: 0.7972 - mae: 0.7972 - mse: 1.1719 - val_loss: 0.6238 - val_mae: 0.6238 - val_mse: 0.6481\n",
            "Epoch 53/100\n",
            "\u001b[1m4/4\u001b[0m \u001b[32m━━━━━━━━━━━━━━━━━━━━\u001b[0m\u001b[37m\u001b[0m \u001b[1m3s\u001b[0m 456ms/step - loss: 0.7678 - mae: 0.7678 - mse: 1.0784 - val_loss: 0.6299 - val_mae: 0.6299 - val_mse: 0.6622\n",
            "Epoch 54/100\n",
            "\u001b[1m4/4\u001b[0m \u001b[32m━━━━━━━━━━━━━━━━━━━━\u001b[0m\u001b[37m\u001b[0m \u001b[1m2s\u001b[0m 402ms/step - loss: 0.8125 - mae: 0.8125 - mse: 1.1931 - val_loss: 0.6397 - val_mae: 0.6397 - val_mse: 0.6799\n",
            "Epoch 55/100\n",
            "\u001b[1m4/4\u001b[0m \u001b[32m━━━━━━━━━━━━━━━━━━━━\u001b[0m\u001b[37m\u001b[0m \u001b[1m2s\u001b[0m 364ms/step - loss: 0.7796 - mae: 0.7796 - mse: 1.0846 - val_loss: 0.6505 - val_mae: 0.6505 - val_mse: 0.6839\n",
            "Epoch 56/100\n",
            "\u001b[1m4/4\u001b[0m \u001b[32m━━━━━━━━━━━━━━━━━━━━\u001b[0m\u001b[37m\u001b[0m \u001b[1m1s\u001b[0m 366ms/step - loss: 0.7453 - mae: 0.7453 - mse: 1.0611 - val_loss: 0.6526 - val_mae: 0.6526 - val_mse: 0.6766\n",
            "Epoch 57/100\n",
            "\u001b[1m4/4\u001b[0m \u001b[32m━━━━━━━━━━━━━━━━━━━━\u001b[0m\u001b[37m\u001b[0m \u001b[1m3s\u001b[0m 364ms/step - loss: 0.7481 - mae: 0.7481 - mse: 0.9924 - val_loss: 0.6492 - val_mae: 0.6492 - val_mse: 0.6660\n",
            "Epoch 58/100\n",
            "\u001b[1m4/4\u001b[0m \u001b[32m━━━━━━━━━━━━━━━━━━━━\u001b[0m\u001b[37m\u001b[0m \u001b[1m1s\u001b[0m 360ms/step - loss: 0.7706 - mae: 0.7706 - mse: 1.0906 - val_loss: 0.6467 - val_mae: 0.6467 - val_mse: 0.6657\n",
            "Epoch 59/100\n",
            "\u001b[1m4/4\u001b[0m \u001b[32m━━━━━━━━━━━━━━━━━━━━\u001b[0m\u001b[37m\u001b[0m \u001b[1m3s\u001b[0m 453ms/step - loss: 0.7824 - mae: 0.7824 - mse: 1.0787 - val_loss: 0.6365 - val_mae: 0.6365 - val_mse: 0.6528\n",
            "Epoch 60/100\n",
            "\u001b[1m4/4\u001b[0m \u001b[32m━━━━━━━━━━━━━━━━━━━━\u001b[0m\u001b[37m\u001b[0m \u001b[1m2s\u001b[0m 361ms/step - loss: 0.7661 - mae: 0.7661 - mse: 1.0921 - val_loss: 0.6371 - val_mae: 0.6371 - val_mse: 0.6520\n",
            "Epoch 61/100\n",
            "\u001b[1m4/4\u001b[0m \u001b[32m━━━━━━━━━━━━━━━━━━━━\u001b[0m\u001b[37m\u001b[0m \u001b[1m1s\u001b[0m 357ms/step - loss: 0.7743 - mae: 0.7743 - mse: 1.0840 - val_loss: 0.6383 - val_mae: 0.6383 - val_mse: 0.6533\n",
            "Epoch 62/100\n",
            "\u001b[1m4/4\u001b[0m \u001b[32m━━━━━━━━━━━━━━━━━━━━\u001b[0m\u001b[37m\u001b[0m \u001b[1m3s\u001b[0m 361ms/step - loss: 0.7781 - mae: 0.7781 - mse: 1.1246 - val_loss: 0.6326 - val_mae: 0.6326 - val_mse: 0.6515\n",
            "Epoch 63/100\n",
            "\u001b[1m4/4\u001b[0m \u001b[32m━━━━━━━━━━━━━━━━━━━━\u001b[0m\u001b[37m\u001b[0m \u001b[1m3s\u001b[0m 361ms/step - loss: 0.7248 - mae: 0.7248 - mse: 0.9800 - val_loss: 0.6300 - val_mae: 0.6300 - val_mse: 0.6505\n",
            "Epoch 64/100\n",
            "\u001b[1m4/4\u001b[0m \u001b[32m━━━━━━━━━━━━━━━━━━━━\u001b[0m\u001b[37m\u001b[0m \u001b[1m1s\u001b[0m 367ms/step - loss: 0.7465 - mae: 0.7465 - mse: 0.9910 - val_loss: 0.6339 - val_mae: 0.6339 - val_mse: 0.6608\n",
            "Epoch 65/100\n",
            "\u001b[1m4/4\u001b[0m \u001b[32m━━━━━━━━━━━━━━━━━━━━\u001b[0m\u001b[37m\u001b[0m \u001b[1m2s\u001b[0m 463ms/step - loss: 0.7008 - mae: 0.7008 - mse: 0.9703 - val_loss: 0.6416 - val_mae: 0.6416 - val_mse: 0.6771\n",
            "Epoch 66/100\n",
            "\u001b[1m4/4\u001b[0m \u001b[32m━━━━━━━━━━━━━━━━━━━━\u001b[0m\u001b[37m\u001b[0m \u001b[1m2s\u001b[0m 508ms/step - loss: 0.7561 - mae: 0.7561 - mse: 1.0682 - val_loss: 0.6429 - val_mae: 0.6429 - val_mse: 0.6784\n",
            "Epoch 67/100\n",
            "\u001b[1m4/4\u001b[0m \u001b[32m━━━━━━━━━━━━━━━━━━━━\u001b[0m\u001b[37m\u001b[0m \u001b[1m1s\u001b[0m 364ms/step - loss: 0.7321 - mae: 0.7321 - mse: 1.0257 - val_loss: 0.6438 - val_mae: 0.6438 - val_mse: 0.6744\n",
            "Epoch 68/100\n",
            "\u001b[1m4/4\u001b[0m \u001b[32m━━━━━━━━━━━━━━━━━━━━\u001b[0m\u001b[37m\u001b[0m \u001b[1m1s\u001b[0m 364ms/step - loss: 0.7438 - mae: 0.7438 - mse: 0.9731 - val_loss: 0.6530 - val_mae: 0.6530 - val_mse: 0.6810\n",
            "Epoch 69/100\n",
            "\u001b[1m4/4\u001b[0m \u001b[32m━━━━━━━━━━━━━━━━━━━━\u001b[0m\u001b[37m\u001b[0m \u001b[1m3s\u001b[0m 359ms/step - loss: 0.7656 - mae: 0.7656 - mse: 1.0446 - val_loss: 0.6634 - val_mae: 0.6634 - val_mse: 0.6963\n",
            "Epoch 70/100\n",
            "\u001b[1m4/4\u001b[0m \u001b[32m━━━━━━━━━━━━━━━━━━━━\u001b[0m\u001b[37m\u001b[0m \u001b[1m1s\u001b[0m 359ms/step - loss: 0.7431 - mae: 0.7431 - mse: 0.9530 - val_loss: 0.6701 - val_mae: 0.6701 - val_mse: 0.7077\n",
            "Epoch 71/100\n",
            "\u001b[1m4/4\u001b[0m \u001b[32m━━━━━━━━━━━━━━━━━━━━\u001b[0m\u001b[37m\u001b[0m \u001b[1m1s\u001b[0m 361ms/step - loss: 0.7764 - mae: 0.7764 - mse: 1.1443 - val_loss: 0.6730 - val_mae: 0.6730 - val_mse: 0.7082\n",
            "Epoch 72/100\n",
            "\u001b[1m4/4\u001b[0m \u001b[32m━━━━━━━━━━━━━━━━━━━━\u001b[0m\u001b[37m\u001b[0m \u001b[1m1s\u001b[0m 366ms/step - loss: 0.7075 - mae: 0.7075 - mse: 0.9951 - val_loss: 0.6760 - val_mae: 0.6760 - val_mse: 0.7119\n",
            "Epoch 73/100\n",
            "\u001b[1m4/4\u001b[0m \u001b[32m━━━━━━━━━━━━━━━━━━━━\u001b[0m\u001b[37m\u001b[0m \u001b[1m2s\u001b[0m 456ms/step - loss: 0.7352 - mae: 0.7352 - mse: 0.9987 - val_loss: 0.6735 - val_mae: 0.6735 - val_mse: 0.7108\n",
            "Epoch 74/100\n",
            "\u001b[1m4/4\u001b[0m \u001b[32m━━━━━━━━━━━━━━━━━━━━\u001b[0m\u001b[37m\u001b[0m \u001b[1m2s\u001b[0m 433ms/step - loss: 0.7012 - mae: 0.7012 - mse: 0.9082 - val_loss: 0.6604 - val_mae: 0.6604 - val_mse: 0.6951\n",
            "Epoch 75/100\n",
            "\u001b[1m4/4\u001b[0m \u001b[32m━━━━━━━━━━━━━━━━━━━━\u001b[0m\u001b[37m\u001b[0m \u001b[1m2s\u001b[0m 371ms/step - loss: 0.7685 - mae: 0.7685 - mse: 1.1185 - val_loss: 0.6590 - val_mae: 0.6590 - val_mse: 0.7020\n",
            "Epoch 76/100\n",
            "\u001b[1m4/4\u001b[0m \u001b[32m━━━━━━━━━━━━━━━━━━━━\u001b[0m\u001b[37m\u001b[0m \u001b[1m3s\u001b[0m 363ms/step - loss: 0.7046 - mae: 0.7046 - mse: 0.9254 - val_loss: 0.6607 - val_mae: 0.6607 - val_mse: 0.7048\n",
            "Epoch 77/100\n",
            "\u001b[1m4/4\u001b[0m \u001b[32m━━━━━━━━━━━━━━━━━━━━\u001b[0m\u001b[37m\u001b[0m \u001b[1m3s\u001b[0m 360ms/step - loss: 0.7335 - mae: 0.7335 - mse: 0.9261 - val_loss: 0.6605 - val_mae: 0.6605 - val_mse: 0.7013\n",
            "Epoch 78/100\n",
            "\u001b[1m4/4\u001b[0m \u001b[32m━━━━━━━━━━━━━━━━━━━━\u001b[0m\u001b[37m\u001b[0m \u001b[1m3s\u001b[0m 430ms/step - loss: 0.6983 - mae: 0.6983 - mse: 0.8880 - val_loss: 0.6575 - val_mae: 0.6575 - val_mse: 0.6977\n",
            "Epoch 79/100\n",
            "\u001b[1m4/4\u001b[0m \u001b[32m━━━━━━━━━━━━━━━━━━━━\u001b[0m\u001b[37m\u001b[0m \u001b[1m3s\u001b[0m 407ms/step - loss: 0.7211 - mae: 0.7211 - mse: 1.0128 - val_loss: 0.6634 - val_mae: 0.6634 - val_mse: 0.7060\n",
            "Epoch 80/100\n",
            "\u001b[1m4/4\u001b[0m \u001b[32m━━━━━━━━━━━━━━━━━━━━\u001b[0m\u001b[37m\u001b[0m \u001b[1m1s\u001b[0m 363ms/step - loss: 0.7295 - mae: 0.7295 - mse: 1.0453 - val_loss: 0.6745 - val_mae: 0.6745 - val_mse: 0.7263\n",
            "Epoch 81/100\n",
            "\u001b[1m4/4\u001b[0m \u001b[32m━━━━━━━━━━━━━━━━━━━━\u001b[0m\u001b[37m\u001b[0m \u001b[1m1s\u001b[0m 362ms/step - loss: 0.7295 - mae: 0.7295 - mse: 1.0328 - val_loss: 0.6901 - val_mae: 0.6901 - val_mse: 0.7585\n",
            "Epoch 82/100\n",
            "\u001b[1m4/4\u001b[0m \u001b[32m━━━━━━━━━━━━━━━━━━━━\u001b[0m\u001b[37m\u001b[0m \u001b[1m3s\u001b[0m 366ms/step - loss: 0.6930 - mae: 0.6930 - mse: 0.9278 - val_loss: 0.6867 - val_mae: 0.6867 - val_mse: 0.7590\n",
            "Epoch 83/100\n",
            "\u001b[1m4/4\u001b[0m \u001b[32m━━━━━━━━━━━━━━━━━━━━\u001b[0m\u001b[37m\u001b[0m \u001b[1m1s\u001b[0m 361ms/step - loss: 0.7085 - mae: 0.7085 - mse: 0.9953 - val_loss: 0.6688 - val_mae: 0.6688 - val_mse: 0.7357\n",
            "Epoch 84/100\n",
            "\u001b[1m4/4\u001b[0m \u001b[32m━━━━━━━━━━━━━━━━━━━━\u001b[0m\u001b[37m\u001b[0m \u001b[1m1s\u001b[0m 361ms/step - loss: 0.7096 - mae: 0.7096 - mse: 0.9928 - val_loss: 0.6593 - val_mae: 0.6593 - val_mse: 0.7258\n",
            "Epoch 85/100\n",
            "\u001b[1m4/4\u001b[0m \u001b[32m━━━━━━━━━━━━━━━━━━━━\u001b[0m\u001b[37m\u001b[0m \u001b[1m3s\u001b[0m 500ms/step - loss: 0.7486 - mae: 0.7486 - mse: 0.9599 - val_loss: 0.6610 - val_mae: 0.6610 - val_mse: 0.7278\n",
            "Epoch 86/100\n",
            "\u001b[1m4/4\u001b[0m \u001b[32m━━━━━━━━━━━━━━━━━━━━\u001b[0m\u001b[37m\u001b[0m \u001b[1m2s\u001b[0m 417ms/step - loss: 0.6839 - mae: 0.6839 - mse: 0.8603 - val_loss: 0.6553 - val_mae: 0.6553 - val_mse: 0.7211\n",
            "Epoch 87/100\n",
            "\u001b[1m4/4\u001b[0m \u001b[32m━━━━━━━━━━━━━━━━━━━━\u001b[0m\u001b[37m\u001b[0m \u001b[1m2s\u001b[0m 361ms/step - loss: 0.7079 - mae: 0.7079 - mse: 0.9847 - val_loss: 0.6481 - val_mae: 0.6481 - val_mse: 0.7155\n",
            "Epoch 88/100\n",
            "\u001b[1m4/4\u001b[0m \u001b[32m━━━━━━━━━━━━━━━━━━━━\u001b[0m\u001b[37m\u001b[0m \u001b[1m1s\u001b[0m 360ms/step - loss: 0.7112 - mae: 0.7112 - mse: 0.9509 - val_loss: 0.6587 - val_mae: 0.6587 - val_mse: 0.7202\n",
            "Epoch 89/100\n",
            "\u001b[1m4/4\u001b[0m \u001b[32m━━━━━━━━━━━━━━━━━━━━\u001b[0m\u001b[37m\u001b[0m \u001b[1m3s\u001b[0m 362ms/step - loss: 0.7471 - mae: 0.7471 - mse: 1.0709 - val_loss: 0.6764 - val_mae: 0.6764 - val_mse: 0.7427\n",
            "Epoch 90/100\n",
            "\u001b[1m4/4\u001b[0m \u001b[32m━━━━━━━━━━━━━━━━━━━━\u001b[0m\u001b[37m\u001b[0m \u001b[1m1s\u001b[0m 362ms/step - loss: 0.7063 - mae: 0.7063 - mse: 0.9170 - val_loss: 0.6903 - val_mae: 0.6903 - val_mse: 0.7644\n",
            "Epoch 91/100\n",
            "\u001b[1m4/4\u001b[0m \u001b[32m━━━━━━━━━━━━━━━━━━━━\u001b[0m\u001b[37m\u001b[0m \u001b[1m2s\u001b[0m 497ms/step - loss: 0.7306 - mae: 0.7306 - mse: 0.9956 - val_loss: 0.6862 - val_mae: 0.6862 - val_mse: 0.7630\n",
            "Epoch 92/100\n",
            "\u001b[1m4/4\u001b[0m \u001b[32m━━━━━━━━━━━━━━━━━━━━\u001b[0m\u001b[37m\u001b[0m \u001b[1m2s\u001b[0m 443ms/step - loss: 0.7075 - mae: 0.7075 - mse: 0.8724 - val_loss: 0.6785 - val_mae: 0.6785 - val_mse: 0.7604\n",
            "Epoch 93/100\n",
            "\u001b[1m4/4\u001b[0m \u001b[32m━━━━━━━━━━━━━━━━━━━━\u001b[0m\u001b[37m\u001b[0m \u001b[1m2s\u001b[0m 358ms/step - loss: 0.7123 - mae: 0.7123 - mse: 0.9425 - val_loss: 0.6690 - val_mae: 0.6690 - val_mse: 0.7513\n",
            "Epoch 94/100\n",
            "\u001b[1m4/4\u001b[0m \u001b[32m━━━━━━━━━━━━━━━━━━━━\u001b[0m\u001b[37m\u001b[0m \u001b[1m1s\u001b[0m 363ms/step - loss: 0.7239 - mae: 0.7239 - mse: 0.9878 - val_loss: 0.6674 - val_mae: 0.6674 - val_mse: 0.7482\n",
            "Epoch 95/100\n",
            "\u001b[1m4/4\u001b[0m \u001b[32m━━━━━━━━━━━━━━━━━━━━\u001b[0m\u001b[37m\u001b[0m \u001b[1m1s\u001b[0m 361ms/step - loss: 0.7202 - mae: 0.7202 - mse: 1.0707 - val_loss: 0.6609 - val_mae: 0.6609 - val_mse: 0.7367\n",
            "Epoch 96/100\n",
            "\u001b[1m4/4\u001b[0m \u001b[32m━━━━━━━━━━━━━━━━━━━━\u001b[0m\u001b[37m\u001b[0m \u001b[1m1s\u001b[0m 361ms/step - loss: 0.6777 - mae: 0.6777 - mse: 0.8988 - val_loss: 0.6616 - val_mae: 0.6616 - val_mse: 0.7372\n",
            "Epoch 97/100\n",
            "\u001b[1m4/4\u001b[0m \u001b[32m━━━━━━━━━━━━━━━━━━━━\u001b[0m\u001b[37m\u001b[0m \u001b[1m1s\u001b[0m 365ms/step - loss: 0.7064 - mae: 0.7064 - mse: 1.0060 - val_loss: 0.6668 - val_mae: 0.6668 - val_mse: 0.7474\n",
            "Epoch 98/100\n",
            "\u001b[1m4/4\u001b[0m \u001b[32m━━━━━━━━━━━━━━━━━━━━\u001b[0m\u001b[37m\u001b[0m \u001b[1m3s\u001b[0m 486ms/step - loss: 0.6862 - mae: 0.6862 - mse: 0.9410 - val_loss: 0.6752 - val_mae: 0.6752 - val_mse: 0.7630\n",
            "Epoch 99/100\n",
            "\u001b[1m4/4\u001b[0m \u001b[32m━━━━━━━━━━━━━━━━━━━━\u001b[0m\u001b[37m\u001b[0m \u001b[1m2s\u001b[0m 379ms/step - loss: 0.6961 - mae: 0.6961 - mse: 0.9360 - val_loss: 0.6851 - val_mae: 0.6851 - val_mse: 0.7802\n",
            "Epoch 100/100\n",
            "\u001b[1m4/4\u001b[0m \u001b[32m━━━━━━━━━━━━━━━━━━━━\u001b[0m\u001b[37m\u001b[0m \u001b[1m1s\u001b[0m 362ms/step - loss: 0.6758 - mae: 0.6758 - mse: 0.9302 - val_loss: 0.6856 - val_mae: 0.6856 - val_mse: 0.7840\n"
          ]
        }
      ]
    },
    {
      "cell_type": "code",
      "source": [
        "# ✅ Predict on Test Data\n",
        "y_pred = model.predict(X_3Dtest)\n"
      ],
      "metadata": {
        "colab": {
          "base_uri": "https://localhost:8080/"
        },
        "id": "5hQLJTXP-8lZ",
        "outputId": "f42daa84-7ef2-47a2-e8fc-e6db4b057246"
      },
      "execution_count": 23,
      "outputs": [
        {
          "output_type": "stream",
          "name": "stdout",
          "text": [
            "\u001b[1m4/4\u001b[0m \u001b[32m━━━━━━━━━━━━━━━━━━━━\u001b[0m\u001b[37m\u001b[0m \u001b[1m1s\u001b[0m 194ms/step\n"
          ]
        }
      ]
    },
    {
      "cell_type": "code",
      "source": [
        "# ✅ Inverse Transform Predictions\n",
        "y_pred_original = target_scaler.inverse_transform(y_pred)\n",
        "y_test_original = target_scaler.inverse_transform(y_test)\n"
      ],
      "metadata": {
        "id": "LaWAezzO_DGD"
      },
      "execution_count": 24,
      "outputs": []
    },
    {
      "cell_type": "code",
      "source": [
        "# ✅ Compute MSE and MAE (Original Scale)\n",
        "final_mse = mean_squared_error(y_test_original, y_pred_original)\n",
        "final_mae = mean_absolute_error(y_test_original, y_pred_original)\n"
      ],
      "metadata": {
        "id": "1YSKK-xH_Hjw"
      },
      "execution_count": 25,
      "outputs": []
    },
    {
      "cell_type": "code",
      "source": [
        "print(f\"✅ Final MSE: {final_mse:.4f}\")\n",
        "print(f\"✅ Final MAE: {final_mae:.4f}\")\n"
      ],
      "metadata": {
        "colab": {
          "base_uri": "https://localhost:8080/"
        },
        "id": "pjXaRemJ_MNB",
        "outputId": "bec5f532-f13c-4ba8-c619-18140f9184ff"
      },
      "execution_count": 26,
      "outputs": [
        {
          "output_type": "stream",
          "name": "stdout",
          "text": [
            "✅ Final MSE: 313.6974\n",
            "✅ Final MAE: 13.7143\n"
          ]
        }
      ]
    },
    {
      "cell_type": "code",
      "source": [
        "y_pred_original"
      ],
      "metadata": {
        "colab": {
          "base_uri": "https://localhost:8080/"
        },
        "id": "bC1jpOIB_PPf",
        "outputId": "daf345eb-63f3-4e70-ecda-bb41d40b8bdb"
      },
      "execution_count": 27,
      "outputs": [
        {
          "output_type": "execute_result",
          "data": {
            "text/plain": [
              "array([[118.70688 ],\n",
              "       [132.41824 ],\n",
              "       [118.04439 ],\n",
              "       [129.7855  ],\n",
              "       [124.89556 ],\n",
              "       [128.50716 ],\n",
              "       [121.20411 ],\n",
              "       [129.48796 ],\n",
              "       [126.94549 ],\n",
              "       [136.07481 ],\n",
              "       [123.81502 ],\n",
              "       [108.40961 ],\n",
              "       [120.167046],\n",
              "       [102.686966],\n",
              "       [109.80446 ],\n",
              "       [124.287575],\n",
              "       [114.06066 ],\n",
              "       [111.99482 ],\n",
              "       [140.04596 ],\n",
              "       [115.24819 ],\n",
              "       [120.37448 ],\n",
              "       [131.73383 ],\n",
              "       [124.4822  ],\n",
              "       [131.62526 ],\n",
              "       [135.38388 ],\n",
              "       [127.25468 ],\n",
              "       [120.987045],\n",
              "       [123.450226],\n",
              "       [132.65494 ],\n",
              "       [121.55973 ],\n",
              "       [109.81707 ],\n",
              "       [119.438065],\n",
              "       [134.11374 ],\n",
              "       [116.38183 ],\n",
              "       [103.055275],\n",
              "       [121.3205  ],\n",
              "       [125.78784 ],\n",
              "       [102.31219 ],\n",
              "       [160.1311  ],\n",
              "       [114.64172 ],\n",
              "       [120.90366 ],\n",
              "       [126.58481 ],\n",
              "       [141.99794 ],\n",
              "       [121.81184 ],\n",
              "       [117.98112 ],\n",
              "       [122.389015],\n",
              "       [119.86964 ],\n",
              "       [143.2443  ],\n",
              "       [126.02543 ],\n",
              "       [121.0177  ],\n",
              "       [130.67574 ],\n",
              "       [118.685356],\n",
              "       [133.45024 ],\n",
              "       [130.1103  ],\n",
              "       [124.70946 ],\n",
              "       [123.76915 ],\n",
              "       [111.84071 ],\n",
              "       [128.65497 ],\n",
              "       [124.563385],\n",
              "       [124.04917 ],\n",
              "       [122.44999 ],\n",
              "       [125.56622 ],\n",
              "       [118.38944 ],\n",
              "       [124.55563 ],\n",
              "       [117.53578 ],\n",
              "       [133.61522 ],\n",
              "       [121.099205],\n",
              "       [133.76724 ],\n",
              "       [126.20088 ],\n",
              "       [108.21337 ],\n",
              "       [129.68471 ],\n",
              "       [114.118904],\n",
              "       [126.19429 ],\n",
              "       [119.25972 ],\n",
              "       [126.42721 ],\n",
              "       [126.62274 ],\n",
              "       [126.126686],\n",
              "       [127.290245],\n",
              "       [132.76488 ],\n",
              "       [130.71375 ],\n",
              "       [128.11119 ],\n",
              "       [129.60342 ],\n",
              "       [129.84839 ],\n",
              "       [136.69736 ],\n",
              "       [138.841   ],\n",
              "       [128.58894 ],\n",
              "       [126.81456 ],\n",
              "       [124.409996],\n",
              "       [130.785   ],\n",
              "       [115.33173 ],\n",
              "       [113.39682 ],\n",
              "       [116.371666],\n",
              "       [122.891525],\n",
              "       [140.42499 ],\n",
              "       [117.58598 ],\n",
              "       [120.22331 ],\n",
              "       [121.962975],\n",
              "       [131.54549 ],\n",
              "       [124.19461 ],\n",
              "       [124.12047 ],\n",
              "       [122.82339 ],\n",
              "       [111.97738 ],\n",
              "       [113.898674],\n",
              "       [124.7124  ],\n",
              "       [124.798676],\n",
              "       [116.022964],\n",
              "       [110.6782  ],\n",
              "       [134.15285 ]], dtype=float32)"
            ]
          },
          "metadata": {},
          "execution_count": 27
        }
      ]
    },
    {
      "cell_type": "code",
      "source": [
        "y_test_original"
      ],
      "metadata": {
        "colab": {
          "base_uri": "https://localhost:8080/"
        },
        "id": "TB9ZY1fI_TQM",
        "outputId": "932cafd3-40f7-4e25-c0db-3fccb4f7c386"
      },
      "execution_count": 28,
      "outputs": [
        {
          "output_type": "execute_result",
          "data": {
            "text/plain": [
              "array([[141.],\n",
              "       [124.],\n",
              "       [137.],\n",
              "       [115.],\n",
              "       [113.],\n",
              "       [111.],\n",
              "       [135.],\n",
              "       [151.],\n",
              "       [115.],\n",
              "       [129.],\n",
              "       [112.],\n",
              "       [179.],\n",
              "       [118.],\n",
              "       [113.],\n",
              "       [140.],\n",
              "       [119.],\n",
              "       [122.],\n",
              "       [ 96.],\n",
              "       [105.],\n",
              "       [127.],\n",
              "       [147.],\n",
              "       [125.],\n",
              "       [126.],\n",
              "       [126.],\n",
              "       [111.],\n",
              "       [122.],\n",
              "       [132.],\n",
              "       [118.],\n",
              "       [122.],\n",
              "       [125.],\n",
              "       [112.],\n",
              "       [115.],\n",
              "       [142.],\n",
              "       [132.],\n",
              "       [129.],\n",
              "       [117.],\n",
              "       [106.],\n",
              "       [122.],\n",
              "       [159.],\n",
              "       [124.],\n",
              "       [118.],\n",
              "       [124.],\n",
              "       [143.],\n",
              "       [119.],\n",
              "       [140.],\n",
              "       [134.],\n",
              "       [101.],\n",
              "       [147.],\n",
              "       [116.],\n",
              "       [125.],\n",
              "       [114.],\n",
              "       [118.],\n",
              "       [115.],\n",
              "       [126.],\n",
              "       [135.],\n",
              "       [112.],\n",
              "       [124.],\n",
              "       [125.],\n",
              "       [130.],\n",
              "       [147.],\n",
              "       [142.],\n",
              "       [147.],\n",
              "       [105.],\n",
              "       [ 95.],\n",
              "       [ 96.],\n",
              "       [112.],\n",
              "       [109.],\n",
              "       [127.],\n",
              "       [112.],\n",
              "       [153.],\n",
              "       [136.],\n",
              "       [115.],\n",
              "       [157.],\n",
              "       [125.],\n",
              "       [149.],\n",
              "       [175.],\n",
              "       [105.],\n",
              "       [129.],\n",
              "       [126.],\n",
              "       [131.],\n",
              "       [133.],\n",
              "       [117.],\n",
              "       [115.],\n",
              "       [104.],\n",
              "       [121.],\n",
              "       [135.],\n",
              "       [138.],\n",
              "       [119.],\n",
              "       [123.],\n",
              "       [118.],\n",
              "       [118.],\n",
              "       [138.],\n",
              "       [155.],\n",
              "       [140.],\n",
              "       [ 98.],\n",
              "       [130.],\n",
              "       [137.],\n",
              "       [134.],\n",
              "       [136.],\n",
              "       [ 99.],\n",
              "       [118.],\n",
              "       [ 95.],\n",
              "       [ 99.],\n",
              "       [ 95.],\n",
              "       [115.],\n",
              "       [126.],\n",
              "       [121.],\n",
              "       [104.]], dtype=float32)"
            ]
          },
          "metadata": {},
          "execution_count": 28
        }
      ]
    },
    {
      "cell_type": "code",
      "source": [
        "correlation = np.corrcoef(y_test_original[:, 0], y_pred_original[:, 0])[0, 1]  # Assuming Omron Systolic is in the first column\n"
      ],
      "metadata": {
        "id": "YSFWHblA_Z5t"
      },
      "execution_count": 37,
      "outputs": []
    },
    {
      "cell_type": "code",
      "source": [
        "Correlation = correlation*100"
      ],
      "metadata": {
        "id": "WJuIiaAsAGUx"
      },
      "execution_count": 38,
      "outputs": []
    },
    {
      "cell_type": "code",
      "source": [
        "print(f\"Correlation between y_test_original and y_pred_original: {Correlation}\")"
      ],
      "metadata": {
        "colab": {
          "base_uri": "https://localhost:8080/"
        },
        "id": "pGVYFJTgAK8F",
        "outputId": "2a1d7043-cee4-4af1-f036-34b8942d5045"
      },
      "execution_count": 39,
      "outputs": [
        {
          "output_type": "stream",
          "name": "stdout",
          "text": [
            "Correlation between y_test_original and y_pred_original: 11.315882688408335\n"
          ]
        }
      ]
    },
    {
      "cell_type": "code",
      "source": [
        "# ✅ Graphical Representation\n",
        "plt.figure(figsize=(12, 5))\n",
        "\n",
        "# Plot Omron Diastolic\n",
        "plt.subplot(1, 2, 1)\n",
        "plt.plot(y_test_original[:, 0], label=\"Actual Diastolic\", marker='o')\n",
        "plt.plot(y_pred_original[:, 0], label=\"Predicted Diastolic\", linestyle='dashed', marker='s')\n",
        "plt.xlabel(\"Sample Index\")\n",
        "plt.ylabel(\"Omron Systolic Value\")\n",
        "plt.legend()\n",
        "plt.title(\"Omron Systolic Prediction\")\n"
      ],
      "metadata": {
        "id": "cHI-hgL0_d15"
      },
      "execution_count": null,
      "outputs": []
    }
  ]
}